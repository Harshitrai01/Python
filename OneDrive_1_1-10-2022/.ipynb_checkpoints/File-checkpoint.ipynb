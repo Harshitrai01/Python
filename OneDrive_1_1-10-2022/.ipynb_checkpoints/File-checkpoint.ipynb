{
 "cells": [
  {
   "cell_type": "markdown",
   "metadata": {},
   "source": [
    "# File Handling"
   ]
  },
  {
   "cell_type": "code",
   "execution_count": null,
   "metadata": {},
   "outputs": [],
   "source": [
    "# Absulute path \n",
    "# Drawback - Your file should be at same path\n",
    "fp = open(r\"D:\\2021-22\\Python\\Lab\\csds.txt\")"
   ]
  },
  {
   "cell_type": "code",
   "execution_count": null,
   "metadata": {},
   "outputs": [],
   "source": [
    "# relative Path\n",
    "\n",
    "fp = open(\"csds.txt\")"
   ]
  },
  {
   "cell_type": "code",
   "execution_count": null,
   "metadata": {},
   "outputs": [],
   "source": [
    "fp.read(5)"
   ]
  },
  {
   "cell_type": "code",
   "execution_count": null,
   "metadata": {},
   "outputs": [],
   "source": [
    "fp.readline()"
   ]
  },
  {
   "cell_type": "code",
   "execution_count": null,
   "metadata": {},
   "outputs": [],
   "source": [
    "fp.readline()"
   ]
  },
  {
   "cell_type": "code",
   "execution_count": 1,
   "metadata": {},
   "outputs": [
    {
     "ename": "FileNotFoundError",
     "evalue": "[Errno 2] No such file or directory: 'csds.txt'",
     "output_type": "error",
     "traceback": [
      "\u001b[1;31m---------------------------------------------------------------------------\u001b[0m",
      "\u001b[1;31mFileNotFoundError\u001b[0m                         Traceback (most recent call last)",
      "\u001b[1;32m~\\AppData\\Local\\Temp/ipykernel_21020/772095329.py\u001b[0m in \u001b[0;36m<module>\u001b[1;34m\u001b[0m\n\u001b[1;32m----> 1\u001b[1;33m \u001b[0mfp\u001b[0m \u001b[1;33m=\u001b[0m \u001b[0mopen\u001b[0m\u001b[1;33m(\u001b[0m\u001b[1;34m\"csds.txt\"\u001b[0m\u001b[1;33m)\u001b[0m\u001b[1;33m\u001b[0m\u001b[1;33m\u001b[0m\u001b[0m\n\u001b[0m\u001b[0;32m      2\u001b[0m \u001b[0mfp\u001b[0m\u001b[1;33m.\u001b[0m\u001b[0mreadlines\u001b[0m\u001b[1;33m(\u001b[0m\u001b[1;33m)\u001b[0m\u001b[1;33m\u001b[0m\u001b[1;33m\u001b[0m\u001b[0m\n",
      "\u001b[1;31mFileNotFoundError\u001b[0m: [Errno 2] No such file or directory: 'csds.txt'"
     ]
    }
   ],
   "source": [
    "fp = open(\"csds.txt\")\n",
    "fp.readlines()"
   ]
  },
  {
   "cell_type": "code",
   "execution_count": null,
   "metadata": {},
   "outputs": [],
   "source": [
    "fp = open(\"csds.txt\",\"w\")\n",
    "fp.write('DBMS')\n",
    "fp.close()"
   ]
  },
  {
   "cell_type": "code",
   "execution_count": null,
   "metadata": {},
   "outputs": [],
   "source": [
    "# Write a program to count no of words in a given file\n",
    "fp = open(\"csds.txt\",\"r\")\n",
    "st = fp.read()\n",
    "len(st.split())"
   ]
  },
  {
   "cell_type": "code",
   "execution_count": null,
   "metadata": {},
   "outputs": [],
   "source": [
    "# Write a program which store information of students.\n",
    "fp = open(\"csds.txt\",\"w\")\n",
    "for i in range(5):\n",
    "    name = input(\"Enter your name\")\n",
    "    branch = input(\"Enter your Branch\")\n",
    "    fp.write(name +'\\t' +branch +'\\n')\n",
    "fp.close()\n"
   ]
  },
  {
   "cell_type": "code",
   "execution_count": null,
   "metadata": {},
   "outputs": [],
   "source": [
    "# Write a program which copy the content of one file into another\n",
    "fp1 = open('csds.txt',\"r\")\n",
    "fp2 = open('newcsds.txt',\"w\")\n",
    "s = fp1.read()\n",
    "fp2.write(s)\n",
    "fp1.close()\n",
    "fp2.close()"
   ]
  },
  {
   "cell_type": "code",
   "execution_count": null,
   "metadata": {},
   "outputs": [],
   "source": [
    "# Write a program to copy the content of one file into another\n",
    "# Condition only odd lines\n",
    "fp1 = open('csds.txt',\"r\")\n",
    "fp2 = open('newcsds.txt',\"w\")\n",
    "s=fp1.readline()\n",
    "while s!='\\n':\n",
    "    print(s)\n",
    "    s= fp1.readline()\n",
    "\n",
    "fp1.close()\n",
    "fp2.close()"
   ]
  },
  {
   "cell_type": "code",
   "execution_count": 2,
   "metadata": {},
   "outputs": [
    {
     "name": "stdout",
     "output_type": "stream",
     "text": [
      "frequency of vowels \n",
      " a -> 2\n",
      "e -> 4\n",
      "i -> 8\n",
      "o -> 1\n",
      "u -> 0\n"
     ]
    }
   ],
   "source": [
    "# Write a program to count the frequency of vowels in a \n",
    "# given file.\n",
    "fp = open('abc.txt','r')\n",
    "st = fp.read()\n",
    "fp.close()\n",
    "no_a,no_e,no_i,no_o,no_u = 0,0,0,0,0\n",
    "for ch in st:\n",
    "    if ch=='a' or ch=='A':\n",
    "        no_a+=1\n",
    "    elif ch=='e' or ch=='E':\n",
    "        no_e+=1\n",
    "    elif ch=='i' or ch=='I':\n",
    "        no_i+=1\n",
    "    elif ch=='o' or ch=='O':\n",
    "        no_o+=1\n",
    "    elif ch=='u' or ch=='U':\n",
    "        no_u+=1\n",
    "print(f\"frequency of vowels \\n a -> {no_a}\\ne -> {no_e}\\ni -> {no_i}\\no -> {no_o}\\nu -> {no_u}\")"
   ]
  },
  {
   "cell_type": "code",
   "execution_count": 3,
   "metadata": {},
   "outputs": [],
   "source": [
    "# Write a function to store tab sepearted username and password\n",
    "# Signup page\n",
    "def store(username,password):\n",
    "    fp = open(\"login.txt\",'a')\n",
    "    fp.write(username +'\\t'+password+'\\n')\n",
    "    fp.close()"
   ]
  },
  {
   "cell_type": "code",
   "execution_count": 4,
   "metadata": {},
   "outputs": [],
   "source": [
    "store('Gopal','abes')"
   ]
  },
  {
   "cell_type": "code",
   "execution_count": 5,
   "metadata": {},
   "outputs": [],
   "source": [
    "store('rahul','1234')"
   ]
  },
  {
   "cell_type": "code",
   "execution_count": 22,
   "metadata": {},
   "outputs": [],
   "source": [
    "# Write a function to check a given username and password are valid or not.\n",
    "def check(username,password):\n",
    "    fp = open('login.txt','r')\n",
    "    st = fp.readline()\n",
    "    f=0\n",
    "    while st:\n",
    "        uname,pas=st.split('\\t')\n",
    "        if uname.strip()==username and pas.strip() == password:\n",
    "            f=1\n",
    "            break\n",
    "        st = fp.readline()\n",
    "    if f==1:\n",
    "        return True\n",
    "    else:\n",
    "        return False\n",
    "    fp.close()"
   ]
  },
  {
   "cell_type": "code",
   "execution_count": 25,
   "metadata": {},
   "outputs": [
    {
     "data": {
      "text/plain": [
       "False"
      ]
     },
     "execution_count": 25,
     "metadata": {},
     "output_type": "execute_result"
    }
   ],
   "source": [
    "check('Gopal','ab')"
   ]
  },
  {
   "cell_type": "code",
   "execution_count": 31,
   "metadata": {},
   "outputs": [
    {
     "name": "stdout",
     "output_type": "stream",
     "text": [
      "Welcome to My Portal\n",
      "Enter 1 for login\n",
      "2 for Signup1\n",
      "Enter User NameGopal\n",
      "········\n",
      "Welcome Gopal\n",
      "do you want to continue 1 otherwise any key1\n",
      "Enter 1 for login\n",
      "2 for Signup1\n",
      "Enter User Namegopal\n",
      "········\n",
      "Wrong Uname and password\n",
      "do you want to continue 1 otherwise any key3\n"
     ]
    }
   ],
   "source": [
    "# Write a program for login authentication\n",
    "from getpass import getpass\n",
    "print(\"Welcome to My Portal\")\n",
    "while True:\n",
    "    choice = int(input(\"Enter 1 for login\\n2 for Signup\"))\n",
    "    if choice==1:\n",
    "        uname = input(\"Enter User Name\")\n",
    "        upass = getpass()\n",
    "        if check(uname,upass):\n",
    "            print(f\"Welcome {uname}\")\n",
    "        else:\n",
    "            print(\"Wrong Uname and password\")\n",
    "    elif choice==2:\n",
    "        uname = input(\"Enter User Name\")\n",
    "        upass = getpass()\n",
    "        store(uname,upass)\n",
    "    c = int(input(\"do you want to continue 1 otherwise any key\"))\n",
    "    if c!=1:\n",
    "        break"
   ]
  },
  {
   "cell_type": "code",
   "execution_count": null,
   "metadata": {},
   "outputs": [],
   "source": []
  },
  {
   "cell_type": "code",
   "execution_count": null,
   "metadata": {},
   "outputs": [],
   "source": []
  },
  {
   "cell_type": "code",
   "execution_count": 30,
   "metadata": {},
   "outputs": [
    {
     "name": "stdout",
     "output_type": "stream",
     "text": [
      "········\n"
     ]
    },
    {
     "data": {
      "text/plain": [
       "'abes'"
      ]
     },
     "execution_count": 30,
     "metadata": {},
     "output_type": "execute_result"
    }
   ],
   "source": [
    "from getpass import getpass\n",
    "password = getpass()\n",
    "password"
   ]
  },
  {
   "cell_type": "code",
   "execution_count": 32,
   "metadata": {},
   "outputs": [],
   "source": [
    "# Write a Program in Python which display itself as output"
   ]
  },
  {
   "cell_type": "code",
   "execution_count": 38,
   "metadata": {},
   "outputs": [
    {
     "name": "stdout",
     "output_type": "stream",
     "text": [
      "2\n",
      "3\n",
      "5\n",
      "7\n",
      "11\n",
      "13\n",
      "17\n",
      "19\n",
      "23\n",
      "29\n",
      "31\n",
      "37\n",
      "41\n",
      "43\n",
      "47\n"
     ]
    }
   ],
   "source": [
    "# Genrate all prime number upto a given number n\n",
    "#loop -i=2  ->> n\n",
    "#    check(i)\n",
    "n=50\n",
    "prime = [True for _ in range(0,n+1)]\n",
    "p=2\n",
    "while p*p<n:\n",
    "    if prime[p]:\n",
    "        for i in range(p*p,n,p):\n",
    "            prime[i]=False\n",
    "    p=p+1\n",
    "\n",
    "for i in range(2,n):\n",
    "    if prime[i]:\n",
    "        print(i)"
   ]
  },
  {
   "cell_type": "code",
   "execution_count": null,
   "metadata": {},
   "outputs": [],
   "source": []
  }
 ],
 "metadata": {
  "kernelspec": {
   "display_name": "Python 3 (ipykernel)",
   "language": "python",
   "name": "python3"
  },
  "language_info": {
   "codemirror_mode": {
    "name": "ipython",
    "version": 3
   },
   "file_extension": ".py",
   "mimetype": "text/x-python",
   "name": "python",
   "nbconvert_exporter": "python",
   "pygments_lexer": "ipython3",
   "version": "3.10.0"
  }
 },
 "nbformat": 4,
 "nbformat_minor": 2
}
