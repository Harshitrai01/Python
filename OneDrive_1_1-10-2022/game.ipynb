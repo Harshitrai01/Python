{
 "cells": [
  {
   "cell_type": "code",
   "execution_count": 1,
   "metadata": {},
   "outputs": [],
   "source": [
    "# Rock Paper scissor\n",
    "\n",
    "import random"
   ]
  },
  {
   "cell_type": "code",
   "execution_count": 12,
   "metadata": {},
   "outputs": [
    {
     "name": "stdout",
     "output_type": "stream",
     "text": [
      "                Rock Paper scissor                \n",
      "Enter Your NameGopal\n",
      "Enter computer Bob\n",
      "Enter 1 for Rock\n",
      "Enter 2 for Paper\n",
      "Enter 3 for Scissor1\n",
      "Bob win\n",
      "Enter n to exita\n",
      "Enter 1 for Rock\n",
      "Enter 2 for Paper\n",
      "Enter 3 for Scissor2\n",
      "Enter n to exitn\n"
     ]
    }
   ],
   "source": [
    "print(\"Rock Paper scissor\".center(50))\n",
    "name = input(\"Enter Your Name\")\n",
    "c_name = input(\"Enter computer \")\n",
    "while True:\n",
    "    c_choice = random.randint(1,3)\n",
    "    p_choice = int(input(\"Enter 1 for Rock\\nEnter 2 for Paper\\nEnter 3 for Scissor\"))\n",
    "    if c_choice==1 and p_choice==1:\n",
    "        print(\"Tie\")\n",
    "    elif c_choice==1 and p_choice==2:\n",
    "        print(f\"{name} win\")\n",
    "    elif c_choice==1 and p_choice==3:\n",
    "        print(f\"{c_name} win\")\n",
    "    elif c_choice==2 and p_choice==1:\n",
    "        print(f\"{c_name} win\")\n",
    "    elif c_choice==3 and p_choice==2:\n",
    "        print(f\"{c_name} win\")\n",
    "    elif c_choice==3 and p_choice==3:\n",
    "        print(\"Tie\")\n",
    "    \n",
    "    x = input(\"Enter n to exit\")\n",
    "    if x=='n':\n",
    "        break"
   ]
  },
  {
   "cell_type": "code",
   "execution_count": 11,
   "metadata": {},
   "outputs": [
    {
     "data": {
      "text/plain": [
       "'                Rock Paper scissor                '"
      ]
     },
     "execution_count": 11,
     "metadata": {},
     "output_type": "execute_result"
    }
   ],
   "source": []
  },
  {
   "cell_type": "code",
   "execution_count": null,
   "metadata": {},
   "outputs": [],
   "source": [
    "\"Rock Paper scissor\".center"
   ]
  },
  {
   "cell_type": "code",
   "execution_count": 13,
   "metadata": {},
   "outputs": [],
   "source": [
    "# KBC"
   ]
  },
  {
   "cell_type": "code",
   "execution_count": 17,
   "metadata": {},
   "outputs": [
    {
     "data": {
      "text/plain": [
       "{'q': 'Capital of India',\n",
       " 'o1': 'Lucknow',\n",
       " 'o2': 'Jaipur',\n",
       " 'o3': 'Delhi',\n",
       " 'o4': 'None'}"
      ]
     },
     "execution_count": 17,
     "metadata": {},
     "output_type": "execute_result"
    }
   ],
   "source": [
    "qb = {0:{\"q\":\"Capital of India\",'o1':'Lucknow','o2':'Jaipur','o3':'Delhi','o4':'None'},1:{\"q\":\"Capital of UP\",'o1':'Lucknow','o2':'Jaipur','o3':'Delhi','o4':'None'},2:{\"q\":\"Capital of Rajsthan\",'o1':'Lucknow','o2':'Jaipur','o3':'Delhi','o4':'None'}}\n",
    "ab = ['o3','o1','o2']\n"
   ]
  },
  {
   "cell_type": "code",
   "execution_count": 25,
   "metadata": {},
   "outputs": [
    {
     "name": "stdout",
     "output_type": "stream",
     "text": [
      "6\n"
     ]
    }
   ],
   "source": [
    "import random\n",
    "print(random.randint(1,6))"
   ]
  },
  {
   "cell_type": "code",
   "execution_count": 21,
   "metadata": {},
   "outputs": [
    {
     "data": {
      "text/plain": [
       "{'q': 'Capital of India',\n",
       " 'o1': 'Lucknow',\n",
       " 'o2': 'Jaipur',\n",
       " 'o3': 'Delhi',\n",
       " 'o4': 'None'}"
      ]
     },
     "execution_count": 21,
     "metadata": {},
     "output_type": "execute_result"
    }
   ],
   "source": [
    "random.choice(qb)"
   ]
  },
  {
   "cell_type": "code",
   "execution_count": 27,
   "metadata": {},
   "outputs": [],
   "source": [
    "# write a Program to store students information of n students and sort them according \n",
    "#to thier name, Roll number will be key"
   ]
  },
  {
   "cell_type": "code",
   "execution_count": null,
   "metadata": {},
   "outputs": [],
   "source": [
    "d = {1:{1:1,2:3},2:{2:4,5:25}}\n"
   ]
  }
 ],
 "metadata": {
  "kernelspec": {
   "display_name": "Python 3",
   "language": "python",
   "name": "python3"
  },
  "language_info": {
   "codemirror_mode": {
    "name": "ipython",
    "version": 3
   },
   "file_extension": ".py",
   "mimetype": "text/x-python",
   "name": "python",
   "nbconvert_exporter": "python",
   "pygments_lexer": "ipython3",
   "version": "3.8.5"
  }
 },
 "nbformat": 4,
 "nbformat_minor": 4
}
