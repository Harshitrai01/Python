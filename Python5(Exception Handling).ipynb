{
 "cells": [
  {
   "cell_type": "markdown",
   "id": "f6e94ac1",
   "metadata": {},
   "source": [
    "## Exception Handling"
   ]
  },
  {
   "cell_type": "code",
   "execution_count": 2,
   "id": "4a85c6c4",
   "metadata": {},
   "outputs": [
    {
     "name": "stdout",
     "output_type": "stream",
     "text": [
      "Enter the numerator 6\n",
      "Enter the denominator 3\n",
      "2.0\n"
     ]
    }
   ],
   "source": [
    "# If any error comes while executing try block, it will directly jump to except block.\n",
    "while(True):  # Loop will run untill a valid integer is not found.\n",
    "    try:\n",
    "        n=input(\"Enter the numerator \")\n",
    "        num=float(n)\n",
    "        n=input(\"Enter the denominator \")\n",
    "        denom=float(n)\n",
    "        value=num/denom\n",
    "        print(value)\n",
    "        break\n",
    "    except ValueError:\n",
    "        print(\"Numerator and Denominator should be only integers.\")\n",
    "    # I will not get ValueError here because I have already handled that case.\n",
    "    except ZeroDivisionError:     # Handing multiple errors (type 1)\n",
    "        print(\"Denominator can not be zero.\")"
   ]
  },
  {
   "cell_type": "code",
   "execution_count": 6,
   "id": "03ca1af0",
   "metadata": {},
   "outputs": [
    {
     "name": "stdout",
     "output_type": "stream",
     "text": [
      "Enter the numerator 5\n",
      "Enter the denominator 0\n",
      "Numerator and Denominator should be only integers and the can't by zero.\n"
     ]
    }
   ],
   "source": [
    "try:\n",
    "    n=input(\"Enter the numerator \")\n",
    "    num=float(n)\n",
    "    n=input(\"Enter the denominator \")\n",
    "    denom=float(n)\n",
    "    vaue=num/denom\n",
    "    print(value)\n",
    "        \n",
    "except (ValueError,ZeroDivisionError):   # Handing multiple errors (type 2)\n",
    "    print(\"Numerator and Denominator should be only integers and the can't by zero.\")\n",
    "    # I will not get ValueError here because I have already handled that case."
   ]
  },
  {
   "cell_type": "code",
   "execution_count": 28,
   "id": "796025ce",
   "metadata": {},
   "outputs": [
    {
     "name": "stdout",
     "output_type": "stream",
     "text": [
      "Enter the numerator 3\n",
      "Enter the denominator 0\n",
      "Can't Divide By Zero.\n"
     ]
    }
   ],
   "source": [
    "# Raising our own exception.\n",
    "\n",
    "class ZeroDenominatorError(Exception):\n",
    "    pass\n",
    "try:\n",
    "    n=input(\"Enter the numerator \")\n",
    "    num=float(n)\n",
    "    n=input(\"Enter the denominator \")\n",
    "    denom=float(n)\n",
    "    if denom==0:\n",
    "        raise ZeroDenominatorError(\"Denominator can't be zero.\")  # Raising my own exception.\n",
    "    print(\"Sucessfully Executed!!!\")   # If denom becomes 0 it will not be executed. \n",
    "    value=num/denom\n",
    "    print(value)\n",
    "except ValueError:\n",
    "    print(\"Numerator and Denominator should be only integers.\")\n",
    "# I will not get ValueError here because I have already handled that case.\n",
    "except ZeroDivisionError:     # Handing multiple errors (type 1)\n",
    "    print(\"Divison by zero is not allowed.\") \n",
    "except ZeroDenominatorError:     # Our own exception created using above Class.\n",
    "    print(\"Can't Divide By Zero.\")  "
   ]
  },
  {
   "cell_type": "code",
   "execution_count": 31,
   "id": "2e1e9e05",
   "metadata": {},
   "outputs": [
    {
     "name": "stdout",
     "output_type": "stream",
     "text": [
      "Enter the numerator 3\n",
      "Enter the denominator 0\n",
      "Divison by zero is not allowed.\n"
     ]
    }
   ],
   "source": [
    "# Raising our own exception - Exception Functionality\n",
    "\n",
    "class ZeroDenominatorError(ZeroDivisionError):# Inherited from different class.\n",
    "    pass                                      # ZeroDivisionError will be raised because it occours first in except block.\n",
    "try:\n",
    "    n=input(\"Enter the numerator \")\n",
    "    num=float(n)\n",
    "    n=input(\"Enter the denominator \")\n",
    "    denom=float(n)\n",
    "    if denom==0:\n",
    "        raise ZeroDenominatorError(\"Denominator can't be zero.\")  # Raising my own exception.\n",
    "    print(\"Sucessfully Executed!!!\")   # If denom becomes 0 it will not be executed. \n",
    "    value=num/denom\n",
    "    print(value)\n",
    "except ValueError:\n",
    "    print(\"Numerator and Denominator should be only integers.\")\n",
    "# I will not get ValueError here because I have already handled that case.\n",
    "except ZeroDivisionError:     # Handing multiple errors (type 1)\n",
    "    print(\"Divison by zero is not allowed.\") \n",
    "except ZeroDenominatorError:  # Our own exception created using above Class.\n",
    "    print(\"Can't Divide By Zero.\")  "
   ]
  },
  {
   "cell_type": "code",
   "execution_count": 49,
   "id": "b2107182",
   "metadata": {},
   "outputs": [
    {
     "name": "stdout",
     "output_type": "stream",
     "text": [
      "Enter the numerator 6\n",
      "Enter the denominator 0\n",
      "Some exception is raised.\n"
     ]
    }
   ],
   "source": [
    "# Default except: - must be at last after except, If no error matches then the default error will be executed.\n",
    "try:\n",
    "    n=input(\"Enter the numerator \")\n",
    "    num=float(n)\n",
    "    n=input(\"Enter the denominator \")\n",
    "    denom=float(n)\n",
    "    vaue=num/denom\n",
    "    print(value)\n",
    "        \n",
    "except (ValueError):\n",
    "    print(\"Numerator and Denominator should be only integers.\")\n",
    "    # I will not get ValueError here because I have already handled that case.\n",
    "except:     # Default Error - must be at last.\n",
    "    print(\"Some exception is raised.\")"
   ]
  },
  {
   "cell_type": "code",
   "execution_count": 59,
   "id": "8ec0e955",
   "metadata": {
    "scrolled": true
   },
   "outputs": [
    {
     "name": "stdout",
     "output_type": "stream",
     "text": [
      "Enter the numerator 6\n",
      "Enter the denominator 2\n",
      "2.4\n",
      "Code Executed Sucessfully!!!\n",
      "6.0\n",
      "2.0\n",
      "Exception may or may not raised\n"
     ]
    }
   ],
   "source": [
    "# else: - If you don't get any exception the code inside then only else will be executed.\n",
    "# finally: - Finally will be always placed at last. Seq 1. (try except finally) 2. (try except else finally)\n",
    "# finally: - It will be printed always independent of wether exception is raised or not.\n",
    "\n",
    "try:\n",
    "    n=input(\"Enter the numerator \")\n",
    "    num=float(n)\n",
    "    n=input(\"Enter the denominator \")\n",
    "    denom=float(n)\n",
    "    vaue=num/denom\n",
    "    print(value)\n",
    "        \n",
    "except (ValueError):\n",
    "    print(\"Numerator and Denominator should be only integers.\")\n",
    "except:\n",
    "    print(\"Some exception is raised.\")\n",
    "else:  # If no exception occured then only else will be executed.\n",
    "    print(\"Code Executed Sucessfully!!!\")\n",
    "finally: # Finally will be executed every time.\n",
    "    print(num)\n",
    "    print(denom)\n",
    "    print(\"Exception may or may not raised\") # It will be printed always independent of wether exception raised or not. "
   ]
  },
  {
   "cell_type": "code",
   "execution_count": null,
   "id": "adc6b7ef",
   "metadata": {},
   "outputs": [],
   "source": []
  }
 ],
 "metadata": {
  "kernelspec": {
   "display_name": "Python 3 (ipykernel)",
   "language": "python",
   "name": "python3"
  },
  "language_info": {
   "codemirror_mode": {
    "name": "ipython",
    "version": 3
   },
   "file_extension": ".py",
   "mimetype": "text/x-python",
   "name": "python",
   "nbconvert_exporter": "python",
   "pygments_lexer": "ipython3",
   "version": "3.10.0"
  }
 },
 "nbformat": 4,
 "nbformat_minor": 5
}
