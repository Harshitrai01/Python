{
 "cells": [
  {
   "cell_type": "markdown",
   "id": "8d3c66f4",
   "metadata": {},
   "source": [
    "## File Handling"
   ]
  },
  {
   "cell_type": "code",
   "execution_count": 1,
   "id": "185a1bd3",
   "metadata": {},
   "outputs": [
    {
     "name": "stdout",
     "output_type": "stream",
     "text": [
      "File Handling\n"
     ]
    }
   ],
   "source": [
    "\"\"\"To open this file, we would call the open() function. The variable, fileref, \n",
    "now holds a reference to the file object returned by open(). \n",
    "When we are finished with the file, we can close it by using the close() method. \n",
    "After the file is closed any further attempts to use fileref will result in an error.\"\"\"\n",
    "print(\"File Handling\")"
   ]
  },
  {
   "cell_type": "code",
   "execution_count": 2,
   "id": "8568e47c",
   "metadata": {},
   "outputs": [],
   "source": [
    "# Absulute path \n",
    "# Drawback - Your file should be at same path\n",
    "fp = open(r\"D:\\Documents\\Imp Docs\\Stock\\olympics.txt\")\n",
    "fp.close()"
   ]
  },
  {
   "cell_type": "code",
   "execution_count": 3,
   "id": "92f4fad8",
   "metadata": {},
   "outputs": [],
   "source": [
    "# relative Path\n",
    "\n",
    "fp = open(\"olympics.txt\")\n",
    "fp.close()"
   ]
  },
  {
   "cell_type": "markdown",
   "id": "3c2a6952",
   "metadata": {},
   "source": [
    "#### Reading File"
   ]
  },
  {
   "cell_type": "code",
   "execution_count": 4,
   "id": "fdd19239",
   "metadata": {},
   "outputs": [],
   "source": [
    "# open(filename,'r')  Opening in read mode\n",
    "# Open a file called filename and use it for reading. This will return a reference to a file object."
   ]
  },
  {
   "cell_type": "code",
   "execution_count": 5,
   "id": "8d43ed3b",
   "metadata": {},
   "outputs": [],
   "source": [
    "# open(filename,'w')  Opening in write mode\n",
    "# Open a file called filename and use it for writing. This will also return a reference to a file object."
   ]
  },
  {
   "cell_type": "code",
   "execution_count": 6,
   "id": "dab96989",
   "metadata": {},
   "outputs": [],
   "source": [
    "# filevariable.close()\n",
    "# File use is complete. To close the file."
   ]
  },
  {
   "cell_type": "code",
   "execution_count": 7,
   "id": "bb56be96",
   "metadata": {},
   "outputs": [],
   "source": [
    "fileref=open(\"olympics.txt\",\"r\") #opening File\n",
    "fileref.close() # Closing file"
   ]
  },
  {
   "cell_type": "code",
   "execution_count": 8,
   "id": "355b1483",
   "metadata": {},
   "outputs": [
    {
     "name": "stdout",
     "output_type": "stream",
     "text": [
      "Name,Sex,Age,Team,Event,Medal\n",
      "A Dijiang,M,24,China,Basketball,NA\n",
      "A Lamusi,M,23,China,Judo,NA\n",
      "Gunnar \n"
     ]
    }
   ],
   "source": [
    "\"\"\"Read and return a string of n characters, or the entire file as a single string if n is not provided.\"\"\"\n",
    "# filevar.read()\n",
    "fileref=open(\"olympics.txt\",\"r\")\n",
    "print(fileref.read(100)) # Reading first 100 Characters and returns as string.\n",
    "fileref.close()"
   ]
  },
  {
   "cell_type": "code",
   "execution_count": 9,
   "id": "5e7654fb",
   "metadata": {},
   "outputs": [
    {
     "name": "stdout",
     "output_type": "stream",
     "text": [
      "Name,Sex,Age,Team,Event,Medal\n",
      "A Dijiang,M,24,China,Basketball,NA\n",
      "A Lamusi,M,23,China,Judo,NA\n",
      "Gunnar Nielsen Aaby,M,24,Denmark,Football,Silver\n",
      "Edgar Lindenau Aabye,M,34,Denmark/Sweden,Tug-Of-War,Gold\n",
      "Christine Jacoba Aaftink,F,21,Netherlands,Speed Skating,NA\n",
      "Christine Jacoba Aaftink,F,21,Netherlands,Speed Skating,NA\n",
      "Christine Jacoba Aaftink,F,25,Netherlands,Speed Skating,Gold\n",
      "Christine Jacoba Aaftink,F,25,Netherlands,Speed Skating,NA\n",
      "Christine Jacoba Aaftink,F,27,Netherlands,Speed Skating,Silver\n",
      "Christine Jacoba Aaftink,F,27,Netherlands,Speed Skating,NA\n",
      "Per Knut Aaland,M,31,United States,Cross Country Skiing,Bronze\n",
      "Per Knut Aaland,M,31,United States,Cross Country Skiing,NA\n",
      "Per Knut Aaland,M,31,United States,Cross Country Skiing,Silver\n",
      "Per Knut Aaland,M,31,United States,Cross Country Skiing,NA\n",
      "Per Knut Aaland,M,33,United States,Cross Country Skiing,NA\n",
      "Per Knut Aaland,M,33,United States,Cross Country Skiing,Silver\n",
      "Per Knut Aaland,M,33,United States,Cross Country Skiing,NA\n",
      "Per Knut Aaland,M,33,United States,Cross Country Skiing,NA\n",
      "John Aalberg,M,31,United States,Cross Country Skiing,Silver\n",
      "\n"
     ]
    }
   ],
   "source": [
    "fileref=open(\"olympics.txt\",\"r\")\n",
    "l=fileref.read() # reads the whole file and returns as string.\n",
    "print(l)\n",
    "fileref.close()"
   ]
  },
  {
   "cell_type": "code",
   "execution_count": 10,
   "id": "d1cc21cc",
   "metadata": {},
   "outputs": [
    {
     "name": "stdout",
     "output_type": "stream",
     "text": [
      "['Name,Sex,Age,Team,Event,Medal\\n', 'A Dijiang,M,24,China,Basketball,NA\\n', 'A Lamusi,M,23,China,Judo,NA\\n', 'Gunnar Nielsen Aaby,M,24,Denmark,Football,Silver\\n', 'Edgar Lindenau Aabye,M,34,Denmark/Sweden,Tug-Of-War,Gold\\n', 'Christine Jacoba Aaftink,F,21,Netherlands,Speed Skating,NA\\n', 'Christine Jacoba Aaftink,F,21,Netherlands,Speed Skating,NA\\n', 'Christine Jacoba Aaftink,F,25,Netherlands,Speed Skating,Gold\\n', 'Christine Jacoba Aaftink,F,25,Netherlands,Speed Skating,NA\\n', 'Christine Jacoba Aaftink,F,27,Netherlands,Speed Skating,Silver\\n', 'Christine Jacoba Aaftink,F,27,Netherlands,Speed Skating,NA\\n', 'Per Knut Aaland,M,31,United States,Cross Country Skiing,Bronze\\n', 'Per Knut Aaland,M,31,United States,Cross Country Skiing,NA\\n', 'Per Knut Aaland,M,31,United States,Cross Country Skiing,Silver\\n', 'Per Knut Aaland,M,31,United States,Cross Country Skiing,NA\\n', 'Per Knut Aaland,M,33,United States,Cross Country Skiing,NA\\n', 'Per Knut Aaland,M,33,United States,Cross Country Skiing,Silver\\n', 'Per Knut Aaland,M,33,United States,Cross Country Skiing,NA\\n', 'Per Knut Aaland,M,33,United States,Cross Country Skiing,NA\\n', 'John Aalberg,M,31,United States,Cross Country Skiing,Silver\\n']\n"
     ]
    }
   ],
   "source": [
    "\"\"\"Returns a list of strings, each representing a single line of the file. \n",
    "If n is not provided then all lines of the file are returned. \n",
    "If n is provided then n characters are read but n is rounded up so that an entire line is returned. \n",
    "Note Like readline readlines ignores the parameter n in the browser.\"\"\"\n",
    "\n",
    "fileref=open(\"olympics.txt\",\"r\")\n",
    "print(fileref.readlines()) # reads the whole file and returns it in list\n",
    "fileref.close()"
   ]
  },
  {
   "cell_type": "code",
   "execution_count": 11,
   "id": "1e5a269f",
   "metadata": {},
   "outputs": [
    {
     "name": "stdout",
     "output_type": "stream",
     "text": [
      "['Name,Sex,Age,Team,Event,Medal\\n', 'A Dijiang,M,24,China,Basketball,NA\\n', 'A Lamusi,M,23,China,Judo,NA\\n', 'Gunnar Nielsen Aaby,M,24,Denmark,Football,Silver\\n', 'Edgar Lindenau Aabye,M,34,Denmark/Sweden,Tug-Of-War,Gold\\n', 'Christine Jacoba Aaftink,F,21,Netherlands,Speed Skating,NA\\n']\n"
     ]
    }
   ],
   "source": [
    "fileref=open(\"olympics.txt\",\"r\")\n",
    "print(fileref.readlines(250)) # reads the characters till 250 and returns it in list\n",
    "fileref.close()"
   ]
  },
  {
   "cell_type": "code",
   "execution_count": 12,
   "id": "e7eb0652",
   "metadata": {},
   "outputs": [
    {
     "name": "stdout",
     "output_type": "stream",
     "text": [
      "['Name,Sex,Age,Team,Event,Medal\\n', 'A Dijiang,M,24,China,Basketball,NA\\n', 'A Lamusi,M,23,China,Judo,NA\\n']\n"
     ]
    }
   ],
   "source": [
    "fileref=open(\"olympics.txt\",\"r\")\n",
    "l=fileref.readlines() # reads the whole file\n",
    "print(l[:3]) # print lines till 3. List element is being printed indexed 0,1,2.\n",
    "fileref.close()"
   ]
  },
  {
   "cell_type": "code",
   "execution_count": 13,
   "id": "fe06b21f",
   "metadata": {},
   "outputs": [
    {
     "name": "stdout",
     "output_type": "stream",
     "text": [
      "Name,Sex,Age,Team,Event,Medal\n",
      "A Dijiang,M,24,China,Basketball,NA\n",
      "A Lamusi,M,23,China,Judo,NA\n",
      "Gunnar Nielsen Aaby,M,24,Denmark,Football,Silver\n",
      "Edgar Lindenau Aabye,M,34,Denmark/Sweden,Tug-Of-War,Gold\n"
     ]
    }
   ],
   "source": [
    "fileref = open(\"olympics.txt\",\"r\")\n",
    "l=fileref.readlines() # reads the whole file\n",
    "for i in l[:5]: # list element is being printed till 4\n",
    "    print(i.strip()) # .strip() to avoid extra lines\n",
    "fileref.close()"
   ]
  },
  {
   "cell_type": "code",
   "execution_count": 14,
   "id": "a2a136e7",
   "metadata": {},
   "outputs": [
    {
     "name": "stdout",
     "output_type": "stream",
     "text": [
      "Name,Sex,Age,Team,Event,Medal\n",
      "A Dijiang,M,24,China,Basketball,NA\n",
      "A Lamusi,M,23,China,Judo,NA\n",
      "Gunnar Nielsen Aaby,M,24,Denmark,Football,Silver\n",
      "Edgar Lindenau Aabye,M,34,Denmark/Sweden,Tug-Of-War,Gold\n",
      "Christine Jacoba Aaftink,F,21,Netherlands,Speed Skating,NA\n",
      "Christine Jacoba Aaftink,F,21,Netherlands,Speed Skating,NA\n",
      "Christine Jacoba Aaftink,F,25,Netherlands,Speed Skating,Gold\n",
      "Christine Jacoba Aaftink,F,25,Netherlands,Speed Skating,NA\n",
      "Christine Jacoba Aaftink,F,27,Netherlands,Speed Skating,Silver\n",
      "Christine Jacoba Aaftink,F,27,Netherlands,Speed Skating,NA\n",
      "Per Knut Aaland,M,31,United States,Cross Country Skiing,Bronze\n",
      "Per Knut Aaland,M,31,United States,Cross Country Skiing,NA\n",
      "Per Knut Aaland,M,31,United States,Cross Country Skiing,Silver\n",
      "Per Knut Aaland,M,31,United States,Cross Country Skiing,NA\n",
      "Per Knut Aaland,M,33,United States,Cross Country Skiing,NA\n",
      "Per Knut Aaland,M,33,United States,Cross Country Skiing,Silver\n",
      "Per Knut Aaland,M,33,United States,Cross Country Skiing,NA\n",
      "Per Knut Aaland,M,33,United States,Cross Country Skiing,NA\n",
      "John Aalberg,M,31,United States,Cross Country Skiing,Silver\n"
     ]
    }
   ],
   "source": [
    "fileref=open(\"olympics.txt\",\"r\")\n",
    "for i in fileref: # file object supports iteration but it not supports slicing\n",
    "    print(i.strip()) # .strip() to avoid extra lines\n",
    "fileref.close()"
   ]
  },
  {
   "cell_type": "code",
   "execution_count": 15,
   "id": "711f06ef",
   "metadata": {},
   "outputs": [
    {
     "name": "stdout",
     "output_type": "stream",
     "text": [
      "20\n"
     ]
    }
   ],
   "source": [
    "# Printing No. of lines in file\n",
    "fileref = open(\"olympics.txt\",\"r\")\n",
    "l=fileref.readlines() # reads the whole file and returns in list\n",
    "print(len(l))\n",
    "fileref.close()"
   ]
  },
  {
   "cell_type": "code",
   "execution_count": 16,
   "id": "19391bec",
   "metadata": {},
   "outputs": [
    {
     "name": "stdout",
     "output_type": "stream",
     "text": [
      "1103\n"
     ]
    }
   ],
   "source": [
    "# Printing No. of Characters in file\n",
    "fileref = open(\"olympics.txt\",\"r\")\n",
    "l=fileref.read() # reads the whole file and returns string\n",
    "print(len(l))\n",
    "fileref.close()"
   ]
  },
  {
   "cell_type": "code",
   "execution_count": 17,
   "id": "b15f64f6",
   "metadata": {},
   "outputs": [
    {
     "name": "stdout",
     "output_type": "stream",
     "text": [
      "88\n"
     ]
    }
   ],
   "source": [
    "# Write a program to count no of words in a given file.\n",
    "fileref = open(\"olympics.txt\",\"r\")\n",
    "l=fileref.read() # reads the whole file and returns string\n",
    "print(len(l.split()))\n",
    "fileref.close()"
   ]
  },
  {
   "cell_type": "code",
   "execution_count": 18,
   "id": "8a1e3af9",
   "metadata": {},
   "outputs": [
    {
     "name": "stdout",
     "output_type": "stream",
     "text": [
      "Name,Sex,Age,Team,Event,Medal\n",
      "\n"
     ]
    }
   ],
   "source": [
    "\"\"\"Read and return the next line of the file with all text up to and including the newline character. \n",
    "If n is provided as a parameter, then only n characters will be returned if the line is longer than n. \"\"\"\n",
    "fileref = open(\"olympics.txt\",\"r\")\n",
    "l=fileref.readline() # reads the whole file and returns in list\n",
    "print(l)\n",
    "fileref.close()"
   ]
  },
  {
   "cell_type": "markdown",
   "id": "99260def",
   "metadata": {},
   "source": [
    "#### Finding a File in Your File System"
   ]
  },
  {
   "cell_type": "code",
   "execution_count": 19,
   "id": "006398b4",
   "metadata": {},
   "outputs": [],
   "source": [
    "# open('../myData/data2.txt', 'r')\n",
    "# open('/Users/joebob01/myFiles/allProjects/myData/data2.txt', 'r')"
   ]
  },
  {
   "cell_type": "code",
   "execution_count": 20,
   "id": "d8439950",
   "metadata": {},
   "outputs": [
    {
     "name": "stdout",
     "output_type": "stream",
     "text": [
      "3178\n"
     ]
    }
   ],
   "source": [
    "fileref = open(\"D:\\Documents\\Imp Docs\\Stock\\olympics.txt\",\"r\")\n",
    "l=fileref.read() # reads the whole file and returns string\n",
    "print(len(l))\n",
    "fileref.close()"
   ]
  },
  {
   "cell_type": "markdown",
   "id": "ab13accf",
   "metadata": {},
   "source": [
    "#### Writing in File"
   ]
  },
  {
   "cell_type": "code",
   "execution_count": 21,
   "id": "23fb1194",
   "metadata": {},
   "outputs": [
    {
     "name": "stdout",
     "output_type": "stream",
     "text": [
      "1\t4\t9\t16\t25\t36\t49\t64\t81\t100\t\n"
     ]
    }
   ],
   "source": [
    "# Writing in a File\n",
    "f=open(\"squares.txt\",\"w\")\n",
    "for num in range(1,11):\n",
    "    a=num**2\n",
    "    f.write(str(a)+\"\\t\")\n",
    "f.close()\n",
    "\n",
    "# Reading the same file.\n",
    "f=open(\"squares.txt\",\"r\")\n",
    "for i in f:\n",
    "    print(i)\n",
    "f.close()"
   ]
  },
  {
   "cell_type": "code",
   "execution_count": 22,
   "id": "2743c327",
   "metadata": {},
   "outputs": [
    {
     "name": "stdout",
     "output_type": "stream",
     "text": [
      "1\t4\t9\t16\t25\t36\t49\t64\t81\t100\t\n"
     ]
    }
   ],
   "source": [
    "# using with files()\n",
    "with open(\"squares.txt\",\"r\") as f:  # same as f=open(\"squares.txt\",\"r\")\n",
    "    for i in f:\n",
    "        print(i)\n",
    "# Here we don't have to close the file. It is closed automatically by with."
   ]
  },
  {
   "cell_type": "code",
   "execution_count": 23,
   "id": "3906b98c",
   "metadata": {},
   "outputs": [
    {
     "name": "stdout",
     "output_type": "stream",
     "text": [
      "1\t4\t9\t16\t25\t36\t49\t64\t81\t100\t\n"
     ]
    }
   ],
   "source": [
    "fname=\"squares.txt\"\n",
    "with open(fname,\"r\") as f:  # same as f=open(\"squares.txt\",\"r\")\n",
    "    for i in f:\n",
    "        print(i)"
   ]
  },
  {
   "cell_type": "code",
   "execution_count": 24,
   "id": "b2f3a083",
   "metadata": {},
   "outputs": [
    {
     "name": "stdout",
     "output_type": "stream",
     "text": [
      "Enter your nameHarshit\n",
      "Enter your BranchCSE\n",
      "Enter your nameRam\n",
      "Enter your BranchCSDS\n"
     ]
    }
   ],
   "source": [
    "# Write a program which store information of students.\n",
    "\n",
    "fp = open(\"csds.txt\",\"w\")\n",
    "for i in range(2):\n",
    "    name = input(\"Enter your name\")\n",
    "    branch = input(\"Enter your Branch\")\n",
    "    fp.write(name +'\\t' +branch +'\\n')\n",
    "fp.close()"
   ]
  },
  {
   "cell_type": "code",
   "execution_count": 25,
   "id": "f9e62e33",
   "metadata": {},
   "outputs": [],
   "source": [
    "# Write a program which copy the content of one file into another\n",
    "fp1 = open('csds.txt',\"r\")\n",
    "fp2 = open('newcsds.txt',\"w\")\n",
    "s = fp1.read()\n",
    "fp2.write(s)\n",
    "fp1.close()\n",
    "fp2.close()"
   ]
  },
  {
   "cell_type": "code",
   "execution_count": 26,
   "id": "0fa55f9e",
   "metadata": {},
   "outputs": [
    {
     "name": "stdout",
     "output_type": "stream",
     "text": [
      "frequency of vowels \n",
      " a -> 3\n",
      " e -> 0\n",
      " i -> 2\n",
      " o -> 0\n",
      " u -> 1\n"
     ]
    }
   ],
   "source": [
    "# Write a program to count the frequency of vowels in a \n",
    "# given file.\n",
    "fp = open('abc.txt','r')\n",
    "st = fp.read()\n",
    "fp.close()\n",
    "no_a,no_e,no_i,no_o,no_u = 0,0,0,0,0\n",
    "for ch in st:\n",
    "    if ch=='a' or ch=='A':\n",
    "        no_a+=1\n",
    "    elif ch=='e' or ch=='E':\n",
    "        no_e+=1\n",
    "    elif ch=='i' or ch=='I':\n",
    "        no_i+=1\n",
    "    elif ch=='o' or ch=='O':\n",
    "        no_o+=1\n",
    "    elif ch=='u' or ch=='U':\n",
    "        no_u+=1\n",
    "print(f\"frequency of vowels \\n a -> {no_a}\\n e -> {no_e}\\n i -> {no_i}\\n o -> {no_o}\\n u -> {no_u}\")"
   ]
  },
  {
   "cell_type": "markdown",
   "id": "273f0cf4",
   "metadata": {},
   "source": [
    "### CSV Files (Comma Seperated Values)\n",
    "Excel Files"
   ]
  },
  {
   "cell_type": "code",
   "execution_count": 27,
   "id": "25826d1c",
   "metadata": {},
   "outputs": [
    {
     "name": "stdout",
     "output_type": "stream",
     "text": [
      "['Name', 'Sex', 'Age', 'Team', 'Event', 'Medal']\n",
      "Gunnar Nielsen Aaby: Football; Silver\n",
      "Edgar Lindenau Aabye: Tug-Of-War; Gold\n",
      "Christine Jacoba Aaftink: Speed Skating; Gold\n",
      "Christine Jacoba Aaftink: Speed Skating; Silver\n",
      "Per Knut Aaland: Cross Country Skiing; Bronze\n",
      "Per Knut Aaland: Cross Country Skiing; Silver\n",
      "Per Knut Aaland: Cross Country Skiing; Silver\n",
      "John Aalberg: Cross Country Skiing; Silver\n"
     ]
    }
   ],
   "source": [
    "# Reading in data from a CSV File\n",
    "f = open(\"olympics.txt\", 'r')\n",
    "lines = f.readlines()\n",
    "header = lines[0]\n",
    "field_names = header.strip().split(',')\n",
    "print(field_names)\n",
    "for row in lines[1:]:\n",
    "    vals = row.strip().split(',')\n",
    "    if vals[5] != \"NA\":\n",
    "        print(\"{}: {}; {}\".format(vals[0],vals[4],vals[5]))"
   ]
  },
  {
   "cell_type": "code",
   "execution_count": 28,
   "id": "1defbd42",
   "metadata": {},
   "outputs": [
    {
     "name": "stdout",
     "output_type": "stream",
     "text": [
      "Name,Age,Sport\n",
      "\n",
      "John Aalberg 31 Cross Country Skiing\n",
      "\n",
      "Minna Maarit Aalto 30 Sailing\n",
      "\n",
      "Win Valdemar Aaltonen 54 Art Competitions\n",
      "\n",
      "Wakako Abe 18 Cycling\n",
      "\n"
     ]
    }
   ],
   "source": [
    "# Writing data to a CSV File\n",
    "olympians = [(\"John Aalberg\", 31, \"Cross Country Skiing\"),\n",
    "             (\"Minna Maarit Aalto\", 30, \"Sailing\"),\n",
    "             (\"Win Valdemar Aaltonen\", 54, \"Art Competitions\"),\n",
    "             (\"Wakako Abe\", 18, \"Cycling\")]\n",
    "\n",
    "outfile = open(\"reduced_olympics.csv\", \"w\")\n",
    "# output the header row\n",
    "outfile.write('Name,Age,Sport')\n",
    "outfile.write('\\n')\n",
    "# output each of the rows:\n",
    "for olympian in olympians:\n",
    "    row_string = '{} {} {}'.format(olympian[0], olympian[1], olympian[2]) # Prefered\n",
    "    outfile.write(row_string)\n",
    "    outfile.write('\\n')\n",
    "outfile.close()\n",
    "\n",
    "outfile = open(\"reduced_olympics.csv\", \"r\")\n",
    "for i in outfile:\n",
    "    print(i)\n",
    "outfile.close()"
   ]
  },
  {
   "cell_type": "code",
   "execution_count": 2,
   "id": "b101cd42",
   "metadata": {},
   "outputs": [
    {
     "name": "stdout",
     "output_type": "stream",
     "text": [
      "Name,Age,Sport\n",
      "\n",
      "John Aalberg,31,Cross Country Skiing\n",
      "\n",
      "Minna Maarit Aalto,30,Sailing\n",
      "\n",
      "Win Valdemar Aaltonen,54,Art Competitions\n",
      "\n",
      "Wakako Abe,18,Cycling\n",
      "\n"
     ]
    }
   ],
   "source": [
    "# Writing data to a CSV File\n",
    "olympians = [(\"John Aalberg\", \"31\", \"Cross Country Skiing\"),\n",
    "             (\"Minna Maarit Aalto\", \"30\", \"Sailing\"),\n",
    "             (\"Win Valdemar Aaltonen\", \"54\", \"Art Competitions\"),\n",
    "             (\"Wakako Abe\", \"18\", \"Cycling\")]\n",
    "\n",
    "outfile = open(\"reduced_olympics.csv\", \"w\")\n",
    "# output the header row\n",
    "outfile.write('Name,Age,Sport')\n",
    "outfile.write('\\n')\n",
    "# output each of the rows:\n",
    "for olympian in olympians:\n",
    "    row_string=','.join(olympian) # Not prefered\n",
    "    outfile.write(row_string)\n",
    "    outfile.write('\\n')\n",
    "outfile.close()\n",
    "\n",
    "outfile = open(\"reduced_olympics.csv\", \"r\")\n",
    "for i in outfile:\n",
    "    print(i)\n",
    "outfile.close()"
   ]
  }
 ],
 "metadata": {
  "kernelspec": {
   "display_name": "Python 3 (ipykernel)",
   "language": "python",
   "name": "python3"
  },
  "language_info": {
   "codemirror_mode": {
    "name": "ipython",
    "version": 3
   },
   "file_extension": ".py",
   "mimetype": "text/x-python",
   "name": "python",
   "nbconvert_exporter": "python",
   "pygments_lexer": "ipython3",
   "version": "3.10.0"
  }
 },
 "nbformat": 4,
 "nbformat_minor": 5
}
