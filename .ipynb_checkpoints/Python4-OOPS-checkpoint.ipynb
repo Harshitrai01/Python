{
 "cells": [
  {
   "cell_type": "markdown",
   "id": "50bde5cf",
   "metadata": {},
   "source": [
    "## OOPS "
   ]
  },
  {
   "cell_type": "markdown",
   "id": "826f0e4d",
   "metadata": {},
   "source": [
    "##### (Practice on Python Tutor Live Mode)"
   ]
  },
  {
   "cell_type": "code",
   "execution_count": 1,
   "id": "c5832283",
   "metadata": {},
   "outputs": [
    {
     "name": "stdout",
     "output_type": "stream",
     "text": [
      "<class 'list'>\n",
      "<class '__main__.car'>\n"
     ]
    }
   ],
   "source": [
    "# Creation of class and objects\n",
    "\n",
    "class car: # here car is the class name\n",
    "    pass\n",
    "car1=car() # creation of object with the name car1\n",
    "car2=car() # creation of object with the name car2\n",
    "car3=car() # creation of object with the name car3\n",
    "l=list()\n",
    "print(type(l))\n",
    "print(type(car1))\n",
    "# here we have created three car objects"
   ]
  },
  {
   "cell_type": "code",
   "execution_count": 2,
   "id": "5221f40e",
   "metadata": {},
   "outputs": [
    {
     "name": "stdout",
     "output_type": "stream",
     "text": [
      "{'rollNumber': 12}\n",
      "Aman\n",
      "12\n",
      "Rohan\n",
      "13\n"
     ]
    }
   ],
   "source": [
    "class Student:\n",
    "    pass\n",
    "\n",
    "s1=Student() # creating objects\n",
    "s2=Student()\n",
    "s3=Student()\n",
    "\n",
    "# different different attributes for different instances \n",
    "s1.name=\"Aman\"        #objects.attribute\n",
    "s2.rollNumber=12\n",
    "s3.name=\"Rohan\"\n",
    "s3.rollNumber=13\n",
    "\n",
    "print(s2.__dict__) # All attributes in s2\n",
    "print(s1.name)\n",
    "print(s2.rollNumber)\n",
    "print(s3.name)\n",
    "print(s3.rollNumber)"
   ]
  },
  {
   "cell_type": "code",
   "execution_count": 3,
   "id": "a508c0bc",
   "metadata": {
    "scrolled": true
   },
   "outputs": [
    {
     "data": {
      "text/plain": [
       "True"
      ]
     },
     "execution_count": 3,
     "metadata": {},
     "output_type": "execute_result"
    }
   ],
   "source": [
    "# If this object is that particular object or not.\n",
    "hasattr(s1,\"name\")"
   ]
  },
  {
   "cell_type": "code",
   "execution_count": 4,
   "id": "0269f6d5",
   "metadata": {},
   "outputs": [
    {
     "data": {
      "text/plain": [
       "'Aman'"
      ]
     },
     "execution_count": 4,
     "metadata": {},
     "output_type": "execute_result"
    }
   ],
   "source": [
    "# Gives Value corresponding to the name\n",
    "getattr(s1, \"name\")"
   ]
  },
  {
   "cell_type": "code",
   "execution_count": 5,
   "id": "39652506",
   "metadata": {},
   "outputs": [
    {
     "data": {
      "text/plain": [
       "'Harshit'"
      ]
     },
     "execution_count": 5,
     "metadata": {},
     "output_type": "execute_result"
    }
   ],
   "source": [
    "# You can pass 3rd argument if name attrtibute is not present in the given object\n",
    "getattr(s2, \"name\", \"Harshit\" )"
   ]
  },
  {
   "cell_type": "code",
   "execution_count": 6,
   "id": "9af16659",
   "metadata": {},
   "outputs": [],
   "source": [
    "# Deletes the attribute\n",
    "delattr(s1,\"name\")"
   ]
  },
  {
   "cell_type": "code",
   "execution_count": 7,
   "id": "90ac8a92",
   "metadata": {},
   "outputs": [
    {
     "name": "stdout",
     "output_type": "stream",
     "text": [
      "Rohan Rohan\n"
     ]
    }
   ],
   "source": [
    "class Student:\n",
    "    name=\"Rohan\"\n",
    "    age=16\n",
    "s1=Student()\n",
    "s2=Student()\n",
    "print(s1.name,end=\" \")\n",
    "print(s2.name)"
   ]
  },
  {
   "cell_type": "code",
   "execution_count": 8,
   "id": "d1a52485",
   "metadata": {},
   "outputs": [
    {
     "name": "stdout",
     "output_type": "stream",
     "text": [
      "58\n"
     ]
    }
   ],
   "source": [
    "class Student:\n",
    "    pp=50\n",
    "s1=Student()\n",
    "s1.pp=58\n",
    "s2=Student()\n",
    "s2.pp=60\n",
    "print(s1.pp)"
   ]
  },
  {
   "cell_type": "code",
   "execution_count": 9,
   "id": "1c75ea05",
   "metadata": {},
   "outputs": [
    {
     "name": "stdout",
     "output_type": "stream",
     "text": [
      "About Self\n"
     ]
    }
   ],
   "source": [
    "# Concept of Self in Python, --instance method, --static method.\n",
    "# Definition: Self is a reference to the current instance of a class.\n",
    "\"\"\"\n",
    "It is not the keyword in python, and it is a positional variable, and it would always take 1st place in the argument list. \n",
    "By convention, we should use 'self.' \n",
    "However, different variable name can also be used other than ‘self’ as 1st argument in methods of class.\"\"\"\n",
    "# Self is a variable that binds the arguments of an instance of an object with attributes of the class.\n",
    "# When the object is instantiated, the object itself is passed into the self parameter.\n",
    "print(\"About Self\")"
   ]
  },
  {
   "cell_type": "code",
   "execution_count": 10,
   "id": "28f3d5c3",
   "metadata": {},
   "outputs": [
    {
     "name": "stdout",
     "output_type": "stream",
     "text": [
      "Name = Harshit\n",
      "Percentage =  80\n",
      "Name = Harshit\n",
      "Percentage =  80\n",
      "Student is Passed\n",
      "Hey! Welcome To School\n"
     ]
    }
   ],
   "source": [
    "class Student:\n",
    "    pp=40\n",
    "    def studentDetails(self):    # Instance method in which self is rwquired to passsed.\n",
    "        self.name = \"Harshit\"    # object.attribute  These are avilable till the life span of the objects.\n",
    "        print(\"Name =\", self.name)\n",
    "#        percentage = 80     self is note used so this percentage is local for this fucntion.\n",
    "#        attribute inside a function it's not an instant attribute\n",
    "        self.percentage = 80\n",
    "        print(\"Percentage = \",self.percentage)\n",
    "        pass\n",
    "    \n",
    "    def isPassed(self):\n",
    "        if s1.percentage>Student.pp :\n",
    "            print(\"Student is Passed\")\n",
    "        else:\n",
    "            print(\"Student is not passed\")\n",
    "\n",
    "#   @staticmethod   # Static method dosen't require by default self.\n",
    "                    # It will keep the function away from object, it will stop binding of an object.\n",
    "    @staticmethod   # It will stop the by default passing self of object. It will ignore the self.\n",
    "    def welcomeToSchool():  # Self is not present. So it is not an instance method.\n",
    "        print(\"Hey! Welcome To School\" )\n",
    "s1=Student()\n",
    "s1.studentDetails()        # same as- Student.studentDetails(s1)  # It's an instance method\n",
    "Student.studentDetails(s1) # class_name.function(object_name)\n",
    "s1.isPassed()\n",
    "s1.welcomeToSchool()  #static method"
   ]
  },
  {
   "cell_type": "code",
   "execution_count": 11,
   "id": "64276f64",
   "metadata": {},
   "outputs": [],
   "source": [
    "def method_name(self,var1):\n",
    "    pass # position 1 taken by self\n",
    "def method_name(var1,var2):\n",
    "    pass # here var1 would do the same work as self"
   ]
  },
  {
   "cell_type": "code",
   "execution_count": 12,
   "id": "b4b644dc",
   "metadata": {},
   "outputs": [
    {
     "name": "stdout",
     "output_type": "stream",
     "text": [
      "4 3\n"
     ]
    }
   ],
   "source": [
    "# Self as variable name\n",
    "\n",
    "class car:\n",
    "    def new1(self,v1):\n",
    "        self=4\n",
    "        print(self,v1)\n",
    "car1=car()\n",
    "car2=car()\n",
    "car3=car()\n",
    "car3.new1(3)"
   ]
  },
  {
   "cell_type": "code",
   "execution_count": 13,
   "id": "02b2d246",
   "metadata": {},
   "outputs": [
    {
     "name": "stdout",
     "output_type": "stream",
     "text": [
      "<__main__.Student object at 0x000001F8B0C06A10> <__main__.Student object at 0x000001F8B0C071F0>\n",
      "{'name': 'Harshit', 'rollNumber': 28} {'name': 'Harshit', 'rollNumber': 28}\n"
     ]
    }
   ],
   "source": [
    "# __init__ fuction\n",
    "\n",
    "class Student:\n",
    "    def __init__(self):\n",
    "        self.name = \"Harshit\"\n",
    "        self.rollNumber = 28\n",
    "s1=Student()\n",
    "s2=Student()\n",
    "print(s1,s2) # They are different objects.\n",
    "print(s1.__dict__,s2.__dict__) # They have same properties.\n",
    "# But both students should have differrent rollnumbers and name."
   ]
  },
  {
   "cell_type": "code",
   "execution_count": 14,
   "id": "ca77bc72",
   "metadata": {},
   "outputs": [
    {
     "name": "stdout",
     "output_type": "stream",
     "text": [
      "{'name': 'Harshit', 'rollNumber': 28} {'name': 'Aman', 'rollNumber': 14} {'name': 'Priya', 'rollNumber': 21}\n"
     ]
    }
   ],
   "source": [
    "# Fixing above problem and passing arguments in __init__.\n",
    "\n",
    "class Student:\n",
    "    def __init__(self, name, rollNumber):\n",
    "        self.name = name\n",
    "        self.rollNumber = rollNumber\n",
    "s1=Student(\"Harshit\", 28)  # These arguments are being passed to __init__  function.\n",
    "s2=Student(\"Aman\", 14)\n",
    "s3=Student(\"Priya\", 21) \n",
    "print(s1.__dict__,s2.__dict__,s3.__dict__) # Now they all have different roll numbers and names."
   ]
  },
  {
   "cell_type": "code",
   "execution_count": 15,
   "id": "e0d767e0",
   "metadata": {},
   "outputs": [
    {
     "name": "stdout",
     "output_type": "stream",
     "text": [
      "Name = Harshit, Roll = 28\n",
      "Name = Harshit, Roll = 28\n",
      "Name = Rohan, Roll = 36\n"
     ]
    }
   ],
   "source": [
    "# Instance Methods - because methods can be called directly on Instances of objects.\n",
    "class Student:\n",
    "    def __init__(self, name, rollNumber):\n",
    "        self.name = name\n",
    "        self.rollNumber = rollNumber\n",
    "    def printDetails(self):\n",
    "        print(\"Name =\",self.name,end=\", \")\n",
    "        print(\"Roll =\",self.rollNumber)\n",
    "s1=Student(\"Harshit\", 28)\n",
    "s1.printDetails()\n",
    "Student.printDetails(s1) # same as above\n",
    "s2=Student(\"Rohan\", 36)\n",
    "s2.printDetails()"
   ]
  },
  {
   "cell_type": "code",
   "execution_count": 16,
   "id": "deef71c8",
   "metadata": {},
   "outputs": [
    {
     "name": "stdout",
     "output_type": "stream",
     "text": [
      "2 / 27\n"
     ]
    }
   ],
   "source": [
    "# Creating a Fraction Class with methods simplify(), add(), mul().\n",
    "\n",
    "class Fraction:\n",
    "    def __init__(self,num=0,den=1):\n",
    "        if den==0:\n",
    "            print(\"Denominator can't be zero\")\n",
    "        self.num=num\n",
    "        self.den=den\n",
    "        \n",
    "    def printf(self):\n",
    "        if self.num==0:\n",
    "            print(\"0\")\n",
    "        elif self.den ==  1:\n",
    "            print(self.num)\n",
    "        elif self.den==0:\n",
    "            print(\"Denominator can't be 0\")\n",
    "        else:\n",
    "            print(self.num,\"/\",self.den)\n",
    "            \n",
    "    def simplify(self):\n",
    "        if self.num==0:\n",
    "            self.den=1\n",
    "            return\n",
    "        current=min(self.num,self.den)\n",
    "        while current > 1:\n",
    "            if self.num % current==0 and self.den % current==0:\n",
    "                break\n",
    "            current-=1\n",
    "        self.num=self.num//current\n",
    "        self.den=self.den//current\n",
    "        \n",
    "    def add(self,otherFraction):\n",
    "        newNum=otherFraction.den*self.num+otherFraction.num*self.den\n",
    "        newDen=otherFraction.den*self.den\n",
    "        self.num=newNum\n",
    "        self.den=newDen\n",
    "        self.simplify()\n",
    "        \n",
    "    def mul(self,otherFraction):\n",
    "        newNum=self.num*otherFraction.num\n",
    "        newDen=self.den*otherFraction.den\n",
    "        self.num=newNum\n",
    "        self.den=newDen\n",
    "        self.simplify()\n",
    "        \n",
    "f1=Fraction(6,27)\n",
    "f2=Fraction(1,3)\n",
    "\n",
    "f1.mul(f2)\n",
    "f1.printf()"
   ]
  },
  {
   "cell_type": "code",
   "execution_count": 17,
   "id": "2fc6a279",
   "metadata": {
    "scrolled": true
   },
   "outputs": [
    {
     "name": "stdout",
     "output_type": "stream",
     "text": [
      "Enter real part of first number 3\n",
      "Enter imaginary part of first number 2\n",
      "Enter real part of second number 6\n",
      "Enter imaginary part of second number 2\n",
      "Press 1 for Add, 2 for Sub, 3 for Mul, 4 for Div 3\n",
      "18 i + 4 j\n"
     ]
    }
   ],
   "source": [
    "# Creating a Complex Class with methods add(), sub(), mul(), div().\n",
    "\n",
    "class complex:\n",
    "    def __init__(self,real=0,img=0):\n",
    "        self.real=real\n",
    "        self.img=img\n",
    "        \n",
    "    def printc(self):\n",
    "        if self.real==0:\n",
    "            print(self.img,\"j\")\n",
    "        elif self.img==0:\n",
    "            print(self.real,\"i\")\n",
    "        else:\n",
    "         print(self.real,\"i +\",self.img,\"j\")\n",
    "         \n",
    "    def add(self,c2):\n",
    "        newReal=self.real+c2.real\n",
    "        newImg=self.img+c2.img\n",
    "        \n",
    "        self.real=newReal\n",
    "        self.img=newImg\n",
    "        \n",
    "    def sub(self,c2):\n",
    "        newReal=self.real-c2.real\n",
    "        newImg=self.img-c2.img\n",
    "        \n",
    "        self.real=newReal\n",
    "        self.img=newImg\n",
    "        \n",
    "    def mul(self,c2):\n",
    "        newReal=self.real*c2.real\n",
    "        newImg=self.img*c2.img\n",
    "        \n",
    "        self.real=newReal\n",
    "        self.img=newImg\n",
    "        \n",
    "    def div(self,c2):\n",
    "        newReal=self.real/c2.real\n",
    "        newImg=self.img/c2.img\n",
    "        \n",
    "        self.real=newReal\n",
    "        self.img=newImg\n",
    "\n",
    "\n",
    "cra=int(input(\"Enter real part of first number \"))\n",
    "cia=int(input(\"Enter imaginary part of first number \"))\n",
    "\n",
    "crb=int(input(\"Enter real part of second number \"))\n",
    "cib=int(input(\"Enter imaginary part of second number \"))\n",
    "\n",
    "c1=complex(cra,cia)\n",
    "c2=complex(crb,cib)\n",
    "\n",
    "opr=int(input(\"Press 1 for Add, 2 for Sub, 3 for Mul, 4 for Div \"))\n",
    "if opr==1:\n",
    "    c1.add(c2)\n",
    "elif opr==2:\n",
    "    c1.sub(c2)\n",
    "elif opr==3:\n",
    "    c1.mul(c2)\n",
    "elif opr==4:\n",
    "    c1.div(c2)\n",
    "else:\n",
    "    print(\"Enter a valid number \")\n",
    "c1.printc()"
   ]
  },
  {
   "cell_type": "code",
   "execution_count": 18,
   "id": "84a5a5ca",
   "metadata": {},
   "outputs": [],
   "source": [
    "# Class Methods or Factory Methods -- @classmethod\n",
    "# You will be returning an object of the class from that function in these types of method.\n",
    "# First argument should be a class name."
   ]
  },
  {
   "cell_type": "code",
   "execution_count": 19,
   "id": "62fb15ac",
   "metadata": {},
   "outputs": [
    {
     "name": "stdout",
     "output_type": "stream",
     "text": [
      "Name = Harshit\n",
      "Age = 15\n",
      "Name = Rohan\n",
      "Age = 21\n"
     ]
    }
   ],
   "source": [
    "from datetime import date\n",
    "class Student:\n",
    "    def __init__(self,name,age):\n",
    "        self.name=name\n",
    "        self.age=age\n",
    "        \n",
    "    @classmethod    # Class Method\n",
    "    def birthAge(cls,name,year):\n",
    "        return cls(name,date.today().year-year)\n",
    "        \n",
    "    def printDetails(self):\n",
    "        print(\"Name =\",self.name)\n",
    "        print(\"Age =\",self.age)\n",
    "        pass\n",
    "s1=Student(\"Harshit\",15) \n",
    "s2=Student.birthAge(\"Rohan\",2001)  # Passing year of Birth and getting age in output.\n",
    "\n",
    "s1.printDetails()\n",
    "s2.printDetails()"
   ]
  },
  {
   "cell_type": "code",
   "execution_count": 20,
   "id": "fc84f8f7",
   "metadata": {},
   "outputs": [
    {
     "name": "stdout",
     "output_type": "stream",
     "text": [
      "Harshit\n",
      "Aman\n"
     ]
    }
   ],
   "source": [
    "print(s1.name)\n",
    "s1.name=\"Aman\"\n",
    "print(s1.name) # Name and age are public so can be accessed outside of the class."
   ]
  },
  {
   "cell_type": "code",
   "execution_count": 21,
   "id": "1976988c",
   "metadata": {},
   "outputs": [
    {
     "name": "stdout",
     "output_type": "stream",
     "text": [
      "Name = Harshit , Age = 15\n",
      "Teenager\n"
     ]
    },
    {
     "ename": "AttributeError",
     "evalue": "'Student' object has no attribute '__name'",
     "output_type": "error",
     "traceback": [
      "\u001b[1;31m---------------------------------------------------------------------------\u001b[0m",
      "\u001b[1;31mAttributeError\u001b[0m                            Traceback (most recent call last)",
      "\u001b[1;32m~\\AppData\\Local\\Temp/ipykernel_5560/3168775612.py\u001b[0m in \u001b[0;36m<module>\u001b[1;34m\u001b[0m\n\u001b[0;32m     24\u001b[0m \u001b[0ms1\u001b[0m\u001b[1;33m.\u001b[0m\u001b[0mprintDetails\u001b[0m\u001b[1;33m(\u001b[0m\u001b[1;33m)\u001b[0m  \u001b[1;31m# Completed because accessed inside the class.\u001b[0m\u001b[1;33m\u001b[0m\u001b[1;33m\u001b[0m\u001b[0m\n\u001b[0;32m     25\u001b[0m \u001b[0ms1\u001b[0m\u001b[1;33m.\u001b[0m\u001b[0mcompareAge\u001b[0m\u001b[1;33m(\u001b[0m\u001b[1;33m)\u001b[0m\u001b[1;33m\u001b[0m\u001b[1;33m\u001b[0m\u001b[0m\n\u001b[1;32m---> 26\u001b[1;33m \u001b[0ms1\u001b[0m\u001b[1;33m.\u001b[0m\u001b[0m__name\u001b[0m          \u001b[1;31m# Can not be completed because we are accessing outside of the class.\u001b[0m\u001b[1;33m\u001b[0m\u001b[1;33m\u001b[0m\u001b[0m\n\u001b[0m",
      "\u001b[1;31mAttributeError\u001b[0m: 'Student' object has no attribute '__name'"
     ]
    }
   ],
   "source": [
    "# Public and Private\n",
    "# We have to make name and rollNumber private so that they can not be acceseed outside of the classs.\n",
    "\n",
    "class Student:\n",
    "    __pp=80                      # Making it private.\n",
    "    def __init__(self,name,age):\n",
    "        self.__name=name         # To make it private put __ before the variable.\n",
    "        self.__age=age           # Making age a private variable.\n",
    "        \n",
    "    def printDetails(self):\n",
    "        print(\"Name =\",self.__name,\",\",end=\" \")\n",
    "        print(\"Age =\",self.__age)\n",
    "        pass\n",
    "    \n",
    "    def compareAge(self):\n",
    "        if self.__age>12 and self.__age<20 :\n",
    "            print(\"Teenager\")\n",
    "        else:\n",
    "            print(\"Not a Teenager\")\n",
    "        \n",
    "s1=Student(\"Harshit\",15) \n",
    "s2=Student(\"Rohan\",20)\n",
    "\n",
    "s1.printDetails()  # Completed because accessed inside the class.\n",
    "s1.compareAge()\n",
    "s1.__name          # Can not be completed because we are accessing outside of the class."
   ]
  },
  {
   "cell_type": "code",
   "execution_count": 22,
   "id": "ec2fe966",
   "metadata": {
    "scrolled": true
   },
   "outputs": [
    {
     "data": {
      "text/plain": [
       "'Aman'"
      ]
     },
     "execution_count": 22,
     "metadata": {},
     "output_type": "execute_result"
    }
   ],
   "source": [
    "# This is not used by any developers in python no such things as private or public.\n",
    "# Accessing private outside of the class.\n",
    "# Syntax- (object._className__variable)\n",
    "s1._Student__name=\"Aman\"\n",
    "s1._Student__name\n",
    "# There is way to access but we should not access like this."
   ]
  },
  {
   "cell_type": "code",
   "execution_count": 23,
   "id": "d6c50c72",
   "metadata": {},
   "outputs": [
    {
     "name": "stdout",
     "output_type": "stream",
     "text": [
      "Color: red\n",
      "Max Speed: 440\n",
      "NumGears: 5\n",
      "Is Convertible: True\n"
     ]
    }
   ],
   "source": [
    "# Inheritance\n",
    "\n",
    "class Vehicle:\n",
    "    def __init__(self,color,maxSpeed):\n",
    "        self.color=color\n",
    "        self.maxSpeed=maxSpeed\n",
    "\n",
    "class Car(Vehicle):                                  # Inheritance Car class inheriting the property of Vehicle Class.\n",
    "    def __init__(self,color,maxSpeed,numGears,isConv):\n",
    "        super().__init__(color,maxSpeed)             # Youn can inherit the property of base class using super().\n",
    "        self.numGears=numGears\n",
    "        self.isConv=isConv\n",
    "        \n",
    "    def printCar(self):\n",
    "        print(\"Color:\",self.color)\n",
    "        print(\"Max Speed:\",self.maxSpeed)\n",
    "        print(\"NumGears:\",self.numGears)\n",
    "        print(\"Is Convertible:\",self.isConv)\n",
    "        \n",
    "c=Car(\"red\",440,5,True)\n",
    "c.printCar()"
   ]
  },
  {
   "cell_type": "code",
   "execution_count": 24,
   "id": "9297d638",
   "metadata": {},
   "outputs": [
    {
     "name": "stdout",
     "output_type": "stream",
     "text": [
      "Color: red\n",
      "Max Speed: 440\n",
      "NumGears: 5\n",
      "Is Convertible: True\n"
     ]
    }
   ],
   "source": [
    "# Inheritance - Private Members\n",
    "\n",
    "class Vehicle:\n",
    "    def __init__(self,color,maxSpeed):\n",
    "        self.color=color\n",
    "        self.__maxSpeed=maxSpeed # Making maxSpeed Private \n",
    "    \n",
    "    # getter function\n",
    "    def getMaxSpeed(self):       # We are accessing maxSpeed from these getter and setter functions.\n",
    "        return self.__maxSpeed\n",
    "    \n",
    "    # setter function\n",
    "    def setMaxSpeed(self,maxSpeed):\n",
    "        self.__maxSpeed = maxSpeed\n",
    "        \n",
    "class Car(Vehicle):                                  # Inheritance Car class inheriting the property of Vehicle Class.\n",
    "    def __init__(self,color,maxSpeed,numGears,isConv):\n",
    "        super().__init__(color,maxSpeed)             # Youn can inherit the property of base class using super().\n",
    "        self.numGears=numGears\n",
    "        self.isConv=isConv\n",
    "        \n",
    "    def printCar(self):\n",
    "        print(\"Color:\",self.color)\n",
    "        print(\"Max Speed:\",self.getMaxSpeed())       # Accessing the maxSpeed Through getMaxSpeed.\n",
    "        print(\"NumGears:\",self.numGears)\n",
    "        print(\"Is Convertible:\",self.isConv)\n",
    "        \n",
    "c=Car(\"red\",440,5,True)\n",
    "c.printCar()"
   ]
  },
  {
   "cell_type": "code",
   "execution_count": 25,
   "id": "2ab59a84",
   "metadata": {},
   "outputs": [
    {
     "name": "stdout",
     "output_type": "stream",
     "text": [
      "Color: red\n",
      "MaxSpeed: 440\n",
      "NumGears: 5\n",
      "Is Convertible: True\n"
     ]
    }
   ],
   "source": [
    "# Inheritance - Private Members (without getter and setter)\n",
    "\n",
    "class Vehicle:\n",
    "    def __init__(self,color,maxSpeed):\n",
    "        self.color=color\n",
    "        self.__maxSpeed=maxSpeed # Making maxSpeed Private \n",
    "        \n",
    "    def print(self):                  # Defining a print function Vehicle to print data.\n",
    "        print(\"Color:\",self.color)\n",
    "        print(\"MaxSpeed:\",self.__maxSpeed)\n",
    "        \n",
    "class Car(Vehicle):                                  # Inheritance Car class inheriting the property of Vehicle Class.\n",
    "    def __init__(self,color,maxSpeed,numGears,isConv):\n",
    "        super().__init__(color,maxSpeed)             # Youn can inherit the property of base class using super().\n",
    "        self.numGears=numGears\n",
    "        self.isConv=isConv\n",
    "        \n",
    "    def printCar(self):\n",
    "        super().print()  # self.print()--can also be used    # using super to access parent class data.\n",
    "        print(\"NumGears:\",self.numGears)\n",
    "        print(\"Is Convertible:\",self.isConv)\n",
    "        \n",
    "c=Car(\"red\",440,5,True)\n",
    "c.printCar()"
   ]
  },
  {
   "cell_type": "code",
   "execution_count": 26,
   "id": "d0cb52ce",
   "metadata": {
    "scrolled": true
   },
   "outputs": [
    {
     "name": "stdout",
     "output_type": "stream",
     "text": [
      "Color: blue\n",
      "MaxSpeed: 120\n",
      "\n",
      "NumGears: 5\n",
      "Is Convertible: True\n"
     ]
    }
   ],
   "source": [
    "# Polymorphism - Ability to take multiple forms.\n",
    "\n",
    "class Vehicle:\n",
    "    def __init__(self,color,maxSpeed):\n",
    "        self.color=color\n",
    "        self.__maxSpeed=maxSpeed # Making maxSpeed Private \n",
    "        \n",
    "    def print(self):                  # Defining a print function Vehicle to print data.\n",
    "        print(\"Color:\",self.color)\n",
    "        print(\"MaxSpeed:\",self.__maxSpeed)\n",
    "        \n",
    "class Car(Vehicle):                                  # Inheritance Car class inheriting the property of Vehicle Class.\n",
    "    def __init__(self,color,maxSpeed,numGears,isConv):\n",
    "        super().__init__(color,maxSpeed)             # Youn can inherit the property of base class using super().\n",
    "        self.numGears=numGears\n",
    "        self.isConv=isConv\n",
    "        \n",
    "    def print(self):\n",
    "#         super().print()  # self.print()--can also be used     using super to access parent class data.\n",
    "        print(\"NumGears:\",self.numGears)\n",
    "        print(\"Is Convertible:\",self.isConv)\n",
    "        \n",
    "c=Car(\"red\",440,5,True)\n",
    "v=Vehicle(\"blue\",120)\n",
    "v.print()  # Vehicle's Class is Printed on Priority Basis of Object (After removing super())\n",
    "print()\n",
    "c.print()  # Car's Class is Printed on Priority Basis of Object (After removing super())\n",
    "# If we remove the print function of Car Class then the only remaining print function of Vehicle Class will be executed. \n",
    "# If we call c.print() with presence of super() then also print function of car class will be executed.\n",
    "# If we call c.print() with presence of self.print() then also print function of car class will be recursively executed."
   ]
  },
  {
   "cell_type": "code",
   "execution_count": 27,
   "id": "09ffa9aa",
   "metadata": {},
   "outputs": [],
   "source": [
    "# Protected - Please try not to modify it.\n",
    "# In Private we use a double underscore called dander(__).\n",
    "# In Protected we use underscore(_). There is no difference between public and protected members.\n",
    "# Protected members can also be accessed out of the class like public members."
   ]
  },
  {
   "cell_type": "code",
   "execution_count": 28,
   "id": "9f8f52d1",
   "metadata": {},
   "outputs": [],
   "source": [
    "# Object Class \n",
    "# Provides 3 methods\n",
    "# __new__ , __init__ , __str__ "
   ]
  },
  {
   "cell_type": "code",
   "execution_count": 67,
   "id": "7cf2de38",
   "metadata": {},
   "outputs": [
    {
     "name": "stdout",
     "output_type": "stream",
     "text": [
      "This is a circle class which takes radius as an argument.\n"
     ]
    }
   ],
   "source": [
    "class Circle(object):  # same as class Circle:  by default it inherits from object class\n",
    "    def __init__(self,radius):\n",
    "        self._radius = radius\n",
    "        \n",
    "    def __str__(self):\n",
    "        return \"This is a circle class which takes radius as an argument.\"\n",
    "\n",
    "c = Circle(3)\n",
    "print(c)"
   ]
  },
  {
   "cell_type": "code",
   "execution_count": 74,
   "id": "c980aac6",
   "metadata": {},
   "outputs": [
    {
     "name": "stdout",
     "output_type": "stream",
     "text": [
      "Name of child is Ajay\n",
      "Print of Father called.\n"
     ]
    }
   ],
   "source": [
    "# Multiple Inheritance\n",
    "\n",
    "class Mother:\n",
    "    def __init__(self):\n",
    "        self.name = \"Manju\"\n",
    "        \n",
    "    def print(self):\n",
    "        print(\"Print of Mother called.\")\n",
    "        \n",
    "class Father:\n",
    "    def __init__(self):\n",
    "        self.name = \"Ajay\"\n",
    "    \n",
    "    def print(self):\n",
    "        print(\"Print of Father called.\")\n",
    "        \n",
    "class Child(Father,Mother):\n",
    "    def __init__(self):\n",
    "        super().__init__()\n",
    "       \n",
    "    def printChild(self):\n",
    "        print(\"Name of child is\",self.name)\n",
    "        \n",
    "c = Child()# It will be called on the basis of order passed in Child class. So name of father is first.\n",
    "c.printChild()\n",
    "c.print()  # It will be called on the basis of order passed in Child class."
   ]
  },
  {
   "cell_type": "code",
   "execution_count": 88,
   "id": "f2e69391",
   "metadata": {
    "scrolled": false
   },
   "outputs": [
    {
     "name": "stdout",
     "output_type": "stream",
     "text": [
      "Name of child is Manju\n",
      "Print of Father called.\n",
      "[<class '__main__.Child'>, <class '__main__.Father'>, <class '__main__.Mother'>, <class 'object'>]\n"
     ]
    }
   ],
   "source": [
    "# Method Resolution Order (mro)\n",
    "\n",
    "class Mother:\n",
    "    def __init__(self):\n",
    "        self.name = \"Manju\"\n",
    "        super().__init__()    # By doing this nothing will happen because object class is being called here.\n",
    "        \n",
    "    def print(self):\n",
    "        print(\"Print of Mother called.\")\n",
    "        \n",
    "class Father:\n",
    "    def __init__(self):\n",
    "        self.name = \"Ajay\"\n",
    "        super().__init__()    # By doing this Name of Mother will be printed.\n",
    "        \n",
    "    def print(self):\n",
    "        print(\"Print of Father called.\")\n",
    "        \n",
    "class Child(Father,Mother):\n",
    "    def __init__(self):\n",
    "        super().__init__()\n",
    "       \n",
    "    def printChild(self):\n",
    "        print(\"Name of child is\",self.name)\n",
    "        \n",
    "c = Child()         # It will be called on the basis of order passed in Child class. So name of father is first.\n",
    "\n",
    "c.printChild()\n",
    "c.print()           # It will be called on the basis of order passed in Child class.\n",
    "# mro\n",
    "print(Child.mro())  # Checks the order in which it will work."
   ]
  },
  {
   "cell_type": "code",
   "execution_count": 102,
   "id": "cff16f44",
   "metadata": {},
   "outputs": [
    {
     "name": "stdout",
     "output_type": "stream",
     "text": [
      "This point is at (4,6)\n",
      "True\n"
     ]
    }
   ],
   "source": [
    "# Operator Overloading - Overloading some of the operator to use it better.\n",
    "\n",
    "from math import sqrt\n",
    "class Point:\n",
    "    \n",
    "    def __init__(self,x,y):\n",
    "        self.__x=x\n",
    "        self.__y=y\n",
    "        \n",
    "    def __str__(self):\n",
    "        return \"This point is at (\" + str(self.__x) + \",\" + str(self.__y) + \")\"\n",
    "    \n",
    "    def __add__(self,point_object):\n",
    "        return Point(self.__x + point_object.__x,self.__y + point_object.__y)\n",
    "    \n",
    "    def __lt__(self,point_object):\n",
    "        return sqrt(self.__x**2 + self.__y**2) < sqrt(point_object.__x**2 + point_object.__y**2)\n",
    "        \n",
    "p1 = Point(1,2)\n",
    "p2 = Point(3,4)\n",
    "p3=p1+p2\n",
    "print(p3)\n",
    "print(p1<p2)"
   ]
  },
  {
   "cell_type": "code",
   "execution_count": 103,
   "id": "f8ba23ee",
   "metadata": {},
   "outputs": [],
   "source": [
    "# Abstract Class - Abstract Method\n",
    "# Abstract Methods are decleared but they have no implementation.\n",
    "# We have a module (abc) and methods ABC, abstractmethod  for abstract classes."
   ]
  },
  {
   "cell_type": "code",
   "execution_count": 129,
   "id": "135049ae",
   "metadata": {
    "scrolled": false
   },
   "outputs": [
    {
     "name": "stdout",
     "output_type": "stream",
     "text": [
      "Automobile created\n",
      "Automobile created\n",
      "Start of Automobile Called\n",
      "Start of Car Called\n",
      "4\n"
     ]
    }
   ],
   "source": [
    "# Objects of abstract classs can not be created.\n",
    "# Implement all the abstract methods in child class. \n",
    "\n",
    "from abc import ABC,abstractmethod\n",
    "\n",
    "class Automobile(ABC):\n",
    "    \n",
    "    def __init__(self,no_of_wheels):\n",
    "        print(\"Automobile created\")\n",
    "        self.no_of_wheels=no_of_wheels\n",
    "    \n",
    "    @abstractmethod\n",
    "    def start(self):\n",
    "        print(\"Start of Automobile Called\")\n",
    "    \n",
    "    @abstractmethod\n",
    "    def stop(self):\n",
    "        pass\n",
    "    \n",
    "    @abstractmethod\n",
    "    def drive(self):\n",
    "        pass\n",
    "    \n",
    "    def get_no_of_wheels(self):\n",
    "        return self.no_of_wheels\n",
    "    \n",
    "class Car(Automobile):\n",
    "    \n",
    "#     def __init__(self,name):\n",
    "#         print(\"Car created\")\n",
    "#         self.name = name\n",
    "        \n",
    "    \n",
    "    def start(self):\n",
    "        super().start()\n",
    "        print(\"Start of Car Called\")\n",
    "    \n",
    " \n",
    "    def stop(self):\n",
    "        pass\n",
    "    \n",
    "  \n",
    "    def drive(self):\n",
    "        pass\n",
    "    \n",
    "    def get_no_of_wheels(self):\n",
    "        return super().get_no_of_wheels()\n",
    "        \n",
    "        \n",
    "class Bus(Automobile):\n",
    "    \n",
    "#     def __init__(self,name):\n",
    "#         print(\"Bus Created\")\n",
    "#         self.name=name\n",
    "        \n",
    "    def start(self):\n",
    "        pass\n",
    "    \n",
    " \n",
    "    def stop(self):\n",
    "        pass\n",
    "    \n",
    "  \n",
    "    def drive(self):\n",
    "        pass\n",
    "        \n",
    "    def get_no_of_wheels(self):\n",
    "        return super().get_no_of_wheels()\n",
    "    \n",
    "c = Car(4)\n",
    "b = Bus(8)\n",
    "c.start()\n",
    "b.start()\n",
    "print(c.get_no_of_wheels())"
   ]
  },
  {
   "cell_type": "code",
   "execution_count": null,
   "id": "e92b2c31",
   "metadata": {},
   "outputs": [],
   "source": []
  }
 ],
 "metadata": {
  "kernelspec": {
   "display_name": "Python 3 (ipykernel)",
   "language": "python",
   "name": "python3"
  },
  "language_info": {
   "codemirror_mode": {
    "name": "ipython",
    "version": 3
   },
   "file_extension": ".py",
   "mimetype": "text/x-python",
   "name": "python",
   "nbconvert_exporter": "python",
   "pygments_lexer": "ipython3",
   "version": "3.10.0"
  }
 },
 "nbformat": 4,
 "nbformat_minor": 5
}
