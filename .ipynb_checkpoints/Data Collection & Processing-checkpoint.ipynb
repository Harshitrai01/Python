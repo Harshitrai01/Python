{
 "cells": [
  {
   "cell_type": "markdown",
   "id": "d88e2cc2",
   "metadata": {},
   "source": [
    "#### Nested Dictionary"
   ]
  },
  {
   "cell_type": "code",
   "execution_count": 1,
   "id": "901d0b1b",
   "metadata": {},
   "outputs": [
    {
     "name": "stdout",
     "output_type": "stream",
     "text": [
      "5'8\n"
     ]
    }
   ],
   "source": [
    "# Nested Dictionary\n",
    "info = {'personal_data':\n",
    "         {'name': 'Lauren',\n",
    "          'age': 20,\n",
    "          'major': 'Information Science',\n",
    "          'physical_features':\n",
    "             {'color': {'eye': 'blue',\n",
    "                        'hair': 'brown'},\n",
    "              'height': \"5'8\"}\n",
    "         },\n",
    "       'other':\n",
    "         {'favorite_colors': ['purple', 'green', 'blue'],\n",
    "          'interested_in': ['social media', 'intellectual property', 'copyright', 'music', 'books']\n",
    "         }\n",
    "      }\n",
    "\n",
    "a=info['personal_data']['physical_features']['height']\n",
    "print(a)"
   ]
  },
  {
   "cell_type": "markdown",
   "id": "99df9de5",
   "metadata": {},
   "source": [
    "#### JSON (JavaScript Object Notation)"
   ]
  },
  {
   "cell_type": "code",
   "execution_count": 2,
   "id": "39e42815",
   "metadata": {},
   "outputs": [
    {
     "name": "stdout",
     "output_type": "stream",
     "text": [
      "JSON\n"
     ]
    }
   ],
   "source": [
    "# Processing JSON Result.\n",
    "# JSON stands for JavaScript Object Notation.\n",
    "\"\"\"When your program receives a JSON-formatted string, \n",
    "generally you will want to convert it into a python object, a list or a dictionary.\"\"\"\n",
    "\n",
    "\"\"\"Again, python provides a module for doing this. \n",
    "The module is called json. We will be using two functions in this module, loads() and dumps().\"\"\"\n",
    "print(\"JSON\")"
   ]
  },
  {
   "cell_type": "code",
   "execution_count": 3,
   "id": "209ff218",
   "metadata": {},
   "outputs": [
    {
     "name": "stdout",
     "output_type": "stream",
     "text": [
      "<class 'str'>\n",
      "\n",
      "{\n",
      " \"resultCount\":25,\n",
      " \"results\": [\n",
      "{\"wrapperType\":\"track\", \"kind\":\"podcast\", \"collectionId\":10892}]}\n",
      "-------------------------------------------------------------------\n",
      "<class 'dict'>\n",
      "dict_keys(['resultCount', 'results'])\n",
      "25\n",
      "{'resultCount': 25, 'results': [{'wrapperType': 'track', 'kind': 'podcast', 'collectionId': 10892}]}\n"
     ]
    }
   ],
   "source": [
    "# json.loads()\n",
    "\"\"\"json.loads() takes a string as input and produces a python object (a dictionary or a list) as output.\n",
    "Consider, for example, some data that we might get from Apple’s iTunes, in the JSON format:\"\"\"\n",
    "\n",
    "from json import loads  # or import json\n",
    "a_string = '\\n{\\n \"resultCount\":25,\\n \"results\": [\\n{\"wrapperType\":\"track\", \"kind\":\"podcast\", \"collectionId\":10892}]}'\n",
    "print(type(a_string))\n",
    "print(a_string)\n",
    "d=loads(a_string) # json.loads() takes a string as input and produces a python object (a dictionary or a list) as output.\n",
    "print(\"-------------------------------------------------------------------\")\n",
    "print(type(d))\n",
    "print(d.keys())\n",
    "print(d['resultCount'])\n",
    "print(d)\n",
    "# print(a_string['resultCount']) TypeError: string indices must be integers."
   ]
  },
  {
   "cell_type": "code",
   "execution_count": 4,
   "id": "124c552d",
   "metadata": {},
   "outputs": [
    {
     "name": "stdout",
     "output_type": "stream",
     "text": [
      "json.dumps()\n"
     ]
    }
   ],
   "source": [
    "# json.dumps()\n",
    "\n",
    "\"\"\"The other function we will use is dumps(). It does the inverse of loads. \n",
    "It takes a python object, typically a dictionary or a list, and returns a string, in JSON format.\"\"\"\n",
    "\n",
    "\"\"\"It has a few other parameters. Two useful parameters are sort_keys and indent.\"\"\"\n",
    "\n",
    "\"\"\"When the value True is passed for the sort_keys parameter, \n",
    "the keys of dictionaries are output in alphabetic order with their values.\"\"\"\n",
    "\n",
    "\"\"\"The indent parameter expects an integer. When it is provided, dumps generates a string suitable for displaying to people, \n",
    "with newlines and indentation for nested lists or dictionaries.\"\"\"\n",
    "print('json.dumps()')"
   ]
  },
  {
   "cell_type": "code",
   "execution_count": 5,
   "id": "7e733d89",
   "metadata": {},
   "outputs": [
    {
     "name": "stdout",
     "output_type": "stream",
     "text": [
      "<class 'dict'>\n",
      "{'key1': {'c': True, 'a': 90, '5': 50}, 'key2': {'b': 3, 'c': 'yes'}}\n",
      "--------------------------------------------------------------\n",
      "<class 'str'>\n",
      "{\n",
      "    \"key1\": {\n",
      "        \"5\": 50,\n",
      "        \"a\": 90,\n",
      "        \"c\": true\n",
      "    },\n",
      "    \"key2\": {\n",
      "        \"b\": 3,\n",
      "        \"c\": \"yes\"\n",
      "    }\n",
      "}\n"
     ]
    }
   ],
   "source": [
    "from json import dumps # or import dumps\n",
    "def pretty(obj):\n",
    "    return dumps( obj, sort_keys=True , indent=4 ) # takes python obj as input and give output as string\n",
    "d = {'key1': {'c': True, 'a': 90, '5': 50}, 'key2':{'b': 3, 'c': \"yes\"}}\n",
    "print(type(d))\n",
    "print(d)\n",
    "print(\"--------------------------------------------------------------\")\n",
    "a=pretty(d)\n",
    "print(type(a))\n",
    "print(a)"
   ]
  },
  {
   "cell_type": "markdown",
   "id": "26b3e5e7",
   "metadata": {},
   "source": [
    "#### Nested Iteration"
   ]
  },
  {
   "cell_type": "code",
   "execution_count": 6,
   "id": "f04e88dc",
   "metadata": {},
   "outputs": [
    {
     "name": "stdout",
     "output_type": "stream",
     "text": [
      "level1: \n",
      "     level2: a\n",
      "     level2: b\n",
      "     level2: c\n",
      "level1: \n",
      "     level2: d\n",
      "     level2: e\n",
      "level1: \n",
      "     level2: f\n",
      "     level2: g\n",
      "     level2: h\n"
     ]
    }
   ],
   "source": [
    "# When you have nested data structures, especially lists and/or dictionaries, \n",
    "# you will frequently need nested for loops to traverse them.\n",
    "\n",
    "nested1 = [['a', 'b', 'c'],['d', 'e'],['f', 'g', 'h']]\n",
    "for x in nested1:\n",
    "    print(\"level1: \")\n",
    "    for y in x:\n",
    "        print(\"     level2: \" + y)"
   ]
  },
  {
   "cell_type": "code",
   "execution_count": 7,
   "id": "382f9937",
   "metadata": {},
   "outputs": [
    {
     "name": "stdout",
     "output_type": "stream",
     "text": [
      "['Turner', 'Damon', 'Wiig', 'Phelps', 'Obama']\n",
      "-------------------------------------------------------------\n",
      "Tina    Turner    1939    singer    Matt    Damon    1970    actor    Kristen    Wiig    1973    comedian    Michael    Phelps    1985    swimmer    Barack    Obama    1961    president    \n",
      "-------------------------------------------------------------\n",
      "Matt Damon 1970 actor \n",
      "-------------------------------------------------------------\n",
      "['Matt', 'Damon', 1970, 'actor']\n"
     ]
    }
   ],
   "source": [
    "# Printing Last Name\n",
    "info = [['Tina', 'Turner', 1939, 'singer'], ['Matt', 'Damon', 1970, 'actor'], ['Kristen', 'Wiig', 1973, 'comedian'], ['Michael', 'Phelps', 1985, 'swimmer'], ['Barack', 'Obama', 1961, 'president']]\n",
    "ln=[]\n",
    "for i in info:\n",
    "    ln.append(i[1])\n",
    "print(ln)\n",
    "print(\"-------------------------------------------------------------\")\n",
    "\n",
    "#Printing all inner values.\n",
    "for i in info:\n",
    "    for x in i:\n",
    "        print(x,end=\"    \")\n",
    "print()\n",
    "print(\"-------------------------------------------------------------\")\n",
    "for i in info[1]:\n",
    "    print(i,end=\" \")\n",
    "print()\n",
    "print(\"-------------------------------------------------------------\")\n",
    "print(info[1])"
   ]
  },
  {
   "cell_type": "code",
   "execution_count": null,
   "id": "e52e8936",
   "metadata": {},
   "outputs": [],
   "source": [
    "\"\"\"Each dictionary should have the same structure, \n",
    "meaning the same keys and the same type of value associated with a particular key in all the dictionaries. \n",
    "The reason for this is because\n",
    "any deviation in the structure that is used will require extra code to handle those special cases.\"\"\""
   ]
  },
  {
   "cell_type": "code",
   "execution_count": 8,
   "id": "1c398ba1",
   "metadata": {},
   "outputs": [
    {
     "name": "stdout",
     "output_type": "stream",
     "text": [
      "level1: \n"
     ]
    },
    {
     "ename": "TypeError",
     "evalue": "'int' object is not iterable",
     "output_type": "error",
     "traceback": [
      "\u001b[1;31m---------------------------------------------------------------------------\u001b[0m",
      "\u001b[1;31mTypeError\u001b[0m                                 Traceback (most recent call last)",
      "\u001b[1;32m~\\AppData\\Local\\Temp/ipykernel_2768/833793530.py\u001b[0m in \u001b[0;36m<module>\u001b[1;34m\u001b[0m\n\u001b[0;32m      2\u001b[0m \u001b[1;32mfor\u001b[0m \u001b[0mx\u001b[0m \u001b[1;32min\u001b[0m \u001b[0mnested1\u001b[0m\u001b[1;33m:\u001b[0m\u001b[1;33m\u001b[0m\u001b[1;33m\u001b[0m\u001b[0m\n\u001b[0;32m      3\u001b[0m     \u001b[0mprint\u001b[0m\u001b[1;33m(\u001b[0m\u001b[1;34m\"level1: \"\u001b[0m\u001b[1;33m)\u001b[0m\u001b[1;33m\u001b[0m\u001b[1;33m\u001b[0m\u001b[0m\n\u001b[1;32m----> 4\u001b[1;33m     \u001b[1;32mfor\u001b[0m \u001b[0my\u001b[0m \u001b[1;32min\u001b[0m \u001b[0mx\u001b[0m\u001b[1;33m:\u001b[0m\u001b[1;33m\u001b[0m\u001b[1;33m\u001b[0m\u001b[0m\n\u001b[0m\u001b[0;32m      5\u001b[0m         \u001b[0mprint\u001b[0m\u001b[1;33m(\u001b[0m\u001b[1;34m\"     level2: {}\"\u001b[0m\u001b[1;33m.\u001b[0m\u001b[0mformat\u001b[0m\u001b[1;33m(\u001b[0m\u001b[0my\u001b[0m\u001b[1;33m)\u001b[0m\u001b[1;33m)\u001b[0m\u001b[1;33m\u001b[0m\u001b[1;33m\u001b[0m\u001b[0m\n",
      "\u001b[1;31mTypeError\u001b[0m: 'int' object is not iterable"
     ]
    }
   ],
   "source": [
    "nested1 = [1, 2, ['a', 'b', 'c'],['d', 'e'],['f', 'g', 'h']]\n",
    "for x in nested1:\n",
    "    print(\"level1: \")\n",
    "    for y in x:\n",
    "        print(\"     level2: {}\".format(y))"
   ]
  },
  {
   "cell_type": "code",
   "execution_count": 9,
   "id": "385a873b",
   "metadata": {},
   "outputs": [
    {
     "name": "stdout",
     "output_type": "stream",
     "text": [
      "level1: \n",
      "1\n",
      "level1: \n",
      "2\n",
      "level1: \n",
      "     level2: a\n",
      "     level2: b\n",
      "     level2: c\n",
      "level1: \n",
      "     level2: d\n",
      "     level2: e\n",
      "level1: \n",
      "     level2: f\n",
      "     level2: g\n",
      "     level2: h\n"
     ]
    }
   ],
   "source": [
    "nested1 = [1, 2, ['a', 'b', 'c'],['d', 'e'],['f', 'g', 'h']]\n",
    "for x in nested1:\n",
    "    print(\"level1: \")\n",
    "    if type(x) is list:\n",
    "        for y in x:\n",
    "            print(\"     level2: {}\".format(y))\n",
    "    else:\n",
    "        print(x)"
   ]
  },
  {
   "cell_type": "code",
   "execution_count": null,
   "id": "87990243",
   "metadata": {},
   "outputs": [],
   "source": [
    "# Shallow Copies\n",
    "\"\"\"When you copy a nested list, you do not also get copies of the internal lists. \n",
    "This means that if you perform a mutation operation on one of the original sublists, \n",
    "the copied version will also change. We can see this happen in the following nested list, which only has two levels.\"\"\""
   ]
  },
  {
   "cell_type": "code",
   "execution_count": 10,
   "id": "fe7d0d16",
   "metadata": {},
   "outputs": [
    {
     "name": "stdout",
     "output_type": "stream",
     "text": [
      "[['dogs', 'puppies'], ['cats', 'kittens']]\n",
      "False\n",
      "True\n",
      "[['dogs', 'puppies', ['canines']], ['cats', 'kittens']]\n",
      "-------- Now look at the copied version -----------\n",
      "[['dogs', 'puppies', ['canines']], ['cats', 'kittens']]\n"
     ]
    }
   ],
   "source": [
    "original = [['dogs', 'puppies'], ['cats', \"kittens\"]]\n",
    "copied_version = original[:]\n",
    "print(copied_version)\n",
    "print(copied_version is original)\n",
    "print(copied_version == original)\n",
    "original[0].append([\"canines\"])\n",
    "print(original)\n",
    "print(\"-------- Now look at the copied version -----------\")\n",
    "print(copied_version)"
   ]
  },
  {
   "cell_type": "code",
   "execution_count": 4,
   "id": "664a951b",
   "metadata": {},
   "outputs": [],
   "source": [
    "# Deep Copies\n",
    "# Assuming that you don’t want to have aliased lists inside of your nested list, then you’ll need to perform nested iteration."
   ]
  },
  {
   "cell_type": "code",
   "execution_count": 11,
   "id": "5f7af4c0",
   "metadata": {},
   "outputs": [
    {
     "name": "stdout",
     "output_type": "stream",
     "text": [
      "[['dogs', 'puppies'], ['cats', 'kittens']]\n",
      "[['dogs', 'puppies', ['canines']], ['cats', 'kittens']]\n",
      "-------- Now look at the copied version -----------\n",
      "[['dogs', 'puppies'], ['cats', 'kittens']]\n"
     ]
    }
   ],
   "source": [
    "original = [['dogs', 'puppies'], ['cats', \"kittens\"]]\n",
    "copied_outer_list = []\n",
    "for inner_list in original:\n",
    "    copied_inner_list = []\n",
    "    for item in inner_list:\n",
    "        copied_inner_list.append(item)\n",
    "    copied_outer_list.append(copied_inner_list)\n",
    "print(copied_outer_list)\n",
    "original[0].append([\"canines\"])\n",
    "print(original)\n",
    "print(\"-------- Now look at the copied version -----------\")\n",
    "print(copied_outer_list)"
   ]
  },
  {
   "cell_type": "code",
   "execution_count": 7,
   "id": "69c1b8d0",
   "metadata": {},
   "outputs": [],
   "source": [
    "# Or, equivalently, you could take advantage of the slice operator to do the copying of the inner list."
   ]
  },
  {
   "cell_type": "code",
   "execution_count": 12,
   "id": "fb0033cd",
   "metadata": {},
   "outputs": [
    {
     "name": "stdout",
     "output_type": "stream",
     "text": [
      "[['dogs', 'puppies'], ['cats', 'kittens']]\n",
      "[['dogs', 'puppies', ['canines']], ['cats', 'kittens']]\n",
      "-------- Now look at the copied version -----------\n",
      "[['dogs', 'puppies'], ['cats', 'kittens']]\n"
     ]
    }
   ],
   "source": [
    "original = [['dogs', 'puppies'], ['cats', \"kittens\"]]\n",
    "copied_outer_list = []\n",
    "for inner_list in original:\n",
    "    copied_inner_list = inner_list[:]\n",
    "    copied_outer_list.append(copied_inner_list)\n",
    "print(copied_outer_list)\n",
    "original[0].append([\"canines\"])\n",
    "print(original)\n",
    "print(\"-------- Now look at the copied version -----------\")\n",
    "print(copied_outer_list)"
   ]
  },
  {
   "cell_type": "code",
   "execution_count": 13,
   "id": "615ce3ac",
   "metadata": {},
   "outputs": [
    {
     "name": "stdout",
     "output_type": "stream",
     "text": [
      "copy.deepcopy()\n"
     ]
    }
   ],
   "source": [
    "\"\"\"This process above works fine when there are only two layers or levels in a nested list. \n",
    "However, if we want to make a copy of a nested list that has more than two levels, then we recommend using the copy module. \n",
    "In the copy module there is a method called deepcopy() that will take care of the operation for you.\"\"\"\n",
    "print(\"copy.deepcopy()\")"
   ]
  },
  {
   "cell_type": "code",
   "execution_count": 14,
   "id": "51219d08",
   "metadata": {},
   "outputs": [
    {
     "name": "stdout",
     "output_type": "stream",
     "text": [
      "-------- Original -----------\n",
      "[['canines', ['dogs', 'puppies'], ['marsupials']], ['felines', ['cats', 'kittens']], 'Hi there']\n",
      "-------- deep copy -----------\n",
      "[['canines', ['dogs', 'puppies']], ['felines', ['cats', 'kittens']]]\n",
      "-------- shallow copy -----------\n",
      "[['canines', ['dogs', 'puppies'], ['marsupials']], ['felines', ['cats', 'kittens']]]\n"
     ]
    }
   ],
   "source": [
    "import copy\n",
    "original = [['canines', ['dogs', 'puppies']], ['felines', ['cats', 'kittens']]]\n",
    "shallow_copy_version = original[:]\n",
    "deeply_copied_version = copy.deepcopy(original)\n",
    "original.append(\"Hi there\")\n",
    "original[0].append([\"marsupials\"])\n",
    "print(\"-------- Original -----------\")\n",
    "print(original)\n",
    "print(\"-------- deep copy -----------\")\n",
    "print(deeply_copied_version)\n",
    "print(\"-------- shallow copy -----------\")\n",
    "print(shallow_copy_version)"
   ]
  },
  {
   "cell_type": "code",
   "execution_count": 15,
   "id": "7ea00914",
   "metadata": {
    "scrolled": true
   },
   "outputs": [
    {
     "name": "stdout",
     "output_type": "stream",
     "text": [
      "Understand. Extract. Repeat.\n"
     ]
    }
   ],
   "source": [
    "# Extracting from Nested Data\n",
    "\"\"\"\n",
    "1.Understand the nested data object.\n",
    "2.Extract one object at the next level down.\n",
    "3.Repeat the process with the extracted object.\n",
    "\"\"\"\n",
    "\n",
    "print(\"Understand. Extract. Repeat.\")"
   ]
  },
  {
   "cell_type": "code",
   "execution_count": 16,
   "id": "35a693af",
   "metadata": {},
   "outputs": [
    {
     "data": {
      "text/plain": [
       "['res = {\\n',\n",
       " '  \"search_metadata\": {\\n',\n",
       " '    \"count\": 3,\\n',\n",
       " '    \"completed_in\": 0.015,\\n',\n",
       " '    \"max_id_str\": \"536624519285583872\",\\n',\n",
       " '    \"since_id_str\": \"0\",\\n',\n",
       " '    \"next_results\": \"?max_id=536623674942439424&q=University%20of%20Michigan&count=3&include_entities=1\",\\n',\n",
       " '    \"refresh_url\": \"?since_id=536624519285583872&q=University%20of%20Michigan&include_entities=1\",\\n',\n",
       " '    \"since_id\": 0,\\n',\n",
       " '    \"query\": \"University+of+Michigan\",\\n']"
      ]
     },
     "execution_count": 16,
     "metadata": {},
     "output_type": "execute_result"
    }
   ],
   "source": [
    "f=open(\"twt.txt\",'r')\n",
    "a=(f.readlines())\n",
    "a[:10]"
   ]
  },
  {
   "cell_type": "code",
   "execution_count": 17,
   "id": "04dd1b0f",
   "metadata": {},
   "outputs": [
    {
     "name": "stdout",
     "output_type": "stream",
     "text": [
      "[6, 15, 27]\n",
      "[8, 20, 36]\n"
     ]
    }
   ],
   "source": [
    "# Map\n",
    "def triple(value):\n",
    "    return 3*value\n",
    "\n",
    "def tripleStuff(a_list):\n",
    "    new_seq = map(triple, a_list)\n",
    "    return list(new_seq)\n",
    "\n",
    "def quadrupleStuff(a_list):\n",
    "    new_seq = map(lambda value: 4*value, a_list)\n",
    "    return list(new_seq)\n",
    "\n",
    "things = [2, 5, 9]\n",
    "things3 = tripleStuff(things)\n",
    "print(things3)\n",
    "things4 = quadrupleStuff(things)\n",
    "print(things4)"
   ]
  },
  {
   "cell_type": "code",
   "execution_count": 18,
   "id": "e2bd1f7c",
   "metadata": {},
   "outputs": [
    {
     "name": "stdout",
     "output_type": "stream",
     "text": [
      "[4, 6, 0]\n"
     ]
    }
   ],
   "source": [
    "# filter()\n",
    "\n",
    "def keep_evens(nums):\n",
    "    new_seq = filter(lambda num: num % 2 == 0, nums)\n",
    "    return list(new_seq)\n",
    "\n",
    "print(keep_evens([3, 4, 6, 7, 0, 1]))"
   ]
  },
  {
   "cell_type": "code",
   "execution_count": 1,
   "id": "8d7f138b",
   "metadata": {},
   "outputs": [
    {
     "name": "stdout",
     "output_type": "stream",
     "text": [
      "[4, 6, 0]\n"
     ]
    }
   ],
   "source": [
    "# List Comprehensions\n",
    "def keep_evens(nums):\n",
    "    new_list = [num for num in nums if num % 2 == 0]\n",
    "    return new_list\n",
    "\n",
    "print(keep_evens([3, 4, 6, 7, 0, 1]))"
   ]
  },
  {
   "cell_type": "code",
   "execution_count": 3,
   "id": "878900e1",
   "metadata": {},
   "outputs": [
    {
     "name": "stdout",
     "output_type": "stream",
     "text": [
      "[8, 12, 0]\n",
      "[8, 12, 0]\n"
     ]
    }
   ],
   "source": [
    "things = [3, 4, 6, 7, 0, 1]\n",
    "\n",
    "print(list(map(lambda x: x*2, filter(lambda y: y % 2 == 0, things))))\n",
    "\n",
    "# equivalent version using list comprehension\n",
    "print([x*2 for x in things if x % 2 == 0])"
   ]
  },
  {
   "cell_type": "code",
   "execution_count": 4,
   "id": "fb148eb2",
   "metadata": {},
   "outputs": [
    {
     "name": "stdout",
     "output_type": "stream",
     "text": [
      "[(3, 1), (4, 2), (5, 3)]\n"
     ]
    }
   ],
   "source": [
    "# zip\n",
    "L1 = [3, 4, 5]\n",
    "L2 = [1, 2, 3]\n",
    "L4 = list(zip(L1, L2))\n",
    "print(L4)"
   ]
  },
  {
   "cell_type": "markdown",
   "id": "7eb0e450",
   "metadata": {},
   "source": [
    "## Requesting Data from Internet - API's"
   ]
  },
  {
   "cell_type": "code",
   "execution_count": 1,
   "id": "1e688a6e",
   "metadata": {},
   "outputs": [],
   "source": [
    "# API - Application Programming Interface\n",
    "# REST - Representational State Transfer"
   ]
  },
  {
   "cell_type": "code",
   "execution_count": null,
   "id": "45077bfa",
   "metadata": {},
   "outputs": [],
   "source": [
    "\"\"\"REST API specifies how external programs can make HTTP requests to a \n",
    "web site in order to request that some computation be carried out and data returned as output.\"\"\""
   ]
  },
  {
   "cell_type": "code",
   "execution_count": 2,
   "id": "330a18b6",
   "metadata": {},
   "outputs": [],
   "source": [
    "# URL Structure for REST APIs\n",
    "\n",
    "\"\"\"In this format, the URL has a standard structure:\n",
    "1.the base URL\n",
    "2.a ? character\n",
    "3.one or more key-value pairs, formatted as key=value pairs and separated by the & character.\"\"\"\n",
    "\n",
    "# Let’s pull apart that URL.\n",
    "# ? term = Ann + Arbor & entity = podcast\n",
    "#     key value pair     key value pair"
   ]
  },
  {
   "cell_type": "code",
   "execution_count": null,
   "id": "6fa64269",
   "metadata": {},
   "outputs": [],
   "source": [
    "# Fetching a page\n",
    "\"\"\"In Python, there’s a module available, called requests. \n",
    "    You can use the get function in the requests module to fetch the contents of a page.\"\"\"\n",
    "\n",
    "Once we run requests.get, a python object is returned. \n",
    "It’s an instance of a class called Response that is defined in the requests module.\n",
    "\n",
    "The Response object has only two attributes that are set, and one method that can be invoked.\n",
    "\n",
    "The .text attribute.It contains the contents of the file or other information available from the url.\n",
    "\n",
    "The .url attribute displays the full url that was generated from the input parameters. \n",
    "It can be helpful for debugging purposes; you can print out the URL.\n",
    "\n",
    "The .json() method. This converts the text into a python list or dictionary, \n",
    "by passing the contents of the .text attribute to the jsons.loads function."
   ]
  },
  {
   "cell_type": "code",
   "execution_count": 31,
   "id": "ef0bd57b",
   "metadata": {},
   "outputs": [
    {
     "name": "stdout",
     "output_type": "stream",
     "text": [
      "<class 'requests.models.Response'>\n",
      "[{\"word\":\"money\",\"score\":4415,\"numSyllables\":2},{\"word\":\"honey\",\"score\":1206,\"numSyllables\":2},{\"wor\n",
      "https://api.datamuse.com/words?rel_rhy=funny\n",
      "--------------------------------------------\n",
      "<class 'list'>\n",
      "---first item in the list---\n",
      "{'word': 'money', 'score': 4415, 'numSyllables': 2}\n",
      "<class 'str'>\n",
      "---the whole list, pretty printed---\n",
      "[\n",
      "  {\n",
      "    \"word\": \"money\",\n",
      "    \"score\": 4415,\n",
      "    \"numSyllables\": 2\n",
      "  },\n",
      "  {\n",
      "    \"word\": \"honey\",\n",
      "    \"score\": 1206,\n",
      "    \"numSyllables\": 2\n",
      "  },\n",
      "  {\n",
      "    \"word\": \"sunny\",\n",
      "    \"score\": 717,\n",
      "    \"numSyllables\": 2\n",
      "  },\n",
      "  {\n",
      "    \"word\": \"bunny\",\n",
      "    \"score\": 702,\n",
      "    \"numSyllables\": 2\n",
      "  },\n",
      "  {\n",
      "    \"word\": \"blini\",\n",
      "    \"score\": 613,\n",
      "    \"numSyllables\": 2\n",
      "  },\n",
      "  {\n",
      "    \"word\": \"gunny\",\n",
      "    \"score\": 449,\n",
      "    \"numSyllables\": 2\n",
      "  },\n",
      "  {\n",
      "    \"word\": \"tunny\",\n",
      "    \"score\": 301,\n",
      "    \"numSyllables\": 2\n",
      "  },\n",
      "  {\n",
      "    \"word\": \"sonny\",\n",
      "    \"score\": 286,\n",
      "    \"numSyllables\": 2\n",
      "  },\n",
      "  {\n",
      "    \"word\": \"dunny\",\n",
      "    \"score\": 245,\n",
      "    \"numSyllables\": 2\n",
      "  },\n",
      "  {\n",
      "    \"word\": \"runny\",\n",
      "    \"score\": 225,\n",
      "    \"numSyllables\": 2\n",
      "  },\n",
      "  {\n",
      "    \"word\": \"thunny\",\n",
      "    \"score\": 222,\n",
      "    \"numSyllables\": 2\n",
      "  },\n",
      "  {\n",
      "    \"word\": \"aknee\",\n",
      "    \"score\": 179,\n",
      "    \"numSyllables\": 2\n",
      "  },\n",
      "  {\n",
      "    \"word\": \"squinny\",\n",
      "    \"score\": 170,\n",
      "    \"numSyllables\": 2\n",
      "  },\n",
      "  {\n",
      "    \"word\": \"fiat money\",\n",
      "    \"score\": 160,\n",
      "    \"numSyllables\": 4\n",
      "  },\n",
      "  {\n",
      "    \"word\": \"gunnie\",\n",
      "    \"score\": 156,\n",
      "    \"numSyllables\": 2\n",
      "  },\n",
      "  {\n",
      "    \"word\": \"blood money\",\n",
      "    \"score\": 152,\n",
      "    \"numSyllables\": 3\n",
      "  },\n",
      "  {\n",
      "    \"word\": \"squiny\",\n",
      "    \"score\": 151,\n",
      "    \"numSyllables\": 2\n",
      "  },\n",
      "  {\n",
      "    \"word\": \"tunney\",\n",
      "    \"score\": 119,\n",
      "    \"numSyllables\": 2\n",
      "  },\n",
      "  {\n",
      "    \"word\": \"spinny\",\n",
      "    \"score\": 117,\n",
      "    \"numSyllables\": 2\n",
      "  },\n",
      "  {\n",
      "    \"word\": \"pin money\",\n",
      "    \"score\": 107,\n",
      "    \"numSyllables\": 3\n",
      "  },\n",
      "  {\n",
      "    \"word\": \"easy money\",\n",
      "    \"score\": 66,\n",
      "    \"numSyllables\": 4\n",
      "  },\n",
      "  {\n",
      "    \"word\": \"smart money\",\n",
      "    \"score\": 66,\n",
      "    \"numSyllables\": 3\n",
      "  },\n",
      "  {\n",
      "    \"word\": \"earnest money\",\n",
      "    \"score\": 62,\n",
      "    \"numSyllables\": 4\n",
      "  },\n",
      "  {\n",
      "    \"word\": \"easter bunny\",\n",
      "    \"score\": 56,\n",
      "    \"numSyllables\": 4\n",
      "  },\n",
      "  {\n",
      "    \"word\": \"paper money\",\n",
      "    \"score\": 54,\n",
      "    \"numSyllables\": 4\n",
      "  },\n",
      "  {\n",
      "    \"word\": \"pocket money\",\n",
      "    \"score\": 47,\n",
      "    \"numSyllables\": 4\n",
      "  },\n",
      "  {\n",
      "    \"word\": \"folding money\",\n",
      "    \"score\": 46,\n",
      "    \"numSyllables\": 4\n",
      "  },\n",
      "  {\n",
      "    \"word\": \"conscience money\",\n",
      "    \"score\": 41,\n",
      "    \"numSyllables\": 4\n",
      "  },\n",
      "  {\n",
      "    \"word\": \"hush money\",\n",
      "    \"score\": 40,\n",
      "    \"numSyllables\": 3\n",
      "  },\n",
      "  {\n",
      "    \"word\": \"prize money\",\n",
      "    \"score\": 37,\n",
      "    \"numSyllables\": 3\n",
      "  },\n",
      "  {\n",
      "    \"word\": \"amount of money\",\n",
      "    \"score\": 33,\n",
      "    \"numSyllables\": 5\n",
      "  },\n",
      "  {\n",
      "    \"word\": \"for love or money\",\n",
      "    \"score\": 32,\n",
      "    \"numSyllables\": 5\n",
      "  },\n",
      "  {\n",
      "    \"word\": \"tight money\",\n",
      "    \"score\": 32,\n",
      "    \"numSyllables\": 3\n",
      "  },\n",
      "  {\n",
      "    \"word\": \"ship money\",\n",
      "    \"score\": 30,\n",
      "    \"numSyllables\": 3\n",
      "  },\n",
      "  {\n",
      "    \"word\": \"metal money\",\n",
      "    \"score\": 27,\n",
      "    \"numSyllables\": 4\n",
      "  },\n",
      "  {\n",
      "    \"word\": \"sum of money\",\n",
      "    \"score\": 23,\n",
      "    \"numSyllables\": 4\n",
      "  },\n",
      "  {\n",
      "    \"word\": \"entrance money\",\n",
      "    \"score\": 22,\n",
      "    \"numSyllables\": 4\n",
      "  },\n",
      "  {\n",
      "    \"word\": \"cheap money\",\n",
      "    \"score\": 21,\n",
      "    \"numSyllables\": 3\n",
      "  },\n",
      "  {\n",
      "    \"word\": \"spending money\",\n",
      "    \"score\": 21,\n",
      "    \"numSyllables\": 4\n",
      "  },\n",
      "  {\n",
      "    \"word\": \"token money\",\n",
      "    \"score\": 21,\n",
      "    \"numSyllables\": 4\n",
      "  },\n",
      "  {\n",
      "    \"word\": \"waste of money\",\n",
      "    \"score\": 19,\n",
      "    \"numSyllables\": 4\n",
      "  },\n",
      "  {\n",
      "    \"word\": \"ransom money\",\n",
      "    \"score\": 18,\n",
      "    \"numSyllables\": 4\n",
      "  },\n",
      "  {\n",
      "    \"word\": \"hearth money\",\n",
      "    \"score\": 14,\n",
      "    \"numSyllables\": 3\n",
      "  },\n",
      "  {\n",
      "    \"word\": \"munni\",\n",
      "    \"score\": 14,\n",
      "    \"numSyllables\": 2\n",
      "  },\n",
      "  {\n",
      "    \"word\": \"bunnie\",\n",
      "    \"score\": 2,\n",
      "    \"numSyllables\": 2\n",
      "  },\n",
      "  {\n",
      "    \"word\": \"euromoney\",\n",
      "    \"score\": 2,\n",
      "    \"numSyllables\": 4\n",
      "  },\n",
      "  {\n",
      "    \"word\": \"smartmoney\",\n",
      "    \"score\": 2,\n",
      "    \"numSyllables\": 3\n",
      "  },\n",
      "  {\n",
      "    \"word\": \"anyone he\",\n",
      "    \"numSyllables\": 4\n",
      "  },\n",
      "  {\n",
      "    \"word\": \"begun he\",\n",
      "    \"numSyllables\": 3\n",
      "  },\n",
      "  {\n",
      "    \"word\": \"bunney\",\n",
      "    \"numSyllables\": 2\n",
      "  },\n",
      "  {\n",
      "    \"word\": \"ca ne\",\n",
      "    \"numSyllables\": 2\n",
      "  },\n",
      "  {\n",
      "    \"word\": \"done he\",\n",
      "    \"numSyllables\": 2\n",
      "  },\n",
      "  {\n",
      "    \"word\": \"donne e\",\n",
      "    \"numSyllables\": 2\n",
      "  },\n",
      "  {\n",
      "    \"word\": \"everyone he\",\n",
      "    \"numSyllables\": 4\n",
      "  },\n",
      "  {\n",
      "    \"word\": \"fun he\",\n",
      "    \"numSyllables\": 2\n",
      "  },\n",
      "  {\n",
      "    \"word\": \"grandson he\",\n",
      "    \"numSyllables\": 3\n",
      "  },\n",
      "  {\n",
      "    \"word\": \"gun he\",\n",
      "    \"numSyllables\": 2\n",
      "  },\n",
      "  {\n",
      "    \"word\": \"handgun he\",\n",
      "    \"numSyllables\": 3\n",
      "  },\n",
      "  {\n",
      "    \"word\": \"kun hee\",\n",
      "    \"numSyllables\": 2\n",
      "  },\n",
      "  {\n",
      "    \"word\": \"le ne\",\n",
      "    \"numSyllables\": 2\n",
      "  },\n",
      "  {\n",
      "    \"word\": \"lunney\",\n",
      "    \"numSyllables\": 2\n",
      "  },\n",
      "  {\n",
      "    \"word\": \"lunny\",\n",
      "    \"numSyllables\": 2\n",
      "  },\n",
      "  {\n",
      "    \"word\": \"none e\",\n",
      "    \"numSyllables\": 2\n",
      "  },\n",
      "  {\n",
      "    \"word\": \"none he\",\n",
      "    \"numSyllables\": 2\n",
      "  },\n",
      "  {\n",
      "    \"word\": \"nun he\",\n",
      "    \"numSyllables\": 2\n",
      "  },\n",
      "  {\n",
      "    \"word\": \"one he\",\n",
      "    \"numSyllables\": 2\n",
      "  },\n",
      "  {\n",
      "    \"word\": \"one knee\",\n",
      "    \"numSyllables\": 2\n",
      "  },\n",
      "  {\n",
      "    \"word\": \"pun he\",\n",
      "    \"numSyllables\": 2\n",
      "  },\n",
      "  {\n",
      "    \"word\": \"run e\",\n",
      "    \"numSyllables\": 2\n",
      "  },\n",
      "  {\n",
      "    \"word\": \"run he\",\n",
      "    \"numSyllables\": 2\n",
      "  },\n",
      "  {\n",
      "    \"word\": \"shotgun he\",\n",
      "    \"numSyllables\": 3\n",
      "  },\n",
      "  {\n",
      "    \"word\": \"someone e\",\n",
      "    \"numSyllables\": 3\n",
      "  },\n",
      "  {\n",
      "    \"word\": \"someone he\",\n",
      "    \"numSyllables\": 3\n",
      "  },\n",
      "  {\n",
      "    \"word\": \"son e\",\n",
      "    \"numSyllables\": 2\n",
      "  },\n",
      "  {\n",
      "    \"word\": \"son he\",\n",
      "    \"numSyllables\": 2\n",
      "  },\n",
      "  {\n",
      "    \"word\": \"sun e\",\n",
      "    \"numSyllables\": 2\n",
      "  },\n",
      "  {\n",
      "    \"word\": \"sun he\",\n",
      "    \"numSyllables\": 2\n",
      "  },\n",
      "  {\n",
      "    \"word\": \"ton he\",\n",
      "    \"numSyllables\": 2\n",
      "  },\n",
      "  {\n",
      "    \"word\": \"ton ne\",\n",
      "    \"numSyllables\": 2\n",
      "  },\n",
      "  {\n",
      "    \"word\": \"un e\",\n",
      "    \"numSyllables\": 2\n",
      "  },\n",
      "  {\n",
      "    \"word\": \"un he\",\n",
      "    \"numSyllables\": 2\n",
      "  },\n",
      "  {\n",
      "    \"word\": \"un ne\",\n",
      "    \"numSyllables\": 2\n",
      "  },\n",
      "  {\n",
      "    \"word\": \"un ni\",\n",
      "    \"numSyllables\": 2\n",
      "  },\n",
      "  {\n",
      "    \"word\": \"won he\",\n",
      "    \"numSyllables\": 2\n",
      "  }\n",
      "]\n"
     ]
    }
   ],
   "source": [
    "import requests\n",
    "import json\n",
    "page=requests.get(\"https://api.datamuse.com/words?rel_rhy=funny\")\n",
    "print(type(page)) \n",
    "print(page.text[:100])   # print the first 100 characters\n",
    "print(page.url)   # print the url that was fetched\n",
    "print(\"--------------------------------------------\")\n",
    "x=page.json()  # # turn page.text into a python object\n",
    "print(type(x))\n",
    "print(\"---first item in the list---\")\n",
    "print(x[0])\n",
    "con=json.dumps(x, indent=2)\n",
    "print(type(con)) # pretty print the results\n",
    "print(\"---the whole list, pretty printed---\")\n",
    "print(con)"
   ]
  },
  {
   "cell_type": "code",
   "execution_count": 39,
   "id": "44851b6a",
   "metadata": {},
   "outputs": [
    {
     "name": "stdout",
     "output_type": "stream",
     "text": [
      "https://www.google.com/search?q=%22nature+and+oceans%22&tbm=isch\n"
     ]
    }
   ],
   "source": [
    "# Using requests.get to encode URL parameters\n",
    "\n",
    "\"\"\"The get function in the requests module takes an optional parameter called params. \n",
    "If a value is specified for that parameter, it should be a dictionary. \n",
    "The keys and values in that dictionary are used to append something to the URL that is requested from the remote site.\"\"\"\n",
    "\n",
    "\"\"\"The whole url is that base url, plus a question mark, “?”, plus a “q=…” and a “tbm=…” separated by an “&”. \n",
    "In other words, the final url that is visited is https://www.google.com/search?q=%22violins+and+guitars%22&tbm=isch.\"\"\"\n",
    "\n",
    "d = {'q': '\"nature and oceans\"', 'tbm': 'isch'}\n",
    "results = requests.get(\"https://google.com/search\", params=d)\n",
    "print(results.url)"
   ]
  },
  {
   "cell_type": "code",
   "execution_count": 56,
   "id": "f70e99b5",
   "metadata": {},
   "outputs": [
    {
     "name": "stdout",
     "output_type": "stream",
     "text": [
      "[{\"word\":\"money\",\"score\":4415,\"numSyllables\":2},{\"word\":\"honey\",\"score\":1206,\"numSyllables\":2},{\"word\":\"sunny\",\"score\":717,\"numSyllables\":2},{\"word\":\"\n",
      "<class 'requests.models.Response'>\n",
      "https://api.datamuse.com/words?rel_rhy=funny\n"
     ]
    }
   ],
   "source": [
    "import requests\n",
    "import json\n",
    "# page = requests.get(\"https://api.datamuse.com/words?rel_rhy=funny\")\n",
    "kval_pairs = {'rel_rhy': 'funny'}\n",
    "page = requests.get(\"https://api.datamuse.com/words\", params=kval_pairs)\n",
    "print(page.text[:150]) # print the first 150 characters\n",
    "print(type(page))\n",
    "print(page.url) # print the url that was fetched"
   ]
  },
  {
   "cell_type": "markdown",
   "id": "87da0022",
   "metadata": {},
   "source": [
    "## Using REST API's"
   ]
  },
  {
   "cell_type": "code",
   "execution_count": 26,
   "id": "aca5b31c",
   "metadata": {},
   "outputs": [
    {
     "name": "stdout",
     "output_type": "stream",
     "text": [
      "Enter the word to get rhyming words :funny\n",
      "['money', 'honey', 'sunny', 'bunny', 'blini', 'gunny']\n"
     ]
    }
   ],
   "source": [
    "# Defining a function to make repeated invocations.\n",
    "# Get any rhyming words by passing in function.\n",
    "import requests\n",
    "def get_rhymes(word):\n",
    "    baseurl=\"https://api.datamuse.com/words\"\n",
    "    params_diction = {} # Set up an empty dictionary for query parameters\n",
    "    params_diction[\"rel_rhy\"] = word\n",
    "    params_diction[\"max\"] = \"6\" # get at most 6 results\n",
    "    resp = requests.get(baseurl, params=params_diction)\n",
    "    # return the top three words\n",
    "    word_ds = resp.json()\n",
    "    return [d['word'] for d in word_ds]\n",
    "    return resp.json() # Return a python object (a list of dictionaries in this case)\n",
    "\n",
    "n=input(\"Enter the word to get rhyming words :\")\n",
    "print(get_rhymes(n))"
   ]
  },
  {
   "cell_type": "code",
   "execution_count": 25,
   "id": "4ec3bee0",
   "metadata": {},
   "outputs": [
    {
     "name": "stdout",
     "output_type": "stream",
     "text": [
      "Enter the Symbol of Stock TATASTEEL\n",
      "API LINK : https://www.alphavantage.co/query?function=TIME_SERIES_DAILY&symbol=TATASTEEL.BSE&outputsize=full&apikey=1P042LC7N5YLCTDP\n",
      "----------------------------------------------------------------------------------------\n",
      "Information    : Daily Prices (open, high, low, close) and Volumes\n",
      "Symbol         : TATASTEEL.BSE\n",
      "Last Refreshed : 2022-01-11\n",
      "Output Size    : Full size\n",
      "Time Zone      : US/Eastern\n",
      "----------------------------------------------------------------------------------------\n",
      "Open Price  : 1157.0000\n",
      "High Price  : 1163.5000\n",
      "Low Price   : 1112.8500\n",
      "Close Price : 1130.1500\n",
      "Volumes     : 355413\n"
     ]
    }
   ],
   "source": [
    "# Using a stock Market API\n",
    "import requests\n",
    "import json\n",
    "def share(stock):\n",
    "    baseurl='https://www.alphavantage.co/query?function=TIME_SERIES_DAILY&symbol='+(stock)+'.BSE&outputsize=full&apikey=1P042LC7N5YLCTDP'\n",
    "    a=requests.get(baseurl)\n",
    "    b=a.json()\n",
    "    print('API LINK :',a.url)\n",
    "    print(\"----------------------------------------------------------------------------------------\")\n",
    "    print(\"Information    :\",b['Meta Data']['1. Information'])\n",
    "    print(\"Symbol         :\",b['Meta Data'][\"2. Symbol\"])\n",
    "    print(\"Last Refreshed :\",b['Meta Data'][\"3. Last Refreshed\"])\n",
    "    print(\"Output Size    :\",b['Meta Data'][\"4. Output Size\"])\n",
    "    print(\"Time Zone      :\",b['Meta Data'][\"5. Time Zone\"])\n",
    "\n",
    "    from datetime import date\n",
    "    from datetime import timedelta\n",
    "    today=(date.today())\n",
    "    yesterday = today - timedelta(days = 1)\n",
    "    print(\"----------------------------------------------------------------------------------------\")\n",
    "    print(\"Open Price  :\",b[\"Time Series (Daily)\"][str(yesterday)]['1. open'])\n",
    "    print(\"High Price  :\",b[\"Time Series (Daily)\"][str(yesterday)]['2. high'])\n",
    "    print(\"Low Price   :\",b[\"Time Series (Daily)\"][str(yesterday)]['3. low'])\n",
    "    print(\"Close Price :\",b[\"Time Series (Daily)\"][str(yesterday)]['4. close'])\n",
    "    print(\"Volumes     :\",b[\"Time Series (Daily)\"][str(yesterday)]['5. volume'])\n",
    "    \n",
    "n=input(\"Enter the Symbol of Stock \")\n",
    "share(n)\n",
    "    "
   ]
  },
  {
   "cell_type": "code",
   "execution_count": 30,
   "id": "8de0df2f",
   "metadata": {},
   "outputs": [
    {
     "name": "stdout",
     "output_type": "stream",
     "text": [
      "Caching Response Content\n"
     ]
    }
   ],
   "source": [
    "# requests_with_caching module\n",
    "\n",
    "\"\"\"Your code will include a statement to import the module, import requests_with_caching.\n",
    "Instead of invoking requests.get(), you’ll invoke requests_with_caching.get().\"\"\"\n",
    "\n",
    "\"\"\"You’ll get exactly the same Response object back that you would have gotten. \n",
    "But you’ll also get a printout in the output window with one of the following three diagnostic messages:\"\"\"\n",
    "\n",
    "# 1.found in permanent cache\n",
    "# 2.found in page-specific cache\n",
    "# 3.new; adding to cache\n",
    "\n",
    "# There are a couple of other optional parameters for the function requests_with_caching.get().\n",
    "\n",
    "'''1. cache_file– it’s value should be a string specifying the name of the file containing the permanent cache. \n",
    "If you don’t specify anything, the default value is “permanent_cache.txt”.'''\n",
    "\n",
    "\"\"\"private_keys_to_ignore– its value should be a list of strings. \n",
    "These are keys from the parameters dictionary that should be ignored when deciding whether the current request matches \n",
    "a previous request.\"\"\"\n",
    "\n",
    "print(\"Caching Response Content\")"
   ]
  },
  {
   "cell_type": "code",
   "execution_count": 38,
   "id": "b9a276ad",
   "metadata": {},
   "outputs": [
    {
     "ename": "ModuleNotFoundError",
     "evalue": "No module named 'requests_with_caching'",
     "output_type": "error",
     "traceback": [
      "\u001b[1;31m---------------------------------------------------------------------------\u001b[0m",
      "\u001b[1;31mModuleNotFoundError\u001b[0m                       Traceback (most recent call last)",
      "\u001b[1;32m~\\AppData\\Local\\Temp/ipykernel_29404/2300378856.py\u001b[0m in \u001b[0;36m<module>\u001b[1;34m\u001b[0m\n\u001b[1;32m----> 1\u001b[1;33m \u001b[1;32mimport\u001b[0m \u001b[0mrequests_with_caching\u001b[0m\u001b[1;33m\u001b[0m\u001b[1;33m\u001b[0m\u001b[0m\n\u001b[0m\u001b[0;32m      2\u001b[0m \u001b[1;31m# it's not found in the permanent cache\u001b[0m\u001b[1;33m\u001b[0m\u001b[1;33m\u001b[0m\u001b[0m\n\u001b[0;32m      3\u001b[0m \u001b[0mres\u001b[0m \u001b[1;33m=\u001b[0m \u001b[0mrequests_with_caching\u001b[0m\u001b[1;33m.\u001b[0m\u001b[0mget\u001b[0m\u001b[1;33m(\u001b[0m\u001b[1;34m\"https://api.datamuse.com/words?rel_rhy=happy\"\u001b[0m\u001b[1;33m,\u001b[0m \u001b[0mpermanent_cache_file\u001b[0m\u001b[1;33m=\u001b[0m\u001b[1;34m\"datamuse_cache.txt\"\u001b[0m\u001b[1;33m)\u001b[0m\u001b[1;33m\u001b[0m\u001b[1;33m\u001b[0m\u001b[0m\n\u001b[0;32m      4\u001b[0m \u001b[0mprint\u001b[0m\u001b[1;33m(\u001b[0m\u001b[0mres\u001b[0m\u001b[1;33m.\u001b[0m\u001b[0mtext\u001b[0m\u001b[1;33m[\u001b[0m\u001b[1;33m:\u001b[0m\u001b[1;36m100\u001b[0m\u001b[1;33m]\u001b[0m\u001b[1;33m)\u001b[0m\u001b[1;33m\u001b[0m\u001b[1;33m\u001b[0m\u001b[0m\n\u001b[0;32m      5\u001b[0m \u001b[1;31m# this time it will be found in the temporary cache\u001b[0m\u001b[1;33m\u001b[0m\u001b[1;33m\u001b[0m\u001b[0m\n",
      "\u001b[1;31mModuleNotFoundError\u001b[0m: No module named 'requests_with_caching'"
     ]
    }
   ],
   "source": [
    "import requests_with_caching\n",
    "# it's not found in the permanent cache\n",
    "res = requests_with_caching.get(\"https://api.datamuse.com/words?rel_rhy=happy\", permanent_cache_file=\"datamuse_cache.txt\")\n",
    "print(res.text[:100])\n",
    "# this time it will be found in the temporary cache\n",
    "res = requests_with_caching.get(\"https://api.datamuse.com/words?rel_rhy=happy\", permanent_cache_file=\"datamuse_cache.txt\")\n",
    "# This one is in the permanent cache.\n",
    "res = requests_with_caching.get(\"https://api.datamuse.com/words?rel_rhy=funny\", permanent_cache_file=\"datamuse_cache.txt\")\n"
   ]
  },
  {
   "cell_type": "code",
   "execution_count": 41,
   "id": "3dc44169",
   "metadata": {},
   "outputs": [],
   "source": [
    "# iTunes API\n",
    "# flickr API"
   ]
  },
  {
   "cell_type": "code",
   "execution_count": null,
   "id": "c4c5005c",
   "metadata": {},
   "outputs": [],
   "source": []
  }
 ],
 "metadata": {
  "kernelspec": {
   "display_name": "Python 3 (ipykernel)",
   "language": "python",
   "name": "python3"
  },
  "language_info": {
   "codemirror_mode": {
    "name": "ipython",
    "version": 3
   },
   "file_extension": ".py",
   "mimetype": "text/x-python",
   "name": "python",
   "nbconvert_exporter": "python",
   "pygments_lexer": "ipython3",
   "version": "3.10.0"
  }
 },
 "nbformat": 4,
 "nbformat_minor": 5
}
