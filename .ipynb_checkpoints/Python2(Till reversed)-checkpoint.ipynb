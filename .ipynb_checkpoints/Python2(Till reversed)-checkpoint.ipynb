{
 "cells": [
  {
   "cell_type": "markdown",
   "id": "c27c25f6",
   "metadata": {},
   "source": [
    "## Functions, Modules & Iterative Built in Functions"
   ]
  },
  {
   "cell_type": "markdown",
   "id": "0b98046e",
   "metadata": {},
   "source": [
    "### Functions"
   ]
  },
  {
   "cell_type": "code",
   "execution_count": 2,
   "id": "8258a8e8",
   "metadata": {},
   "outputs": [
    {
     "name": "stdout",
     "output_type": "stream",
     "text": [
      "Enter Name of Student Harshit\n",
      "Enter Class of Student 12\n",
      "Enter Roll Number of Student 28\n",
      "Harshit 12 28\n"
     ]
    }
   ],
   "source": [
    "# Function is a group of all statement(activities) that perform a specific task.\n",
    "# def fn_name() :\n",
    "\n",
    "def basic_details():\n",
    "    Name=input(\"Enter Name of Student \")\n",
    "    Class=int(input(\"Enter Class of Student \"))\n",
    "    Roll=int(input(\"Enter Roll Number of Student \"))\n",
    "    print(Name,Class,Roll)\n",
    "basic_details() #Function Calling"
   ]
  },
  {
   "cell_type": "code",
   "execution_count": 4,
   "id": "beff8013",
   "metadata": {},
   "outputs": [
    {
     "name": "stdout",
     "output_type": "stream",
     "text": [
      "Enter the work\n",
      "Reading\n"
     ]
    }
   ],
   "source": [
    "def work():\n",
    "    print(\"Enter the work\")\n",
    "    work=input()\n",
    "work()"
   ]
  },
  {
   "cell_type": "code",
   "execution_count": 5,
   "id": "13bb8a4f",
   "metadata": {},
   "outputs": [],
   "source": [
    "# Arguments and Parameters\n",
    "# Arguments are used to pass the information to the functions.\n",
    "# They are mentioned after function name inside the parentheses in function calling statement.\n",
    "# Any number of arguments can be added by separating them by commas.\n",
    "# Note: The number of parameters in function definition must be same as the number of arguments in function calling statement."
   ]
  },
  {
   "cell_type": "code",
   "execution_count": 12,
   "id": "10b08363",
   "metadata": {},
   "outputs": [
    {
     "name": "stdout",
     "output_type": "stream",
     "text": [
      "Enter First Number 8\n",
      "Enter Second Number 10\n",
      "10 is greater.\n"
     ]
    }
   ],
   "source": [
    "# Write a python program to determine the greater number among two numbers \n",
    "# using function greater(a,b), by passing two number as argument in function\n",
    "# calling.\n",
    "def greater(a,b):\n",
    "    if a>b:\n",
    "        print(f\"{a} is greater.\")\n",
    "    else:\n",
    "        print(f\"{b} is greater.\")\n",
    "a=int(input(\"Enter First Number \"))\n",
    "b=int(input(\"Enter Second Number \"))\n",
    "greater(a,b)"
   ]
  },
  {
   "cell_type": "code",
   "execution_count": 14,
   "id": "5ec9c025",
   "metadata": {},
   "outputs": [],
   "source": [
    "# Return Statement\n",
    "# Return statement indicate the end of function execution.\n",
    "# It is also used to return the values or results to the function calling statement."
   ]
  },
  {
   "cell_type": "code",
   "execution_count": 15,
   "id": "740cda81",
   "metadata": {},
   "outputs": [
    {
     "name": "stdout",
     "output_type": "stream",
     "text": [
      "Enter first number5\n",
      "Second Number6\n",
      "11\n"
     ]
    }
   ],
   "source": [
    "# Write a python program to demonstrate the return statement of function for the addition of two numbers.\n",
    "def addition(a,b):\n",
    "    return a+b\n",
    "x=int(input(\"Enter first number\"))\n",
    "y=int(input(\"Second Number\"))\n",
    "print(addition(x,y))\n",
    "    "
   ]
  },
  {
   "cell_type": "markdown",
   "id": "b9d5291b",
   "metadata": {},
   "source": [
    "#### Types of Arguments"
   ]
  },
  {
   "cell_type": "code",
   "execution_count": 151,
   "id": "f2c76b9a",
   "metadata": {},
   "outputs": [
    {
     "name": "stdout",
     "output_type": "stream",
     "text": [
      "Harshit\n",
      "Harshit, Hello!! Good Morning\n"
     ]
    }
   ],
   "source": [
    "# Types of Function Arguments\n",
    "#1.Default Arguments - Default arguments are values that are provided in the function definition.\n",
    "def greet(name, h=\", Hello!! Good Morning\"):\n",
    "    print(name+h)\n",
    "n=input()\n",
    "greet(n)"
   ]
  },
  {
   "cell_type": "code",
   "execution_count": 54,
   "id": "8e12c348",
   "metadata": {},
   "outputs": [
    {
     "ename": "SyntaxError",
     "evalue": "non-default argument follows default argument (Temp/ipykernel_22708/1158814346.py, line 2)",
     "output_type": "error",
     "traceback": [
      "\u001b[1;36m  File \u001b[1;32m\"C:\\Users\\harsh\\AppData\\Local\\Temp/ipykernel_22708/1158814346.py\"\u001b[1;36m, line \u001b[1;32m2\u001b[0m\n\u001b[1;33m    def greet(h=\", Hello!! Good Morning \", name):\u001b[0m\n\u001b[1;37m                                           ^\u001b[0m\n\u001b[1;31mSyntaxError\u001b[0m\u001b[1;31m:\u001b[0m non-default argument follows default argument\n"
     ]
    }
   ],
   "source": [
    "# Default argument and keyword arguments cant be used on same variable at same time.\n",
    "def greet(h=\", Hello!! Good Morning \", name):\n",
    "   print(name+h)\n",
    "n=input()\n",
    "greet(n)"
   ]
  },
  {
   "cell_type": "code",
   "execution_count": 40,
   "id": "91e3ec9c",
   "metadata": {},
   "outputs": [
    {
     "data": {
      "text/plain": [
       "60"
      ]
     },
     "execution_count": 40,
     "metadata": {},
     "output_type": "execute_result"
    }
   ],
   "source": [
    "#2.Keyword arguments\n",
    "# Default arguments are keyword arguments whose values are assigned at the time of function calling.\n",
    "def add(a,b,c):\n",
    "    return a+b+c\n",
    "add(a=10,b=20,c=30)"
   ]
  },
  {
   "cell_type": "code",
   "execution_count": 55,
   "id": "89d820a9",
   "metadata": {},
   "outputs": [
    {
     "name": "stdout",
     "output_type": "stream",
     "text": [
      "Vivek, Hello!! Good Morning, \n"
     ]
    }
   ],
   "source": [
    "def greet(name=\"Harshit\",h=\", Hello!! Good Morning, \"):\n",
    "   print(name+h)\n",
    "greet(\"Vivek\")"
   ]
  },
  {
   "cell_type": "code",
   "execution_count": 58,
   "id": "79c38d40",
   "metadata": {},
   "outputs": [
    {
     "ename": "SyntaxError",
     "evalue": "non-default argument follows default argument (Temp/ipykernel_22708/4100933674.py, line 1)",
     "output_type": "error",
     "traceback": [
      "\u001b[1;36m  File \u001b[1;32m\"C:\\Users\\harsh\\AppData\\Local\\Temp/ipykernel_22708/4100933674.py\"\u001b[1;36m, line \u001b[1;32m1\u001b[0m\n\u001b[1;33m    def add(a=20,b,c):\u001b[0m\n\u001b[1;37m                 ^\u001b[0m\n\u001b[1;31mSyntaxError\u001b[0m\u001b[1;31m:\u001b[0m non-default argument follows default argument\n"
     ]
    }
   ],
   "source": [
    "def add(a=20,b,c):\n",
    "    return a+b+c\n",
    "add(a,b=10,c=20)"
   ]
  },
  {
   "cell_type": "code",
   "execution_count": 61,
   "id": "93750f0d",
   "metadata": {},
   "outputs": [
    {
     "data": {
      "text/plain": [
       "60"
      ]
     },
     "execution_count": 61,
     "metadata": {},
     "output_type": "execute_result"
    }
   ],
   "source": [
    "# Positional arguments are arguments that need to be included in the proper position or order while calling the function.\n",
    "def add(a,b,c):\n",
    "    return a+b+c\n",
    "add(10,20,30)\n",
    "# Here values are pssed in their default order as a=10,b=20,c=30."
   ]
  },
  {
   "cell_type": "code",
   "execution_count": 64,
   "id": "a9d4102d",
   "metadata": {},
   "outputs": [],
   "source": [
    "# Arbitrary Arguments\n",
    "# When we are not sure in the advance that how many arguments our functionvwould require.\n",
    "# This kind of situation is handled through function calls with an arbitrary number of arguments."
   ]
  },
  {
   "cell_type": "code",
   "execution_count": 66,
   "id": "15630047",
   "metadata": {},
   "outputs": [],
   "source": [
    "# Types of Arbitrary Arguments\n",
    "# There are two types of arbitrary arguments as illustrated in the given figure below.\n",
    "#1 *args - It used for pass variable number arguments as tuple.\n",
    "#2 *kwargs - It used for pass variable number arguments as key value pair."
   ]
  },
  {
   "cell_type": "code",
   "execution_count": 74,
   "id": "7c1aa95c",
   "metadata": {},
   "outputs": [
    {
     "name": "stdout",
     "output_type": "stream",
     "text": [
      "orange\n",
      "Apple\n",
      "Mango\n",
      "Melon\n"
     ]
    }
   ],
   "source": [
    "# *args - *args is used by convention but you can take any variable for example *abc will work in same way as *args.\n",
    "# Write a program to demonstrate *args arbitrary arguments.\n",
    "def fruits(*args): #args is a tuple with arguments\n",
    "    for i in args:\n",
    "        print(i)\n",
    "s=fruits(\"orange\",\"Apple\",\"Mango\",\"Melon\")"
   ]
  },
  {
   "cell_type": "code",
   "execution_count": 76,
   "id": "d31a5f1d",
   "metadata": {},
   "outputs": [],
   "source": [
    "# **kwargs\n",
    "# ** Double star allows us to pass variable number of keyword arguments.\n",
    "# This turns the identifier keyword pairs into a dictionary within the function body."
   ]
  },
  {
   "cell_type": "code",
   "execution_count": 86,
   "id": "9432d5e0",
   "metadata": {},
   "outputs": [
    {
     "name": "stdout",
     "output_type": "stream",
     "text": [
      "('fruit1', 'orange')\n",
      "('fruit2', 'Apple')\n",
      "('fruit3', 'Mango')\n",
      "('fruit4', 'Melon')\n"
     ]
    }
   ],
   "source": [
    "# Write a program to demonstrate ** kwargs arbitrary arguments.\n",
    "def fruits(**kwargs): # **kwargs is a dictionary with key value pair.\n",
    "    for i in kwargs.items():\n",
    "        print(i)\n",
    "s=fruits(fruit1=\"orange\",fruit2=\"Apple\",fruit3=\"Mango\",fruit4=\"Melon\")"
   ]
  },
  {
   "cell_type": "code",
   "execution_count": 100,
   "id": "66bb8d7e",
   "metadata": {},
   "outputs": [
    {
     "name": "stdout",
     "output_type": "stream",
     "text": [
      "Enter the range 2000\n",
      "6\n",
      "28\n",
      "496\n"
     ]
    }
   ],
   "source": [
    "\"\"\"Write a program using this function to generate perfect numbers from 1 to 1000 ..\n",
    "[An integer number is said to be “perfect number” if its factors, including 1 (but not the \n",
    "number itself sum to the number E g 6 is a perfect number because 6=1+2+3\"\"\"\n",
    "def perfect(n):\n",
    "    s=0\n",
    "    for i in range(1,n):\n",
    "        if n%i==0:\n",
    "            s+=i\n",
    "    if s==n :\n",
    "        return True\n",
    "    else:\n",
    "        return False\n",
    "n=int(input(\"Enter the range \"))\n",
    "for i in range(1,n):\n",
    "    if perfect(i):\n",
    "        print(i)"
   ]
  },
  {
   "cell_type": "markdown",
   "id": "8764964d",
   "metadata": {},
   "source": [
    "#### Scope and Lifetime of variables"
   ]
  },
  {
   "cell_type": "code",
   "execution_count": 153,
   "id": "360502b7",
   "metadata": {},
   "outputs": [
    {
     "name": "stdout",
     "output_type": "stream",
     "text": [
      "Defenitions\n"
     ]
    }
   ],
   "source": [
    "# Scope and Lifetime of variables\n",
    "\"\"\"Scope- The scope of a variable determines its accessibility and availability\n",
    "in different portions of a program Their availability depends on where they\n",
    "are defined.\n",
    "Lifetime- The lifetime of a variable is the time during which the variable\n",
    "stays in memory.\"\"\"\n",
    "print(\"Defenitions\")"
   ]
  },
  {
   "cell_type": "code",
   "execution_count": 123,
   "id": "8b1233d9",
   "metadata": {},
   "outputs": [],
   "source": [
    "# Three kinds of variables in Python:\n",
    "# Global Variable - Variables that are declared outside of a function are known as global variables.\n",
    "# Local Variables - These are variables which are defined inside a function.\n",
    "                    # Their scope is only to that function.\n",
    "                    # They cannot be accessed from the outside of the function.\n",
    "# Non local variables - Nonlocal variables are used in nested functions\n",
    "                    # When a variable is either in local or global scope, it is called a nonlocal variable."
   ]
  },
  {
   "cell_type": "code",
   "execution_count": 124,
   "id": "58359cda",
   "metadata": {},
   "outputs": [
    {
     "name": "stdout",
     "output_type": "stream",
     "text": [
      "Global Variable 3\n",
      "Local Variable for fun_scope1 4\n",
      "Local Variable for fun_scope2 5\n"
     ]
    }
   ],
   "source": [
    "a=3\n",
    "print(\"Global Variable\",a)\n",
    "def fun_scope1():\n",
    "    a=4\n",
    "    print(\"Local Variable for fun_scope1\",a)\n",
    "    def fun_scope2():\n",
    "        a=5\n",
    "        print(\"Local Variable for fun_scope2\",a)\n",
    "    fun_scope2()\n",
    "fun_scope1()        "
   ]
  },
  {
   "cell_type": "code",
   "execution_count": 150,
   "id": "ac8b097d",
   "metadata": {},
   "outputs": [
    {
     "name": "stdout",
     "output_type": "stream",
     "text": [
      "Global Variable 3\n",
      "Local Variable for fun_scope1 4\n",
      "Local Variable for fun_scope2 4\n"
     ]
    }
   ],
   "source": [
    "# A program to use nonlocal keyword for nested functions.\n",
    "a=3\n",
    "print(\"Global Variable\",a)\n",
    "def fun_scope1():\n",
    "    a=4\n",
    "    print(\"Local Variable for fun_scope1\",a)\n",
    "    def fun_scope2():\n",
    "        nonlocal a\n",
    "        print(\"Local Variable for fun_scope2\",a)\n",
    "    fun_scope2()\n",
    "fun_scope1()"
   ]
  },
  {
   "cell_type": "markdown",
   "id": "81e4f3a8",
   "metadata": {},
   "source": [
    "#### Anonymous and Higher Order Function"
   ]
  },
  {
   "cell_type": "code",
   "execution_count": 154,
   "id": "1ae102b4",
   "metadata": {},
   "outputs": [],
   "source": [
    "# Anonymous Function\n",
    "# Lambda Function"
   ]
  },
  {
   "cell_type": "code",
   "execution_count": 157,
   "id": "9f719818",
   "metadata": {},
   "outputs": [
    {
     "name": "stdout",
     "output_type": "stream",
     "text": [
      "Anonymous Function\n"
     ]
    }
   ],
   "source": [
    "# Anonymous Function\n",
    "\"\"\"Sometimes we only have single expression to evaluate , so rather than\n",
    "creating regular function we create anonymous Function.\n",
    "\n",
    "These functions do not have return statemen t, because by default evaluated\n",
    "single expression is returned.\n",
    "\n",
    "This is one liner code and have following properties\n",
    "\n",
    "1.Function without name\n",
    "2.One expression statement but any number of arguments\n",
    "\"\"\"\n",
    "print(\"Anonymous Function\")\n",
    "# Syntax\n",
    "# lambda arguments:expression"
   ]
  },
  {
   "cell_type": "code",
   "execution_count": 161,
   "id": "fbf2952a",
   "metadata": {},
   "outputs": [
    {
     "name": "stdout",
     "output_type": "stream",
     "text": [
      "15\n"
     ]
    }
   ],
   "source": [
    "# Suppose we want to increment the value of variable by five, without writing lengthy code we can use lambda function.\n",
    "s=lambda a:a+5\n",
    "print(s(10))\n",
    "# lambda function is assigned to a variable s.\n",
    "# s is now called a normal function."
   ]
  },
  {
   "cell_type": "code",
   "execution_count": 166,
   "id": "5612bed2",
   "metadata": {},
   "outputs": [
    {
     "name": "stdout",
     "output_type": "stream",
     "text": [
      "6\n"
     ]
    }
   ],
   "source": [
    "# A program to add three values, using multiple arguments in lambda function.\n",
    "add=lambda a,b,c:a+b+c\n",
    "print(add(1,2,3))"
   ]
  },
  {
   "cell_type": "code",
   "execution_count": 167,
   "id": "9c2c08a5",
   "metadata": {},
   "outputs": [
    {
     "name": "stdout",
     "output_type": "stream",
     "text": [
      "200.0\n"
     ]
    }
   ],
   "source": [
    "# A program using lambda function to calculate the simple interest.\n",
    "SI=lambda p,r,t:p*r*t/100\n",
    "print(SI(1000,10,2))"
   ]
  },
  {
   "cell_type": "markdown",
   "id": "f08fb949",
   "metadata": {},
   "source": [
    "#### First Class Function and Higher Order Function"
   ]
  },
  {
   "cell_type": "code",
   "execution_count": 168,
   "id": "cc31a7fb",
   "metadata": {},
   "outputs": [],
   "source": [
    "# Function which can be passed as an argument is called FIRST CLASS FUNCTION.\n",
    "# Functions which take first class function as an argument are called HIGHER ORDER FUNCTION.\n",
    "# Syntax: fun1(fun2()):\n",
    "# fun1-Higher order function\n",
    "# fun2-First class function"
   ]
  },
  {
   "cell_type": "code",
   "execution_count": 172,
   "id": "15359e2a",
   "metadata": {},
   "outputs": [],
   "source": [
    "# Properties of first class function.\n",
    "        # Function can be passed as an argument into another function.\n",
    "        # Function can be assigned to a variable.\n",
    "        # Function can be returned from other function.\n",
    "        \n",
    "# Properties of High Order Function:\n",
    "        # Function can take other function as an argument.\n",
    "        # Function can return other function."
   ]
  },
  {
   "cell_type": "code",
   "execution_count": 173,
   "id": "b6ef83d4",
   "metadata": {},
   "outputs": [
    {
     "name": "stdout",
     "output_type": "stream",
     "text": [
      "15\n"
     ]
    }
   ],
   "source": [
    "# f1() is higher order function. It is accepting another function.\n",
    "def f1(f2):\n",
    "    return lambda x:f2(x)+5\n",
    "def f2(x):     # f2() is first class function.It is being passed to another function\n",
    "    return x+5\n",
    "a=f1(f2)\n",
    "print(a(5))"
   ]
  },
  {
   "cell_type": "code",
   "execution_count": 176,
   "id": "60c56266",
   "metadata": {},
   "outputs": [
    {
     "name": "stdout",
     "output_type": "stream",
     "text": [
      "a 20\n",
      "b 25\n",
      "Product is 500\n"
     ]
    }
   ],
   "source": [
    "# A program to demonstrate to return function from a function.\n",
    "def mul(a):\n",
    "    print(\"a\",a)\n",
    "    def multiplier(b):\n",
    "        print(\"b\",b)\n",
    "        return a*b\n",
    "    return multiplier\n",
    "mul20=mul(20)\n",
    "print(\"Product is\",mul20(25))"
   ]
  },
  {
   "cell_type": "markdown",
   "id": "73de16cc",
   "metadata": {},
   "source": [
    "#### Built in Higher order function in Python"
   ]
  },
  {
   "cell_type": "code",
   "execution_count": 177,
   "id": "74661a58",
   "metadata": {},
   "outputs": [],
   "source": [
    "# Built in higher order functions are capable of taking other function as argument.\n",
    "# These higher order functions are applied over a sequence of data."
   ]
  },
  {
   "cell_type": "code",
   "execution_count": 189,
   "id": "1a7a7d46",
   "metadata": {},
   "outputs": [],
   "source": [
    "# map()\n",
    "# Syntax\n",
    "# map(mapping_function iterables)\n",
    "# mapping_functions = Function to be applied on values.\n",
    "# *iterables = Sequence of values on which mapping function is applied."
   ]
  },
  {
   "cell_type": "code",
   "execution_count": 190,
   "id": "1e1277db",
   "metadata": {},
   "outputs": [
    {
     "name": "stdout",
     "output_type": "stream",
     "text": [
      "<map object at 0x000001F7EF973E50>\n"
     ]
    }
   ],
   "source": [
    "# One important thing to note that map function always returns map object.\n",
    "b=[1,2,3]\n",
    "a=map(str,b)\n",
    "print(a)  # Output is map object."
   ]
  },
  {
   "cell_type": "code",
   "execution_count": 192,
   "id": "9a9c2e72",
   "metadata": {},
   "outputs": [
    {
     "name": "stdout",
     "output_type": "stream",
     "text": [
      "['1', '2', '3']\n"
     ]
    }
   ],
   "source": [
    "# To access values, we need to type cast map object as some sequence datatype like lists, tuple, etc.\n",
    "b=[1,2,3]\n",
    "a=map(str,b)  # str is mapping_function & b is iterable\n",
    "print(list(a)) # Typecasting map object into list."
   ]
  },
  {
   "cell_type": "code",
   "execution_count": 201,
   "id": "b2aa560f",
   "metadata": {},
   "outputs": [
    {
     "name": "stdout",
     "output_type": "stream",
     "text": [
      "['abes', 'engineering', 'college']\n"
     ]
    }
   ],
   "source": [
    "# A program to convert a string of upper case words into lower case.\n",
    "l=[\"ABES\",\"ENGINEERING\",\"COLLEGE\"]\n",
    "a=map(str.lower,l)\n",
    "b=list(a)\n",
    "print(b)"
   ]
  },
  {
   "cell_type": "code",
   "execution_count": 202,
   "id": "b80952f1",
   "metadata": {},
   "outputs": [],
   "source": [
    "# filter()\n",
    "# Filter function is the high order function which takes a filtering criterion, need to apply on any sequence.\n",
    "# filter(filtering_function iterables)"
   ]
  },
  {
   "cell_type": "code",
   "execution_count": 206,
   "id": "bf5797e4",
   "metadata": {},
   "outputs": [
    {
     "name": "stdout",
     "output_type": "stream",
     "text": [
      "[2, 4, 6, 8, 10]\n"
     ]
    }
   ],
   "source": [
    "# One important thing to note that filter() function always returns map object.\n",
    "# A list of integers find out even numbers.\n",
    "l_num=[1,2,3,4,5,6,7,8,9,10]\n",
    "a=filter(lambda x:x%2==0, l_num)\n",
    "print(list(a))"
   ]
  },
  {
   "cell_type": "code",
   "execution_count": 210,
   "id": "d6eedbab",
   "metadata": {},
   "outputs": [],
   "source": [
    "# reduce()\n",
    "# Reduce is used in such scenarios where the values in the iterable would be calculated to a final value.\n",
    "# For example, take a collection of values 3 4 5 and we need to apply sum to it Then we would get 12.\n",
    "# Syntax\n",
    "# reduce(reducing_function, iterables, start_value(optional))"
   ]
  },
  {
   "cell_type": "code",
   "execution_count": 220,
   "id": "3f4b94f2",
   "metadata": {},
   "outputs": [
    {
     "data": {
      "text/plain": [
       "9"
      ]
     },
     "execution_count": 220,
     "metadata": {},
     "output_type": "execute_result"
    }
   ],
   "source": [
    "from functools import reduce\n",
    "l=[2,3,4]\n",
    "s=reduce(lambda x,y:x+y,l)\n",
    "s"
   ]
  },
  {
   "cell_type": "code",
   "execution_count": 227,
   "id": "a5359d52",
   "metadata": {},
   "outputs": [
    {
     "name": "stdout",
     "output_type": "stream",
     "text": [
      "2\n"
     ]
    }
   ],
   "source": [
    "x=[1,2]\n",
    "print(len(list(map(float,x))))"
   ]
  },
  {
   "cell_type": "markdown",
   "id": "699d557a",
   "metadata": {},
   "source": [
    "### Modules"
   ]
  },
  {
   "cell_type": "code",
   "execution_count": 7,
   "id": "8fd141a4",
   "metadata": {},
   "outputs": [
    {
     "name": "stdout",
     "output_type": "stream",
     "text": [
      "8\n"
     ]
    }
   ],
   "source": [
    "# In Python you can create your own module. You have to save file in same directory as cal.py file.\n",
    "import cal\n",
    "print(cal.add(5,3))"
   ]
  },
  {
   "cell_type": "code",
   "execution_count": 11,
   "id": "5772c365",
   "metadata": {},
   "outputs": [],
   "source": [
    "# How to import Modules in Python\n",
    "import math\n",
    "import math as m\n",
    "from math import sin"
   ]
  },
  {
   "cell_type": "code",
   "execution_count": 242,
   "id": "aa9a4744",
   "metadata": {},
   "outputs": [],
   "source": [
    "# Standard Built In Modules\n",
    "# Python has large number of built in functions similarly python contains some of the pre defined modules such as:"
   ]
  },
  {
   "cell_type": "markdown",
   "id": "265bd059",
   "metadata": {},
   "source": [
    "#### The Math Module"
   ]
  },
  {
   "cell_type": "markdown",
   "id": "9257b4fb",
   "metadata": {},
   "source": [
    "https://docs.python.org/3/library/math.html"
   ]
  },
  {
   "cell_type": "code",
   "execution_count": 46,
   "id": "e7da0c74",
   "metadata": {},
   "outputs": [
    {
     "name": "stdout",
     "output_type": "stream",
     "text": [
      "12.0\n",
      "15\n",
      "14\n",
      "7.38905609893065\n",
      "8.0\n",
      "24\n",
      "16\n",
      "48\n",
      "15.0\n",
      "1.0\n",
      "0.0\n"
     ]
    }
   ],
   "source": [
    "import math as m\n",
    "l=[1,2,3,4,5]\n",
    "print(m.sqrt(144))\n",
    "print(m.ceil(14.8))\n",
    "print(m.floor(14.8))\n",
    "print(m.exp(2))\n",
    "print(m.pow(2,3)) \n",
    "print(m.factorial(4))\n",
    "print(m.gcd(16,48))\n",
    "print(m.lcm(16,48))\n",
    "print(m.fsum(l))\n",
    "print(m.cos(0))\n",
    "print(m.sin(0))"
   ]
  },
  {
   "cell_type": "code",
   "execution_count": 41,
   "id": "eb03e227",
   "metadata": {},
   "outputs": [
    {
     "data": {
      "text/plain": [
       "6"
      ]
     },
     "execution_count": 41,
     "metadata": {},
     "output_type": "execute_result"
    }
   ],
   "source": [
    "# math.comb(n,k)  #Return the number of ways to choose k items from n items without repetition and without order.\n",
    "m.comb(4,2)"
   ]
  },
  {
   "cell_type": "code",
   "execution_count": 42,
   "id": "56db60bc",
   "metadata": {},
   "outputs": [
    {
     "data": {
      "text/plain": [
       "10.0"
      ]
     },
     "execution_count": 42,
     "metadata": {},
     "output_type": "execute_result"
    }
   ],
   "source": [
    "# math.fabs(x) Return the absolute value of x.\n",
    "m.fabs(-10)"
   ]
  },
  {
   "cell_type": "code",
   "execution_count": 52,
   "id": "a1e03daf",
   "metadata": {},
   "outputs": [
    {
     "data": {
      "text/plain": [
       "24"
      ]
     },
     "execution_count": 52,
     "metadata": {},
     "output_type": "execute_result"
    }
   ],
   "source": [
    "# math.perm(n, k=None) # Return the number of ways to choose k items from n items without repetition and with order.\n",
    "m.perm(4,3)"
   ]
  },
  {
   "cell_type": "markdown",
   "id": "6b3510df",
   "metadata": {},
   "source": [
    "#### The random Module\n",
    "https://docs.python.org/3/library/random.html"
   ]
  },
  {
   "cell_type": "code",
   "execution_count": 161,
   "id": "b8703e6e",
   "metadata": {},
   "outputs": [
    {
     "data": {
      "text/plain": [
       "0.3957795118582138"
      ]
     },
     "execution_count": 161,
     "metadata": {},
     "output_type": "execute_result"
    }
   ],
   "source": [
    "import random as rd\n",
    "rd.random() # Return the next random floating point number in the range (0.0, 1.0)."
   ]
  },
  {
   "cell_type": "code",
   "execution_count": 188,
   "id": "93c63fe3",
   "metadata": {},
   "outputs": [
    {
     "data": {
      "text/plain": [
       "5"
      ]
     },
     "execution_count": 188,
     "metadata": {},
     "output_type": "execute_result"
    }
   ],
   "source": [
    "l=[1,2,3,4,5,6]\n",
    "rd.choice(l)  #Choose a random element from a non empty sequence like string, list, tuple etc."
   ]
  },
  {
   "cell_type": "code",
   "execution_count": 221,
   "id": "1a5c50a9",
   "metadata": {},
   "outputs": [
    {
     "data": {
      "text/plain": [
       "1"
      ]
     },
     "execution_count": 221,
     "metadata": {},
     "output_type": "execute_result"
    }
   ],
   "source": [
    "# random.randint(a,b) - Return random integer between a and b, including both end points.\n",
    "rd.randint(1,6)"
   ]
  },
  {
   "cell_type": "code",
   "execution_count": 241,
   "id": "29819e85",
   "metadata": {},
   "outputs": [
    {
     "data": {
      "text/plain": [
       "[4, 3, 6, 5, 2, 1]"
      ]
     },
     "execution_count": 241,
     "metadata": {},
     "output_type": "execute_result"
    }
   ],
   "source": [
    "l=[1,2,3,4,5,6]\n",
    "rd.shuffle(l) # The shuffle() method takes a sequence and reorganize the order of the items.\n",
    "l"
   ]
  },
  {
   "cell_type": "code",
   "execution_count": 396,
   "id": "9e3cdb91",
   "metadata": {},
   "outputs": [
    {
     "data": {
      "text/plain": [
       "5"
      ]
     },
     "execution_count": 396,
     "metadata": {},
     "output_type": "execute_result"
    }
   ],
   "source": [
    "# rd.randrange(start, stop, step)\n",
    "rd.randrange(1,11,2)\n",
    "\"\"\"Return a randomly selected element from range(start, stop, step). \n",
    "This is equivalent to choice(range(start, stop, step)), but doesn’t actually build a range object.\"\"\""
   ]
  },
  {
   "cell_type": "markdown",
   "id": "abb2c7c9",
   "metadata": {},
   "source": [
    "#### The datetime module"
   ]
  },
  {
   "cell_type": "markdown",
   "id": "a9362e1d",
   "metadata": {},
   "source": [
    "https://docs.python.org/3/library/datetime.html"
   ]
  },
  {
   "cell_type": "code",
   "execution_count": 7,
   "id": "4a374c7a",
   "metadata": {},
   "outputs": [],
   "source": [
    "# The date class\n",
    "# A date object of date class represents a date in year, month and day."
   ]
  },
  {
   "cell_type": "code",
   "execution_count": 2,
   "id": "b826b094",
   "metadata": {},
   "outputs": [
    {
     "name": "stdout",
     "output_type": "stream",
     "text": [
      "2022-01-10\n",
      "10\n",
      "1\n",
      "0\n",
      "2022\n",
      "2022-01-09\n"
     ]
    }
   ],
   "source": [
    "import datetime as dt\n",
    "d=dt.date(2022,1,10)\n",
    "print(d)\n",
    "print(d.day)\n",
    "print(d.month)\n",
    "print(d.weekday())\n",
    "print(d.year)\n",
    "print(d.today())"
   ]
  },
  {
   "cell_type": "code",
   "execution_count": 412,
   "id": "cb83c2bb",
   "metadata": {},
   "outputs": [],
   "source": [
    "# The Time Class \n",
    "# Time object represents local time, independent of any day.\n",
    "# Create a time object and display hour, minute, second and microsecond in time object."
   ]
  },
  {
   "cell_type": "code",
   "execution_count": 5,
   "id": "a0e58a29",
   "metadata": {},
   "outputs": [
    {
     "name": "stdout",
     "output_type": "stream",
     "text": [
      "07:35:15.000006\n",
      "7\n",
      "35\n",
      "6\n"
     ]
    }
   ],
   "source": [
    "t=dt.time(7,35,15,6)\n",
    "print(t)\n",
    "print(t.hour)\n",
    "print(t.minute)\n",
    "print(t.microsecond)"
   ]
  },
  {
   "cell_type": "code",
   "execution_count": 423,
   "id": "d1e9eb51",
   "metadata": {},
   "outputs": [],
   "source": [
    "# The datetime class\n",
    "# Information on both date and time is contained in this class.\n",
    "# Create a time object and display hour, minute, second and microsecond in time object."
   ]
  },
  {
   "cell_type": "code",
   "execution_count": 4,
   "id": "64145615",
   "metadata": {},
   "outputs": [
    {
     "name": "stdout",
     "output_type": "stream",
     "text": [
      "2022\n",
      "1\n",
      "2022-01-09\n",
      "29\n",
      "30\n",
      "9\n"
     ]
    }
   ],
   "source": [
    "a=dt.datetime(2022,1,9,21,29,30,9)\n",
    "print(a.year)\n",
    "print(a.month)\n",
    "print(a.date())\n",
    "print(a.minute)\n",
    "print(a.second)\n",
    "print(a.microsecond)"
   ]
  },
  {
   "cell_type": "code",
   "execution_count": 11,
   "id": "ff9927af",
   "metadata": {},
   "outputs": [
    {
     "name": "stdout",
     "output_type": "stream",
     "text": [
      "2022-01-09 22:42:21.395715\n"
     ]
    }
   ],
   "source": [
    "# Write a program to fetch the current datetime of system and print it.\n",
    "a=dt.datetime.now()\n",
    "print(a)"
   ]
  },
  {
   "cell_type": "markdown",
   "id": "35be5805",
   "metadata": {},
   "source": [
    "#### The sys Module"
   ]
  },
  {
   "cell_type": "code",
   "execution_count": 13,
   "id": "736ec6c4",
   "metadata": {},
   "outputs": [],
   "source": [
    "# The sys module provides system specific parameters and functions. It gives us information \n",
    "# about constants, functions, and methods of the interpreter."
   ]
  },
  {
   "cell_type": "markdown",
   "id": "781f35e0",
   "metadata": {},
   "source": [
    " https:// docs.python.org /3/ sys.html"
   ]
  },
  {
   "cell_type": "code",
   "execution_count": 15,
   "id": "d092d8e2",
   "metadata": {},
   "outputs": [
    {
     "data": {
      "text/plain": [
       "'3.10.0 (tags/v3.10.0:b494f59, Oct  4 2021, 19:00:18) [MSC v.1929 64 bit (AMD64)]'"
      ]
     },
     "execution_count": 15,
     "metadata": {},
     "output_type": "execute_result"
    }
   ],
   "source": [
    "import sys\n",
    "sys.version"
   ]
  },
  {
   "cell_type": "markdown",
   "id": "8d8dd0f0",
   "metadata": {},
   "source": [
    "#### Iterative Built in Functions"
   ]
  },
  {
   "cell_type": "code",
   "execution_count": 18,
   "id": "78337d84",
   "metadata": {},
   "outputs": [],
   "source": [
    "# Enumerate: This is built in function provided by Python. This function assigns count values to the iterable.\n",
    "# Note: by default enumerate starts from 0 but we can change this start value as per our convenience.\n",
    "# enumerate(iterable,start=0)"
   ]
  },
  {
   "cell_type": "code",
   "execution_count": 27,
   "id": "2b43a784",
   "metadata": {},
   "outputs": [
    {
     "name": "stdout",
     "output_type": "stream",
     "text": [
      "<enumerate object at 0x000001B262C7CC80>\n",
      "<class 'enumerate'>\n",
      "[(0, 'Tue'), (1, 'Thurs'), (2, 'Wed'), (3, 'Mon'), (4, 'Sat'), (5, 'Sun'), (6, 'Fri')]\n",
      "[(5, 'Tue'), (6, 'Thurs'), (7, 'Wed'), (8, 'Mon'), (9, 'Sat'), (10, 'Sun'), (11, 'Fri')]\n"
     ]
    }
   ],
   "source": [
    "# Example : Demonstrating the enumerate usage in printing days of week.\n",
    "days={'Mon','Tue','Wed','Thurs','Fri','Sat','Sun'}\n",
    "enum_days=enumerate(days)\n",
    "print(enum_days)\n",
    "print(type(enum_days))\n",
    "\n",
    "print(list(enum_days)) # Printing starts from index 0.\n",
    "print(list(enumerate(days,5))) # Printing starts from index 5."
   ]
  },
  {
   "cell_type": "code",
   "execution_count": 31,
   "id": "3ea30947",
   "metadata": {},
   "outputs": [
    {
     "name": "stdout",
     "output_type": "stream",
     "text": [
      "(0, 1)\n",
      "(1, 2)\n",
      "(2, 3)\n",
      "(3, 4)\n",
      "(4, 5)\n"
     ]
    }
   ],
   "source": [
    "# enumerate with for loop\n",
    "# for i in enumerate(collection):\n",
    "l=[1,2,3,4,5]\n",
    "for i in enumerate(l):\n",
    "    print(i)"
   ]
  },
  {
   "cell_type": "code",
   "execution_count": 35,
   "id": "7985164a",
   "metadata": {},
   "outputs": [
    {
     "name": "stdout",
     "output_type": "stream",
     "text": [
      "zip()\n"
     ]
    }
   ],
   "source": [
    "# Zip\n",
    "\"\"\"The function returns a zip object, which is an iterator of tuples where the first item in each\n",
    "passed iterator is paired together, and then the second item in each passed iterator are paired\n",
    "together etc.\"\"\"\n",
    "print(\"zip()\")\n",
    "# Syntax - zip(iterator1,iterator2,iterator3)"
   ]
  },
  {
   "cell_type": "code",
   "execution_count": 40,
   "id": "926ef7f1",
   "metadata": {},
   "outputs": [
    {
     "name": "stdout",
     "output_type": "stream",
     "text": [
      "<zip object at 0x000001B262C94500>\n",
      "[(1, 'A', 'a'), (2, 'B', 'b'), (3, 'C', 'c'), (4, 'D', 'd'), (5, 'E', 'e')]\n"
     ]
    }
   ],
   "source": [
    "a=(1,2,3,4,5)\n",
    "b=('A','B','C','D','E')\n",
    "c=('a','b','c','d','e')\n",
    "x=zip(a,b,c)\n",
    "print(x)\n",
    "print(list(x))"
   ]
  },
  {
   "cell_type": "code",
   "execution_count": 43,
   "id": "0ef7b79b",
   "metadata": {},
   "outputs": [
    {
     "name": "stdout",
     "output_type": "stream",
     "text": [
      "sorted()\n"
     ]
    }
   ],
   "source": [
    "# Sorted\n",
    "'''Python contains a special built in method for sorting the data in a collection. It preserves the\n",
    "order of previous sequence or collection.'''\n",
    "# Syntax\n",
    "# sorted(iterable,key(optional),reverse(optional))\n",
    "print(\"sorted()\")"
   ]
  },
  {
   "cell_type": "code",
   "execution_count": 53,
   "id": "79beb714",
   "metadata": {},
   "outputs": [
    {
     "name": "stdout",
     "output_type": "stream",
     "text": [
      "In Ascending Order\n",
      "[1, 2, 3, 4, 5, 6, 7, 8, 9, 10]\n",
      "In Descending Order(reverse order)\n",
      "[10, 9, 8, 7, 6, 5, 4, 3, 2, 1]\n",
      "Original List is not Changed\n",
      "[6, 7, 4, 2, 1, 5, 10, 8, 9, 3]\n"
     ]
    }
   ],
   "source": [
    "# Sorted Example\n",
    "l=[6,7,4,2,1,5,10,8,9,3]\n",
    "print(\"In Ascending Order\")\n",
    "print(sorted(l))\n",
    "print(\"In Descending Order(reverse order)\")\n",
    "print(sorted(l,reverse=True))\n",
    "print(\"Original List is not Changed\")\n",
    "print(l)"
   ]
  },
  {
   "cell_type": "code",
   "execution_count": 54,
   "id": "1cc01eeb",
   "metadata": {},
   "outputs": [],
   "source": [
    "# Reversed\n",
    "# reversed() function returns the iterator in a reverse order. Iterator can be any sequence such as list, tuple etc.\n",
    "# reversed(seq)"
   ]
  },
  {
   "cell_type": "code",
   "execution_count": 59,
   "id": "1e5647a7",
   "metadata": {},
   "outputs": [
    {
     "name": "stdout",
     "output_type": "stream",
     "text": [
      "<reversed object at 0x000001B262B56E00>\n",
      "<class 'reversed'>\n",
      "['w', 'o', 'l', 'l', 'e', 'Y']\n"
     ]
    }
   ],
   "source": [
    "# for string\n",
    "s='Yellow'\n",
    "print(reversed(s))\n",
    "print(type(reversed(s)))\n",
    "print(list(reversed(s)))"
   ]
  },
  {
   "cell_type": "code",
   "execution_count": 61,
   "id": "d3986a14",
   "metadata": {},
   "outputs": [
    {
     "name": "stdout",
     "output_type": "stream",
     "text": [
      "['w', 'o', 'l', 'l', 'e', 'y']\n"
     ]
    }
   ],
   "source": [
    "# for touple\n",
    "t=('y','e','l','l','o','w')\n",
    "print(list(reversed(t)))"
   ]
  },
  {
   "cell_type": "code",
   "execution_count": 63,
   "id": "0c863911",
   "metadata": {},
   "outputs": [
    {
     "name": "stdout",
     "output_type": "stream",
     "text": [
      "[4, 3, 2, 1, 0]\n"
     ]
    }
   ],
   "source": [
    "# for range\n",
    "r=range(5)\n",
    "print(list(reversed(r)))"
   ]
  },
  {
   "cell_type": "code",
   "execution_count": 64,
   "id": "6a29d6e0",
   "metadata": {},
   "outputs": [
    {
     "name": "stdout",
     "output_type": "stream",
     "text": [
      "[0, 1, 2, 3, 4]\n"
     ]
    }
   ],
   "source": [
    "# for list\n",
    "l=[4, 3, 2, 1, 0]\n",
    "print(list(reversed(l)))"
   ]
  }
 ],
 "metadata": {
  "kernelspec": {
   "display_name": "Python 3 (ipykernel)",
   "language": "python",
   "name": "python3"
  },
  "language_info": {
   "codemirror_mode": {
    "name": "ipython",
    "version": 3
   },
   "file_extension": ".py",
   "mimetype": "text/x-python",
   "name": "python",
   "nbconvert_exporter": "python",
   "pygments_lexer": "ipython3",
   "version": "3.10.0"
  }
 },
 "nbformat": 4,
 "nbformat_minor": 5
}
