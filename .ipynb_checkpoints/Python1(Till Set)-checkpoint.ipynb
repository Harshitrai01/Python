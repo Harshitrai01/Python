{
 "cells": [
  {
   "cell_type": "markdown",
   "id": "8d02e1f4",
   "metadata": {},
   "source": [
    "# Introduction, Conditions & Loops, Collections & Sequences\n",
    "### Till Sets"
   ]
  },
  {
   "cell_type": "markdown",
   "id": "74d17777",
   "metadata": {},
   "source": [
    "## Unit 1 - Introduction"
   ]
  },
  {
   "cell_type": "code",
   "execution_count": 11,
   "id": "bc0dc71d",
   "metadata": {},
   "outputs": [
    {
     "name": "stdout",
     "output_type": "stream",
     "text": [
      "Hello World!\n"
     ]
    }
   ],
   "source": [
    "# This is Python Single Line Comment\n",
    "print(\"Hello World!\")"
   ]
  },
  {
   "cell_type": "code",
   "execution_count": 19,
   "id": "79750b67",
   "metadata": {},
   "outputs": [
    {
     "name": "stdout",
     "output_type": "stream",
     "text": [
      "Hello everyone!\n"
     ]
    }
   ],
   "source": [
    "\"\"\"This is an example\n",
    "of multi line comment in python.\"\"\"\n",
    "print(\"Hello everyone!\")"
   ]
  },
  {
   "cell_type": "code",
   "execution_count": 23,
   "id": "8e61f87d",
   "metadata": {},
   "outputs": [
    {
     "name": "stdout",
     "output_type": "stream",
     "text": [
      "<class 'int'>\n",
      "<class 'str'>\n"
     ]
    }
   ],
   "source": [
    "# type() command in python - gives type of variable\n",
    "a=10\n",
    "print(type(a))\n",
    "b='ABES'\n",
    "print(type(b))"
   ]
  },
  {
   "cell_type": "code",
   "execution_count": 26,
   "id": "b69caaad",
   "metadata": {},
   "outputs": [
    {
     "data": {
      "text/plain": [
       "['__abs__',\n",
       " '__add__',\n",
       " '__and__',\n",
       " '__bool__',\n",
       " '__ceil__',\n",
       " '__class__',\n",
       " '__delattr__',\n",
       " '__dir__',\n",
       " '__divmod__',\n",
       " '__doc__',\n",
       " '__eq__',\n",
       " '__float__',\n",
       " '__floor__',\n",
       " '__floordiv__',\n",
       " '__format__',\n",
       " '__ge__',\n",
       " '__getattribute__',\n",
       " '__getnewargs__',\n",
       " '__gt__',\n",
       " '__hash__',\n",
       " '__index__',\n",
       " '__init__',\n",
       " '__init_subclass__',\n",
       " '__int__',\n",
       " '__invert__',\n",
       " '__le__',\n",
       " '__lshift__',\n",
       " '__lt__',\n",
       " '__mod__',\n",
       " '__mul__',\n",
       " '__ne__',\n",
       " '__neg__',\n",
       " '__new__',\n",
       " '__or__',\n",
       " '__pos__',\n",
       " '__pow__',\n",
       " '__radd__',\n",
       " '__rand__',\n",
       " '__rdivmod__',\n",
       " '__reduce__',\n",
       " '__reduce_ex__',\n",
       " '__repr__',\n",
       " '__rfloordiv__',\n",
       " '__rlshift__',\n",
       " '__rmod__',\n",
       " '__rmul__',\n",
       " '__ror__',\n",
       " '__round__',\n",
       " '__rpow__',\n",
       " '__rrshift__',\n",
       " '__rshift__',\n",
       " '__rsub__',\n",
       " '__rtruediv__',\n",
       " '__rxor__',\n",
       " '__setattr__',\n",
       " '__sizeof__',\n",
       " '__str__',\n",
       " '__sub__',\n",
       " '__subclasshook__',\n",
       " '__truediv__',\n",
       " '__trunc__',\n",
       " '__xor__',\n",
       " 'as_integer_ratio',\n",
       " 'bit_count',\n",
       " 'bit_length',\n",
       " 'conjugate',\n",
       " 'denominator',\n",
       " 'from_bytes',\n",
       " 'imag',\n",
       " 'numerator',\n",
       " 'real',\n",
       " 'to_bytes']"
      ]
     },
     "execution_count": 26,
     "metadata": {},
     "output_type": "execute_result"
    }
   ],
   "source": [
    "# dir() commands gives all methods and properties related to that objects\n",
    "a=3\n",
    "dir(a)"
   ]
  },
  {
   "cell_type": "code",
   "execution_count": 28,
   "id": "e665c62e",
   "metadata": {},
   "outputs": [
    {
     "data": {
      "text/plain": [
       "['__add__',\n",
       " '__class__',\n",
       " '__contains__',\n",
       " '__delattr__',\n",
       " '__dir__',\n",
       " '__doc__',\n",
       " '__eq__',\n",
       " '__format__',\n",
       " '__ge__',\n",
       " '__getattribute__',\n",
       " '__getitem__',\n",
       " '__getnewargs__',\n",
       " '__gt__',\n",
       " '__hash__',\n",
       " '__init__',\n",
       " '__init_subclass__',\n",
       " '__iter__',\n",
       " '__le__',\n",
       " '__len__',\n",
       " '__lt__',\n",
       " '__mod__',\n",
       " '__mul__',\n",
       " '__ne__',\n",
       " '__new__',\n",
       " '__reduce__',\n",
       " '__reduce_ex__',\n",
       " '__repr__',\n",
       " '__rmod__',\n",
       " '__rmul__',\n",
       " '__setattr__',\n",
       " '__sizeof__',\n",
       " '__str__',\n",
       " '__subclasshook__',\n",
       " 'capitalize',\n",
       " 'casefold',\n",
       " 'center',\n",
       " 'count',\n",
       " 'encode',\n",
       " 'endswith',\n",
       " 'expandtabs',\n",
       " 'find',\n",
       " 'format',\n",
       " 'format_map',\n",
       " 'index',\n",
       " 'isalnum',\n",
       " 'isalpha',\n",
       " 'isascii',\n",
       " 'isdecimal',\n",
       " 'isdigit',\n",
       " 'isidentifier',\n",
       " 'islower',\n",
       " 'isnumeric',\n",
       " 'isprintable',\n",
       " 'isspace',\n",
       " 'istitle',\n",
       " 'isupper',\n",
       " 'join',\n",
       " 'ljust',\n",
       " 'lower',\n",
       " 'lstrip',\n",
       " 'maketrans',\n",
       " 'partition',\n",
       " 'removeprefix',\n",
       " 'removesuffix',\n",
       " 'replace',\n",
       " 'rfind',\n",
       " 'rindex',\n",
       " 'rjust',\n",
       " 'rpartition',\n",
       " 'rsplit',\n",
       " 'rstrip',\n",
       " 'split',\n",
       " 'splitlines',\n",
       " 'startswith',\n",
       " 'strip',\n",
       " 'swapcase',\n",
       " 'title',\n",
       " 'translate',\n",
       " 'upper',\n",
       " 'zfill']"
      ]
     },
     "execution_count": 28,
     "metadata": {},
     "output_type": "execute_result"
    }
   ],
   "source": [
    "s='string'\n",
    "dir(s)"
   ]
  },
  {
   "cell_type": "code",
   "execution_count": 13,
   "id": "9c5c0d4d",
   "metadata": {},
   "outputs": [
    {
     "name": "stdout",
     "output_type": "stream",
     "text": [
      "21.5\n"
     ]
    },
    {
     "data": {
      "text/plain": [
       "float"
      ]
     },
     "execution_count": 13,
     "metadata": {},
     "output_type": "execute_result"
    }
   ],
   "source": [
    "'''Type Conversion\n",
    "    Implicit Conversion - Automatically Converted By the Interpreter'''\n",
    "a=10\n",
    "b=11.5\n",
    "c=a+b\n",
    "print(c)\n",
    "type(c)\n",
    "# Here you can see data type of c automatically converted to float."
   ]
  },
  {
   "cell_type": "code",
   "execution_count": 17,
   "id": "e1c874ae",
   "metadata": {},
   "outputs": [
    {
     "name": "stdout",
     "output_type": "stream",
     "text": [
      "2.6666666666666665\n",
      "2\n"
     ]
    }
   ],
   "source": [
    "#Explicit type conversion\n",
    "a=8\n",
    "b=3\n",
    "c=a/b\n",
    "print(c)  # here c is of float data type\n",
    "print(int(c)) # here c is type casted to int data type"
   ]
  },
  {
   "cell_type": "code",
   "execution_count": 18,
   "id": "2453aed0",
   "metadata": {},
   "outputs": [
    {
     "name": "stdout",
     "output_type": "stream",
     "text": [
      "<class 'int'>\n",
      "(10+0j)\n"
     ]
    }
   ],
   "source": [
    "a=10\n",
    "print(type(a))\n",
    "complex(a)\n",
    "print(complex(a))"
   ]
  },
  {
   "cell_type": "code",
   "execution_count": 26,
   "id": "cd5c2186",
   "metadata": {},
   "outputs": [
    {
     "name": "stdout",
     "output_type": "stream",
     "text": [
      "Enter a number 5\n"
     ]
    },
    {
     "data": {
      "text/plain": [
       "int"
      ]
     },
     "execution_count": 26,
     "metadata": {},
     "output_type": "execute_result"
    }
   ],
   "source": [
    "a=int(input(\"Enter a number \"))\n",
    "type(a)"
   ]
  },
  {
   "cell_type": "code",
   "execution_count": 31,
   "id": "6b9bc57c",
   "metadata": {},
   "outputs": [
    {
     "name": "stdout",
     "output_type": "stream",
     "text": [
      "Hello *** Everyone\n"
     ]
    }
   ],
   "source": [
    "#seperating between print we use (sep=\"**\")\n",
    "a=\"Hello\"\n",
    "b=\"Everyone\"\n",
    "print(a,b,sep=\" *** \")"
   ]
  },
  {
   "cell_type": "code",
   "execution_count": 69,
   "id": "08f9541a",
   "metadata": {},
   "outputs": [
    {
     "name": "stdout",
     "output_type": "stream",
     "text": [
      "Enter a 6\n",
      "Enter b 3\n",
      "Sum is 9\n",
      "Sum of 6 and 3 is 9.\n"
     ]
    }
   ],
   "source": [
    "a=int(input(\"Enter a \"))\n",
    "b=int(input(\"Enter b \"))\n",
    "c=a+b\n",
    "print(\"Sum is\",c)\n",
    "print(f\"Sum of {a} and {b} is {c}.\")"
   ]
  },
  {
   "cell_type": "code",
   "execution_count": 115,
   "id": "3e96df9d",
   "metadata": {},
   "outputs": [
    {
     "name": "stdout",
     "output_type": "stream",
     "text": [
      "10\n",
      "13\n",
      "Harshit\n"
     ]
    }
   ],
   "source": [
    "a=10\n",
    "b=13\n",
    "c='Harshit'\n",
    "print(a,b,c,sep='\\n')"
   ]
  },
  {
   "cell_type": "code",
   "execution_count": 53,
   "id": "ab6b817a",
   "metadata": {},
   "outputs": [
    {
     "data": {
      "text/plain": [
       "3.6666666666666665"
      ]
     },
     "execution_count": 53,
     "metadata": {},
     "output_type": "execute_result"
    }
   ],
   "source": [
    "# / Divide left operand by the right one (always results into float)\n",
    "a=11\n",
    "b=3\n",
    "c=a/b\n",
    "c"
   ]
  },
  {
   "cell_type": "code",
   "execution_count": 55,
   "id": "42506062",
   "metadata": {},
   "outputs": [
    {
     "data": {
      "text/plain": [
       "3"
      ]
     },
     "execution_count": 55,
     "metadata": {},
     "output_type": "execute_result"
    }
   ],
   "source": [
    "\"\"\" // Floor division\n",
    "division that results into whole number\n",
    "adjusted to the left in the number line\"\"\"\n",
    "a=11\n",
    "b=3\n",
    "c=a//b\n",
    "c"
   ]
  },
  {
   "cell_type": "code",
   "execution_count": 59,
   "id": "4498cf02",
   "metadata": {},
   "outputs": [
    {
     "data": {
      "text/plain": [
       "8"
      ]
     },
     "execution_count": 59,
     "metadata": {},
     "output_type": "execute_result"
    }
   ],
   "source": [
    "\"\"\" ** Exponent left operand raised to the power of right -- In C language written as pow(a,b)\"\"\"\n",
    "a=2\n",
    "b=3\n",
    "c=a**b\n",
    "c"
   ]
  },
  {
   "cell_type": "code",
   "execution_count": 63,
   "id": "5093eaf0",
   "metadata": {},
   "outputs": [
    {
     "name": "stdout",
     "output_type": "stream",
     "text": [
      "x + y =  11\n",
      "x - y =  7\n",
      "x * y =  18\n",
      "x / y =  4.5\n",
      "x // y =  4\n",
      "x % y =  1\n",
      "x ** y =  81\n"
     ]
    }
   ],
   "source": [
    "# Arith. Operators\n",
    "x=9\n",
    "y=2\n",
    "print(\"x + y = \",x+y)\n",
    "print(\"x - y = \",x-y)\n",
    "print(\"x * y = \",x*y)\n",
    "print(\"x / y = \",x/y)\n",
    "print(\"x // y = \",x//y)\n",
    "print(\"x % y = \",x%y)\n",
    "print(\"x ** y = \",x**y)"
   ]
  },
  {
   "cell_type": "code",
   "execution_count": 70,
   "id": "d5912411",
   "metadata": {},
   "outputs": [
    {
     "data": {
      "text/plain": [
       "True"
      ]
     },
     "execution_count": 70,
     "metadata": {},
     "output_type": "execute_result"
    }
   ],
   "source": [
    "25==25.0"
   ]
  },
  {
   "cell_type": "code",
   "execution_count": 83,
   "id": "c4267c33",
   "metadata": {},
   "outputs": [
    {
     "data": {
      "text/plain": [
       "0"
      ]
     },
     "execution_count": 83,
     "metadata": {},
     "output_type": "execute_result"
    }
   ],
   "source": [
    "a=0\n",
    "b=6\n",
    "a and b"
   ]
  },
  {
   "cell_type": "code",
   "execution_count": 90,
   "id": "a82e50c7",
   "metadata": {},
   "outputs": [
    {
     "name": "stdout",
     "output_type": "stream",
     "text": [
      "False\n",
      "True\n",
      "True\n"
     ]
    }
   ],
   "source": [
    "# Identity Operators \n",
    "'''They are used to check if two values (or variables) are located on the same part\n",
    "of the memory or not.'''\n",
    "a=10\n",
    "b=10\n",
    "c=12\n",
    "print(b is c)\n",
    "print(a is b)\n",
    "print(a is not c)"
   ]
  },
  {
   "cell_type": "code",
   "execution_count": 118,
   "id": "bd07a2d1",
   "metadata": {},
   "outputs": [
    {
     "name": "stdout",
     "output_type": "stream",
     "text": [
      "True\n",
      "True\n",
      "False\n",
      "False\n",
      "True\n"
     ]
    }
   ],
   "source": [
    "# Membership Operator\n",
    "'''in and not in\n",
    "are the membership operators in Python.\n",
    "They are used to test whether a value or variable is found in a sequence (string,\n",
    "list, tuple, set and dictionary) or not.'''\n",
    "\n",
    "l=[1,2,3,4,5,6,\"a\",[7,8]]\n",
    "print([7,8] in l)\n",
    "print(3 in l)\n",
    "print(7 in l)\n",
    "print(3 not in l)\n",
    "print(7 not in l)"
   ]
  },
  {
   "cell_type": "markdown",
   "id": "00ba9ac0",
   "metadata": {},
   "source": [
    "## Unit 2 - Control Flow System"
   ]
  },
  {
   "cell_type": "code",
   "execution_count": 132,
   "id": "4256c8b2",
   "metadata": {},
   "outputs": [
    {
     "name": "stdout",
     "output_type": "stream",
     "text": [
      "Enter A -56\n",
      "Enter B -59\n",
      "A is greater\n"
     ]
    }
   ],
   "source": [
    "# Use of if and else\n",
    "a=int(input(\"Enter A \"))\n",
    "b=int(input(\"Enter B \"))\n",
    "\n",
    "if a>b :\n",
    "    print(\"A is greater\")\n",
    "else :\n",
    "    print(\"B is greater\")\n"
   ]
  },
  {
   "cell_type": "code",
   "execution_count": 139,
   "id": "03b54c10",
   "metadata": {},
   "outputs": [
    {
     "name": "stdout",
     "output_type": "stream",
     "text": [
      "Enter a Number 23\n",
      "odd\n"
     ]
    }
   ],
   "source": [
    "a=int(input(\"Enter a Number \"))\n",
    "if a%2==0 :\n",
    "    print(\"even\")\n",
    "else :\n",
    "    print(\"odd\")"
   ]
  },
  {
   "cell_type": "code",
   "execution_count": 144,
   "id": "c0a2c04b",
   "metadata": {},
   "outputs": [
    {
     "name": "stdout",
     "output_type": "stream",
     "text": [
      "Enter a Number 45\n",
      "46\n"
     ]
    }
   ],
   "source": [
    "# program to increment a number if it is positive\n",
    "a=int(input(\"Enter a Number \"))\n",
    "if a>0:\n",
    "    a+=1\n",
    "    print(a)\n",
    "else:\n",
    "    print(\"Enter a +ve number\")"
   ]
  },
  {
   "cell_type": "code",
   "execution_count": 154,
   "id": "f0d17214",
   "metadata": {},
   "outputs": [
    {
     "name": "stdout",
     "output_type": "stream",
     "text": [
      "Enter Marks 85\n",
      "Very good\n"
     ]
    }
   ],
   "source": [
    "# Use of elif     same as else if in C\n",
    "# Marks program\n",
    "a=int(input(\"Enter Marks \"))\n",
    "if a>=95 :\n",
    "    print(\"Excellent\")\n",
    "elif a>=80 and a<95 :\n",
    "    print(\"Very good\")\n",
    "elif a>=60 and a<80 :\n",
    "    print(\"Good\")\n",
    "else :\n",
    "    print(\"Need Improvement\")"
   ]
  },
  {
   "cell_type": "code",
   "execution_count": 157,
   "id": "7571bcdd",
   "metadata": {},
   "outputs": [
    {
     "name": "stdout",
     "output_type": "stream",
     "text": [
      "Enter the age 85\n",
      "You are above 18.\n"
     ]
    }
   ],
   "source": [
    "\"\"\"A program to take age as input from user and print “You are less than 18 if age is less\n",
    "than 18 otherwise print “You are above 18 A lso check that age could not be less than 0\n",
    "If so then print “Age could not be less than 0\"\"\"\n",
    "\n",
    "age=int(input(\"Enter the age \"))\n",
    "if age>0:\n",
    "    if age>18 :\n",
    "        print(\"You are above 18.\")\n",
    "    else:\n",
    "        print(\"You are less than 18.\")\n",
    "else:\n",
    "    print(\"Age cant't be less than 0 \")"
   ]
  },
  {
   "cell_type": "code",
   "execution_count": 171,
   "id": "d339e28b",
   "metadata": {},
   "outputs": [
    {
     "name": "stdout",
     "output_type": "stream",
     "text": [
      "1001\n"
     ]
    }
   ],
   "source": [
    "if True :\n",
    "    print(\"1001\")\n",
    "else :\n",
    "    print(\"2002\")"
   ]
  },
  {
   "cell_type": "code",
   "execution_count": 173,
   "id": "03cd8d46",
   "metadata": {},
   "outputs": [
    {
     "name": "stdout",
     "output_type": "stream",
     "text": [
      "Ok\n"
     ]
    }
   ],
   "source": [
    "x=3\n",
    "if x>2 or x<5 and x==6:\n",
    "    print(\"Ok\")\n",
    "else:\n",
    "    print(\"no output\")"
   ]
  },
  {
   "cell_type": "code",
   "execution_count": 179,
   "id": "c969d39d",
   "metadata": {},
   "outputs": [
    {
     "data": {
      "text/plain": [
       "0.30000000000000004"
      ]
     },
     "execution_count": 179,
     "metadata": {},
     "output_type": "execute_result"
    }
   ],
   "source": [
    "0.1*3"
   ]
  },
  {
   "cell_type": "markdown",
   "id": "fb92e6ca",
   "metadata": {},
   "source": [
    "### Loops"
   ]
  },
  {
   "cell_type": "code",
   "execution_count": 349,
   "id": "ce3058cb",
   "metadata": {},
   "outputs": [
    {
     "name": "stdout",
     "output_type": "stream",
     "text": [
      "1\n",
      "2\n",
      "3\n",
      "4\n",
      "5\n",
      "6\n",
      "This is use of else with while.\n"
     ]
    }
   ],
   "source": [
    "# While Loop Syntax\n",
    "\n",
    "i=1 #Initialization\n",
    "while (i<=6):\n",
    "    print(i)\n",
    "    i+=1   # Here i++ is not valid\n",
    "else: # Use of else with while\n",
    "    print(\"This is use of else with while.\")"
   ]
  },
  {
   "cell_type": "code",
   "execution_count": 206,
   "id": "628dafd4",
   "metadata": {},
   "outputs": [
    {
     "data": {
      "text/plain": [
       "9"
      ]
     },
     "execution_count": 206,
     "metadata": {},
     "output_type": "execute_result"
    }
   ],
   "source": [
    "0O11  # zero O 11 Octal representation"
   ]
  },
  {
   "cell_type": "code",
   "execution_count": 348,
   "id": "3c20e2bf",
   "metadata": {},
   "outputs": [
    {
     "name": "stdout",
     "output_type": "stream",
     "text": [
      "5\n",
      "6\n",
      "7\n",
      "8\n"
     ]
    }
   ],
   "source": [
    "i=5\n",
    "while True :\n",
    "    if i%0o11==0:\n",
    "        break\n",
    "    print(i)\n",
    "    i+=1\n",
    "else:\n",
    "    print(\"Overflow\")"
   ]
  },
  {
   "cell_type": "markdown",
   "id": "83678f5c",
   "metadata": {},
   "source": [
    "### Range Function"
   ]
  },
  {
   "cell_type": "code",
   "execution_count": 223,
   "id": "0982394c",
   "metadata": {},
   "outputs": [
    {
     "name": "stdout",
     "output_type": "stream",
     "text": [
      "range(0, 5)\n",
      "[0, 1, 2, 3, 4]\n"
     ]
    }
   ],
   "source": [
    "\"\"\"\n",
    "It gives sequence of numbers in python.\n",
    "range(start value,stop value,step value)\n",
    "by default\n",
    "start value=0 (optional)\n",
    "stop value is always required\n",
    "step value=1 (optional) Increments by one\n",
    "\n",
    "range with single argument is considered as stop value and other values are default values\n",
    "Note that stop value is not included in the range i.e 5 is not include\n",
    "\n",
    "\"\"\"\n",
    "print(range(5))\n",
    "print(list(range(5))) #converting to list\n"
   ]
  },
  {
   "cell_type": "code",
   "execution_count": 224,
   "id": "a97e7edd",
   "metadata": {},
   "outputs": [
    {
     "data": {
      "text/plain": [
       "[2, 3, 4]"
      ]
     },
     "execution_count": 224,
     "metadata": {},
     "output_type": "execute_result"
    }
   ],
   "source": [
    "list(range(2,5))"
   ]
  },
  {
   "cell_type": "code",
   "execution_count": 271,
   "id": "b6d3ec17",
   "metadata": {},
   "outputs": [
    {
     "data": {
      "text/plain": [
       "[5, 10, 15, 20, 25]"
      ]
     },
     "execution_count": 271,
     "metadata": {},
     "output_type": "execute_result"
    }
   ],
   "source": [
    "list(range(5,26,5))"
   ]
  },
  {
   "cell_type": "code",
   "execution_count": 229,
   "id": "23338186",
   "metadata": {},
   "outputs": [
    {
     "data": {
      "text/plain": [
       "[10, 9, 8, 7, 6, 5, 4, 3, 2]"
      ]
     },
     "execution_count": 229,
     "metadata": {},
     "output_type": "execute_result"
    }
   ],
   "source": [
    "# Write a program to generate a sequence of starting from 10 to 2.\n",
    "list(range(10,1,-1)) # to decrease here we set step value as -1"
   ]
  },
  {
   "cell_type": "code",
   "execution_count": 272,
   "id": "b445084c",
   "metadata": {},
   "outputs": [
    {
     "data": {
      "text/plain": [
       "[5, 4, 3, 2, 1, 0, -1, -2, -3, -4]"
      ]
     },
     "execution_count": 272,
     "metadata": {},
     "output_type": "execute_result"
    }
   ],
   "source": [
    "list(range(5,-5,-1))"
   ]
  },
  {
   "cell_type": "code",
   "execution_count": 275,
   "id": "d5a91721",
   "metadata": {},
   "outputs": [
    {
     "data": {
      "text/plain": [
       "[10, 9, 8, 7, 6]"
      ]
     },
     "execution_count": 275,
     "metadata": {},
     "output_type": "execute_result"
    }
   ],
   "source": [
    "list(range(10,5,-1))"
   ]
  },
  {
   "cell_type": "code",
   "execution_count": 281,
   "id": "33bcad3e",
   "metadata": {},
   "outputs": [
    {
     "data": {
      "text/plain": [
       "[]"
      ]
     },
     "execution_count": 281,
     "metadata": {},
     "output_type": "execute_result"
    }
   ],
   "source": [
    "list(range(5,20,-1))"
   ]
  },
  {
   "cell_type": "markdown",
   "id": "19ece86f",
   "metadata": {},
   "source": [
    "### For Loop"
   ]
  },
  {
   "cell_type": "code",
   "execution_count": 284,
   "id": "05d9938b",
   "metadata": {},
   "outputs": [
    {
     "name": "stdout",
     "output_type": "stream",
     "text": [
      "0\n",
      "1\n",
      "2\n",
      "3\n",
      "4\n"
     ]
    }
   ],
   "source": [
    "# for iter_var sequence :\n",
    "    #statements\n",
    "\n",
    "# sequence is collection of elements\n",
    "for i in range(5):  \n",
    "    print(i)"
   ]
  },
  {
   "cell_type": "code",
   "execution_count": 294,
   "id": "dd4e1d68",
   "metadata": {},
   "outputs": [
    {
     "name": "stdout",
     "output_type": "stream",
     "text": [
      "2\n",
      "0\n",
      "2\n",
      "4\n",
      "6\n",
      "8\n",
      "10\n",
      "12\n",
      "14\n",
      "16\n",
      "18\n",
      "20\n"
     ]
    }
   ],
   "source": [
    "a=int(input())\n",
    "for i in (range(0,a*11,a)):\n",
    "    print(i)"
   ]
  },
  {
   "cell_type": "code",
   "execution_count": 283,
   "id": "111159be",
   "metadata": {},
   "outputs": [
    {
     "name": "stdout",
     "output_type": "stream",
     "text": [
      "1 3 5 7 9 11 13 15 17 19 "
     ]
    }
   ],
   "source": [
    "for i in range(1,20,2):\n",
    "    print(i,end=\" \")"
   ]
  },
  {
   "cell_type": "code",
   "execution_count": 346,
   "id": "5cdd3a9e",
   "metadata": {},
   "outputs": [
    {
     "name": "stdout",
     "output_type": "stream",
     "text": [
      "Enter A Number For Table 6\n",
      "6 * 1 = 6\n",
      "6 * 2 = 12\n",
      "6 * 3 = 18\n",
      "6 * 4 = 24\n",
      "6 * 5 = 30\n",
      "6 * 6 = 36\n",
      "6 * 7 = 42\n",
      "6 * 8 = 48\n",
      "6 * 9 = 54\n",
      "6 * 10 = 60\n",
      "Table is completed.\n"
     ]
    }
   ],
   "source": [
    "#Print table of any given number\n",
    "a=int(input(\"Enter A Number For Table \"))\n",
    "for i in range (1,11):\n",
    "    print(f\"{a} * {i} = {a*i}\")\n",
    "else:\n",
    "    print(\"Table is completed.\")"
   ]
  },
  {
   "cell_type": "code",
   "execution_count": 303,
   "id": "4e304f9a",
   "metadata": {},
   "outputs": [
    {
     "name": "stdout",
     "output_type": "stream",
     "text": [
      "10\n",
      "12\n",
      "14\n",
      "16\n",
      "18\n",
      "\n",
      "\n",
      "10\n",
      "12\n",
      "14\n",
      "16\n",
      "18\n",
      "\n",
      "\n",
      "10\n",
      "12\n",
      "14\n",
      "16\n",
      "18\n",
      "\n",
      "\n"
     ]
    }
   ],
   "source": [
    "for i in range(15,10,-2):\n",
    "    for j in range(10,20,2):\n",
    "        print(j)\n",
    "    print(\"\\n\")"
   ]
  },
  {
   "cell_type": "code",
   "execution_count": 329,
   "id": "6b12a846",
   "metadata": {},
   "outputs": [
    {
     "name": "stdout",
     "output_type": "stream",
     "text": [
      "n\n"
     ]
    }
   ],
   "source": [
    "s=\"Technology\"\n",
    "for i in range(len(s)):\n",
    "    s[i].upper()\n",
    "print(s[4])"
   ]
  },
  {
   "cell_type": "code",
   "execution_count": 355,
   "id": "4d69fc7a",
   "metadata": {},
   "outputs": [
    {
     "name": "stdout",
     "output_type": "stream",
     "text": [
      "Red\n",
      "Found\n"
     ]
    }
   ],
   "source": [
    "color=['Red','Pink','Blue']\n",
    "a=input()\n",
    "if a in color:\n",
    "    print(\"Found\")\n",
    "else:\n",
    "    print(\"Not Found\")"
   ]
  },
  {
   "cell_type": "code",
   "execution_count": 373,
   "id": "36d65e8a",
   "metadata": {},
   "outputs": [
    {
     "name": "stdout",
     "output_type": "stream",
     "text": [
      "Enter a number. 56\n",
      "Not Prime\n"
     ]
    }
   ],
   "source": [
    "a=int(input(\"Enter a number. \"))\n",
    "if a%2!=0 and a%3!=0 and a%5!=0:\n",
    "    print(\"Prime\")\n",
    "            \n",
    "elif(a==2 or a==3 or a==5):\n",
    "    print(\"Prime\")\n",
    "\n",
    "else:\n",
    "    print(\"Not Prime\")"
   ]
  },
  {
   "cell_type": "code",
   "execution_count": 376,
   "id": "0719c65d",
   "metadata": {},
   "outputs": [
    {
     "name": "stdout",
     "output_type": "stream",
     "text": [
      "0\n",
      "1\n",
      "2\n"
     ]
    }
   ],
   "source": [
    "# Use of break and continue.\n",
    "for i in range(6):\n",
    "    if i==3:\n",
    "        break\n",
    "    print(i)"
   ]
  },
  {
   "cell_type": "code",
   "execution_count": 377,
   "id": "09dcdddf",
   "metadata": {},
   "outputs": [
    {
     "name": "stdout",
     "output_type": "stream",
     "text": [
      "0\n",
      "1\n",
      "2\n",
      "4\n",
      "5\n"
     ]
    }
   ],
   "source": [
    "for i in range(6):\n",
    "    if i==3:\n",
    "        continue\n",
    "    print(i)"
   ]
  },
  {
   "cell_type": "markdown",
   "id": "7a9b7765",
   "metadata": {},
   "source": [
    "## Unit 3 - Python Collections & Sequences"
   ]
  },
  {
   "cell_type": "markdown",
   "id": "c4750d01",
   "metadata": {},
   "source": [
    "### String"
   ]
  },
  {
   "cell_type": "code",
   "execution_count": 16,
   "id": "b2d26344",
   "metadata": {},
   "outputs": [
    {
     "data": {
      "text/plain": [
       "str"
      ]
     },
     "execution_count": 16,
     "metadata": {},
     "output_type": "execute_result"
    }
   ],
   "source": [
    "# String\n",
    "a=10\n",
    "type(str(a))"
   ]
  },
  {
   "cell_type": "code",
   "execution_count": 386,
   "id": "0d82605a",
   "metadata": {},
   "outputs": [
    {
     "name": "stdout",
     "output_type": "stream",
     "text": [
      "u g\n"
     ]
    }
   ],
   "source": [
    "# Accessing String\n",
    "st=\"Mountain is high\"\n",
    "print(st[2],st[-2])"
   ]
  },
  {
   "cell_type": "code",
   "execution_count": 396,
   "id": "ba0d4698",
   "metadata": {},
   "outputs": [
    {
     "data": {
      "text/plain": [
       "'Mountain i'"
      ]
     },
     "execution_count": 396,
     "metadata": {},
     "output_type": "execute_result"
    }
   ],
   "source": [
    "# String SLICING is the way of selection of substring.\n",
    "# st[start index:stop index:step index] [0:_:+1]\n",
    "st=\"Mountain is high\"\n",
    "st[:10]"
   ]
  },
  {
   "cell_type": "code",
   "execution_count": 404,
   "id": "ac8354e6",
   "metadata": {},
   "outputs": [
    {
     "data": {
      "text/plain": [
       "'gih si niatnuo'"
      ]
     },
     "execution_count": 404,
     "metadata": {},
     "output_type": "execute_result"
    }
   ],
   "source": [
    "st[-2:-16:-1]"
   ]
  },
  {
   "cell_type": "code",
   "execution_count": 4,
   "id": "45064574",
   "metadata": {},
   "outputs": [
    {
     "data": {
      "text/plain": [
       "'Mountain is high'"
      ]
     },
     "execution_count": 4,
     "metadata": {},
     "output_type": "execute_result"
    }
   ],
   "source": [
    "st[:]"
   ]
  },
  {
   "cell_type": "code",
   "execution_count": 5,
   "id": "9e037647",
   "metadata": {},
   "outputs": [
    {
     "data": {
      "text/plain": [
       "'hgih si niatnuoM'"
      ]
     },
     "execution_count": 5,
     "metadata": {},
     "output_type": "execute_result"
    }
   ],
   "source": [
    "st=\"Mountain is high\"\n",
    "st[::-1]"
   ]
  },
  {
   "cell_type": "code",
   "execution_count": 10,
   "id": "dd23f68f",
   "metadata": {},
   "outputs": [
    {
     "ename": "TypeError",
     "evalue": "'str' object does not support item assignment",
     "output_type": "error",
     "traceback": [
      "\u001b[1;31m---------------------------------------------------------------------------\u001b[0m",
      "\u001b[1;31mTypeError\u001b[0m                                 Traceback (most recent call last)",
      "\u001b[1;32m~\\AppData\\Local\\Temp/ipykernel_1908/2015606672.py\u001b[0m in \u001b[0;36m<module>\u001b[1;34m\u001b[0m\n\u001b[0;32m      2\u001b[0m element assignment using indexes.\"\"\"\n\u001b[0;32m      3\u001b[0m \u001b[0ms\u001b[0m\u001b[1;33m=\u001b[0m\u001b[1;34m\"I like Python\"\u001b[0m\u001b[1;33m\u001b[0m\u001b[1;33m\u001b[0m\u001b[0m\n\u001b[1;32m----> 4\u001b[1;33m \u001b[0ms\u001b[0m\u001b[1;33m[\u001b[0m\u001b[1;36m0\u001b[0m\u001b[1;33m]\u001b[0m\u001b[1;33m=\u001b[0m\u001b[1;34m'i'\u001b[0m\u001b[1;33m\u001b[0m\u001b[1;33m\u001b[0m\u001b[0m\n\u001b[0m",
      "\u001b[1;31mTypeError\u001b[0m: 'str' object does not support item assignment"
     ]
    }
   ],
   "source": [
    "\"\"\"Strings in python are Immutable(un changeable) sequences, which means it does not support new\n",
    "element assignment using indexes.\"\"\"\n",
    "s=\"I like Python\"\n",
    "s[0]='i'"
   ]
  },
  {
   "cell_type": "code",
   "execution_count": 15,
   "id": "14541a45",
   "metadata": {},
   "outputs": [
    {
     "name": "stdout",
     "output_type": "stream",
     "text": [
      "False\n",
      "True\n"
     ]
    }
   ],
   "source": [
    "print(\"ABES\">\"AKTU\")\n",
    "print(\"AKTU\">\"ABES\")"
   ]
  },
  {
   "cell_type": "markdown",
   "id": "ae2c318d",
   "metadata": {},
   "source": [
    "#### String Methods"
   ]
  },
  {
   "cell_type": "code",
   "execution_count": 20,
   "id": "759775bf",
   "metadata": {},
   "outputs": [
    {
     "name": "stdout",
     "output_type": "stream",
     "text": [
      "I Like Python\n"
     ]
    },
    {
     "ename": "NameError",
     "evalue": "name 's' is not defined",
     "output_type": "error",
     "traceback": [
      "\u001b[1;31m---------------------------------------------------------------------------\u001b[0m",
      "\u001b[1;31mNameError\u001b[0m                                 Traceback (most recent call last)",
      "\u001b[1;32m~\\AppData\\Local\\Temp/ipykernel_1908/579049231.py\u001b[0m in \u001b[0;36m<module>\u001b[1;34m\u001b[0m\n\u001b[0;32m      4\u001b[0m \u001b[0mprint\u001b[0m\u001b[1;33m(\u001b[0m\u001b[0ms\u001b[0m\u001b[1;33m)\u001b[0m\u001b[1;33m\u001b[0m\u001b[1;33m\u001b[0m\u001b[0m\n\u001b[0;32m      5\u001b[0m \u001b[1;32mdel\u001b[0m\u001b[1;33m(\u001b[0m\u001b[0ms\u001b[0m\u001b[1;33m)\u001b[0m\u001b[1;33m\u001b[0m\u001b[1;33m\u001b[0m\u001b[0m\n\u001b[1;32m----> 6\u001b[1;33m \u001b[0mprint\u001b[0m\u001b[1;33m(\u001b[0m\u001b[0ms\u001b[0m\u001b[1;33m)\u001b[0m\u001b[1;33m\u001b[0m\u001b[1;33m\u001b[0m\u001b[0m\n\u001b[0m",
      "\u001b[1;31mNameError\u001b[0m: name 's' is not defined"
     ]
    }
   ],
   "source": [
    "# Deletion\n",
    "# In String, we can’t reassign the string characters but we can delete the complete string using del command.\n",
    "s=\"I Like Python\"\n",
    "print(s)\n",
    "del(s)\n",
    "print(s)"
   ]
  },
  {
   "cell_type": "code",
   "execution_count": 23,
   "id": "195fade6",
   "metadata": {},
   "outputs": [
    {
     "name": "stdout",
     "output_type": "stream",
     "text": [
      "I like python.\n"
     ]
    }
   ],
   "source": [
    "# In python methods are called using dot. operator\n",
    "# captilize()  Return a string with first letter capital\n",
    "s=\"I like python.\"\n",
    "s1=s.capitalize()\n",
    "print(s1)"
   ]
  },
  {
   "cell_type": "code",
   "execution_count": 24,
   "id": "2df2bd1f",
   "metadata": {},
   "outputs": [
    {
     "name": "stdout",
     "output_type": "stream",
     "text": [
      "i like python.\n"
     ]
    }
   ],
   "source": [
    "# casefold() Returns string in lower case\n",
    "s=\"I Like Python.\"\n",
    "s1=s.casefold()\n",
    "print(s1)"
   ]
  },
  {
   "cell_type": "code",
   "execution_count": 195,
   "id": "87f25c2d",
   "metadata": {},
   "outputs": [
    {
     "name": "stdout",
     "output_type": "stream",
     "text": [
      "3\n",
      "2\n"
     ]
    }
   ],
   "source": [
    "# count()\n",
    "\"\"\"Return the number of occurrence of substring.\n",
    "In the first example “ i occurred 3 times.\n",
    "In the second example “ like ” occurred 2 times.\"\"\"\n",
    "st='i like what you like'\n",
    "print(st.count(\"i\"))\n",
    "print(st.count(\"like\"))"
   ]
  },
  {
   "cell_type": "code",
   "execution_count": 32,
   "id": "bdd2c885",
   "metadata": {},
   "outputs": [
    {
     "name": "stdout",
     "output_type": "stream",
     "text": [
      "True\n",
      "False\n"
     ]
    }
   ],
   "source": [
    "# endswith()\n",
    "\"\"\"Return True if the string ends with the given substring otherwise return False.\"\"\"\n",
    "st=\"abes.ac.in\"\n",
    "print(st.endswith(\"in\"))\n",
    "print(st.endswith(\"on\"))"
   ]
  },
  {
   "cell_type": "code",
   "execution_count": 44,
   "id": "34f394e6",
   "metadata": {},
   "outputs": [
    {
     "name": "stdout",
     "output_type": "stream",
     "text": [
      "True\n",
      "True\n",
      "False\n",
      "False\n"
     ]
    }
   ],
   "source": [
    "# startswith()\n",
    "\"\"\"Returns True if the string starts with the given substring otherwise return False\"\"\"\n",
    "st=\"abes.ac.in\"\n",
    "print(st.startswith(\"a\"))\n",
    "print(st.startswith(\"abe\"))\n",
    "print(st.startswith(\"abesec\"))\n",
    "print(st.startswith(\"abk\"))"
   ]
  },
  {
   "cell_type": "code",
   "execution_count": 46,
   "id": "0c3ed5f2",
   "metadata": {},
   "outputs": [
    {
     "data": {
      "text/plain": [
       "2"
      ]
     },
     "execution_count": 46,
     "metadata": {},
     "output_type": "execute_result"
    }
   ],
   "source": [
    "# find()\n",
    "\"\"\"Return the lowest index in String where substring sub is found.\n",
    "In example there are two “like”.\n",
    "1 st “like” is at index 2 and 2 nd at index 16. It return 2.\"\"\"\n",
    "st=\"i like what you like\"\n",
    "st.find(\"like\")"
   ]
  },
  {
   "cell_type": "code",
   "execution_count": 52,
   "id": "541fb7f3",
   "metadata": {},
   "outputs": [
    {
     "data": {
      "text/plain": [
       "'i like python.'"
      ]
     },
     "execution_count": 52,
     "metadata": {},
     "output_type": "execute_result"
    }
   ],
   "source": [
    "# lower() Convert and return a string into lower case\n",
    "st=\"I LIKE PythoN.\"\n",
    "st.lower()"
   ]
  },
  {
   "cell_type": "code",
   "execution_count": 62,
   "id": "23e9ccb5",
   "metadata": {},
   "outputs": [
    {
     "data": {
      "text/plain": [
       "'I LIKE PYTHON.'"
      ]
     },
     "execution_count": 62,
     "metadata": {},
     "output_type": "execute_result"
    }
   ],
   "source": [
    "# upper() Convert and return a string into upper case\n",
    "st=\"i like python.\"\n",
    "st.upper()"
   ]
  },
  {
   "cell_type": "code",
   "execution_count": 56,
   "id": "87584bf4",
   "metadata": {},
   "outputs": [
    {
     "data": {
      "text/plain": [
       "'I Like Python.'"
      ]
     },
     "execution_count": 56,
     "metadata": {},
     "output_type": "execute_result"
    }
   ],
   "source": [
    "# swapcase() In swaps cases, the lower case becomes the upper case and vice versa\n",
    "st=\"i lIKE pYTHON.\"\n",
    "st.swapcase()"
   ]
  },
  {
   "cell_type": "code",
   "execution_count": 58,
   "id": "96d4e3e6",
   "metadata": {},
   "outputs": [
    {
     "data": {
      "text/plain": [
       "'I Like Python.'"
      ]
     },
     "execution_count": 58,
     "metadata": {},
     "output_type": "execute_result"
    }
   ],
   "source": [
    "# title() Converts the first character of each word to upper case.\n",
    "st=\"i lIKE pYTHON.\"\n",
    "st.title()"
   ]
  },
  {
   "cell_type": "code",
   "execution_count": 63,
   "id": "223efcd1",
   "metadata": {},
   "outputs": [
    {
     "data": {
      "text/plain": [
       "'i like C++.'"
      ]
     },
     "execution_count": 63,
     "metadata": {},
     "output_type": "execute_result"
    }
   ],
   "source": [
    "# replace() Returns a string after replacing old substring with new substring\n",
    "st=\"i like python.\"\n",
    "st.replace(\"python\",\"C++\")"
   ]
  },
  {
   "cell_type": "code",
   "execution_count": 64,
   "id": "06014da9",
   "metadata": {},
   "outputs": [
    {
     "data": {
      "text/plain": [
       "['I', 'Like', 'Python']"
      ]
     },
     "execution_count": 64,
     "metadata": {},
     "output_type": "execute_result"
    }
   ],
   "source": [
    "# split() Splits the string from given separator and returns a list of substring.\n",
    "# Note By default, value of separator is a whitespace\n",
    "st=\"I Like Python\"\n",
    "st.split()"
   ]
  },
  {
   "cell_type": "code",
   "execution_count": 196,
   "id": "915c08a8",
   "metadata": {},
   "outputs": [
    {
     "data": {
      "text/plain": [
       "['Su', 'day,Mo', 'day,Tuesday']"
      ]
     },
     "execution_count": 196,
     "metadata": {},
     "output_type": "execute_result"
    }
   ],
   "source": [
    "st=\"Sunday,Monday,Tuesday\"\n",
    "st.split('n') # Comma seperated split is done here."
   ]
  },
  {
   "cell_type": "code",
   "execution_count": 200,
   "id": "0a77748a",
   "metadata": {},
   "outputs": [
    {
     "data": {
      "text/plain": [
       "'P_y_t_h_o_n'"
      ]
     },
     "execution_count": 200,
     "metadata": {},
     "output_type": "execute_result"
    }
   ],
   "source": [
    "# join() Concatenate any number of strings. The string whose method is called is inserted in between each given string.\n",
    "# The result is returned as a new string\n",
    "st=\"Python\"\n",
    "\"_\".join(st)"
   ]
  },
  {
   "cell_type": "code",
   "execution_count": 79,
   "id": "9d236846",
   "metadata": {},
   "outputs": [
    {
     "data": {
      "text/plain": [
       "'Hello Everyone'"
      ]
     },
     "execution_count": 79,
     "metadata": {},
     "output_type": "execute_result"
    }
   ],
   "source": [
    "# strip() Return a copy of the string with leading and trailing whitespace removed\n",
    "st=\"   Hello Everyone   \"\n",
    "st.strip()"
   ]
  },
  {
   "cell_type": "code",
   "execution_count": 81,
   "id": "4da62fce",
   "metadata": {},
   "outputs": [
    {
     "data": {
      "text/plain": [
       "True"
      ]
     },
     "execution_count": 81,
     "metadata": {},
     "output_type": "execute_result"
    }
   ],
   "source": [
    "# isalnum() Return true if the string is alphanumeric (Combination of a z, A Z, 0 9) Note\n",
    "# It will return false only if string contains special character.\n",
    "st=\"HelloEveryone\"\n",
    "st.isalnum()"
   ]
  },
  {
   "cell_type": "code",
   "execution_count": 88,
   "id": "1c7c0848",
   "metadata": {},
   "outputs": [
    {
     "data": {
      "text/plain": [
       "False"
      ]
     },
     "execution_count": 88,
     "metadata": {},
     "output_type": "execute_result"
    }
   ],
   "source": [
    "st=\"Hello Everyone\"\n",
    "st.isalnum() # Due to space"
   ]
  },
  {
   "cell_type": "code",
   "execution_count": 91,
   "id": "737e90b0",
   "metadata": {},
   "outputs": [
    {
     "data": {
      "text/plain": [
       "True"
      ]
     },
     "execution_count": 91,
     "metadata": {},
     "output_type": "execute_result"
    }
   ],
   "source": [
    "# isalpha() Return true if the string contains only alphabets(Combination of a z, A Z)\n",
    "st=\"HelloEveryone\"\n",
    "st.isalpha()"
   ]
  },
  {
   "cell_type": "code",
   "execution_count": 93,
   "id": "fe48a084",
   "metadata": {},
   "outputs": [
    {
     "data": {
      "text/plain": [
       "False"
      ]
     },
     "execution_count": 93,
     "metadata": {},
     "output_type": "execute_result"
    }
   ],
   "source": [
    "st=\"Hello Everyone\"\n",
    "st.isalpha()"
   ]
  },
  {
   "cell_type": "code",
   "execution_count": 99,
   "id": "0cd1c955",
   "metadata": {},
   "outputs": [
    {
     "data": {
      "text/plain": [
       "False"
      ]
     },
     "execution_count": 99,
     "metadata": {},
     "output_type": "execute_result"
    }
   ],
   "source": [
    "# isdecimal() Returns True if all characters in the string are decimals\n",
    "st=\"Hello123\"\n",
    "st.isdecimal()"
   ]
  },
  {
   "cell_type": "code",
   "execution_count": 100,
   "id": "d897afb0",
   "metadata": {},
   "outputs": [
    {
     "data": {
      "text/plain": [
       "True"
      ]
     },
     "execution_count": 100,
     "metadata": {},
     "output_type": "execute_result"
    }
   ],
   "source": [
    "st=\"123\"\n",
    "st.isdecimal()"
   ]
  },
  {
   "cell_type": "code",
   "execution_count": 201,
   "id": "21052bcd",
   "metadata": {},
   "outputs": [
    {
     "data": {
      "text/plain": [
       "False"
      ]
     },
     "execution_count": 201,
     "metadata": {},
     "output_type": "execute_result"
    }
   ],
   "source": [
    "# islower() Returns True if all characters in the string are lower case\n",
    "st=\"HelloEveryone\"\n",
    "st.islower()"
   ]
  },
  {
   "cell_type": "code",
   "execution_count": 204,
   "id": "b8e5cb6d",
   "metadata": {},
   "outputs": [
    {
     "data": {
      "text/plain": [
       "True"
      ]
     },
     "execution_count": 204,
     "metadata": {},
     "output_type": "execute_result"
    }
   ],
   "source": [
    "# isupper() Returns True if all characters in the string are upper case\n",
    "st=\"HELLO\"\n",
    "st.isupper()"
   ]
  },
  {
   "cell_type": "code",
   "execution_count": 105,
   "id": "31eaa32a",
   "metadata": {},
   "outputs": [
    {
     "data": {
      "text/plain": [
       "True"
      ]
     },
     "execution_count": 105,
     "metadata": {},
     "output_type": "execute_result"
    }
   ],
   "source": [
    "st=\"helloeveryone\"\n",
    "st.isalpha()"
   ]
  },
  {
   "cell_type": "code",
   "execution_count": 110,
   "id": "ee30bb5c",
   "metadata": {},
   "outputs": [
    {
     "data": {
      "text/plain": [
       "13"
      ]
     },
     "execution_count": 110,
     "metadata": {},
     "output_type": "execute_result"
    }
   ],
   "source": [
    "# len() Return length(No of character) of a given string. This is a generic function.\n",
    "st=\"helloeveryone\"\n",
    "len(st)"
   ]
  },
  {
   "cell_type": "markdown",
   "id": "738a03ca",
   "metadata": {},
   "source": [
    "#### String Operations"
   ]
  },
  {
   "cell_type": "code",
   "execution_count": 111,
   "id": "f10ac325",
   "metadata": {},
   "outputs": [
    {
     "data": {
      "text/plain": [
       "'\\nConcatenation means joining/combining two string into one\\n\\nReplication means repeating same string multiple times\\n\\nMembership tells a given string is member of another string or not'"
      ]
     },
     "execution_count": 111,
     "metadata": {},
     "output_type": "execute_result"
    }
   ],
   "source": [
    "\"\"\"\n",
    "Concatenation means joining/combining two string into one\n",
    "\n",
    "Replication means repeating same string multiple times\n",
    "\n",
    "Membership tells a given string is member of another string or not\"\"\""
   ]
  },
  {
   "cell_type": "code",
   "execution_count": 114,
   "id": "4e0e6e42",
   "metadata": {},
   "outputs": [
    {
     "data": {
      "text/plain": [
       "'India'"
      ]
     },
     "execution_count": 114,
     "metadata": {},
     "output_type": "execute_result"
    }
   ],
   "source": [
    "# Concatenation\n",
    "s1=\"Ind\"\n",
    "s2=\"ia\"\n",
    "c=s1+s2\n",
    "c"
   ]
  },
  {
   "cell_type": "code",
   "execution_count": 116,
   "id": "01385870",
   "metadata": {},
   "outputs": [
    {
     "data": {
      "text/plain": [
       "'Python Python Python '"
      ]
     },
     "execution_count": 116,
     "metadata": {},
     "output_type": "execute_result"
    }
   ],
   "source": [
    "# Replication\n",
    "s=\"Python \"\n",
    "s*3"
   ]
  },
  {
   "cell_type": "code",
   "execution_count": 122,
   "id": "bea703f7",
   "metadata": {},
   "outputs": [
    {
     "data": {
      "text/plain": [
       "True"
      ]
     },
     "execution_count": 122,
     "metadata": {},
     "output_type": "execute_result"
    }
   ],
   "source": [
    "# Membership\n",
    "s=\"Python is good language\"\n",
    "\"is\" in s"
   ]
  },
  {
   "cell_type": "code",
   "execution_count": 124,
   "id": "14195aeb",
   "metadata": {},
   "outputs": [
    {
     "data": {
      "text/plain": [
       "False"
      ]
     },
     "execution_count": 124,
     "metadata": {},
     "output_type": "execute_result"
    }
   ],
   "source": [
    "s=\"Python is good language\"\n",
    "\"Hii\" in s"
   ]
  },
  {
   "cell_type": "code",
   "execution_count": 126,
   "id": "d8f28436",
   "metadata": {},
   "outputs": [
    {
     "data": {
      "text/plain": [
       "False"
      ]
     },
     "execution_count": 126,
     "metadata": {},
     "output_type": "execute_result"
    }
   ],
   "source": [
    "s=\"Python is good language\"\n",
    "\"is\" not in s"
   ]
  },
  {
   "cell_type": "code",
   "execution_count": 128,
   "id": "60f61e4d",
   "metadata": {},
   "outputs": [
    {
     "data": {
      "text/plain": [
       "True"
      ]
     },
     "execution_count": 128,
     "metadata": {},
     "output_type": "execute_result"
    }
   ],
   "source": [
    "s=\"Python is good language\"\n",
    "\"Hii\" not in s"
   ]
  },
  {
   "cell_type": "markdown",
   "id": "6c435e36",
   "metadata": {},
   "source": [
    "#### String Formatter"
   ]
  },
  {
   "cell_type": "code",
   "execution_count": 134,
   "id": "dcc73171",
   "metadata": {},
   "outputs": [
    {
     "data": {
      "text/plain": [
       "\"Hello 'Everyone' how are you\""
      ]
     },
     "execution_count": 134,
     "metadata": {},
     "output_type": "execute_result"
    }
   ],
   "source": [
    "st=\"Hello 'Everyone' \\\n",
    "how are you\"\n",
    "st"
   ]
  },
  {
   "cell_type": "code",
   "execution_count": 210,
   "id": "637c7289",
   "metadata": {},
   "outputs": [
    {
     "name": "stdout",
     "output_type": "stream",
     "text": [
      "https:\\\\abes.ac.in\n"
     ]
    }
   ],
   "source": [
    "# \\\\ -> \\\n",
    "st='https:\\\\\\\\abes.ac.in'\n",
    "print(st)"
   ]
  },
  {
   "cell_type": "code",
   "execution_count": 207,
   "id": "0f650c02",
   "metadata": {},
   "outputs": [
    {
     "name": "stdout",
     "output_type": "stream",
     "text": [
      "\"Hello\" Harshit Kumar Rai\n"
     ]
    }
   ],
   "source": [
    "st='\"Hello\" Harshit Kumar Rai'\n",
    "print(st)"
   ]
  },
  {
   "cell_type": "code",
   "execution_count": 157,
   "id": "65353580",
   "metadata": {},
   "outputs": [
    {
     "name": "stdout",
     "output_type": "stream",
     "text": [
      "'Hello' Harshit Kumar 'Rai'\n"
     ]
    }
   ],
   "source": [
    "# If we need to use single quotes in our string like  \\'\n",
    "st=\"'Hello' Harshit Kumar \\'Rai\\'\"\n",
    "print(st)"
   ]
  },
  {
   "cell_type": "code",
   "execution_count": 162,
   "id": "eb8f9e7e",
   "metadata": {},
   "outputs": [
    {
     "name": "stdout",
     "output_type": "stream",
     "text": [
      "'Hello' Harshit Kumar \"Rai\"\n"
     ]
    }
   ],
   "source": [
    "# If we need to use single quotes in our string like  \\\"\n",
    "st=\"'Hello' Harshit Kumar \\\"Rai\\\"\"\n",
    "print(st)"
   ]
  },
  {
   "cell_type": "code",
   "execution_count": 164,
   "id": "ab0101b1",
   "metadata": {},
   "outputs": [
    {
     "name": "stdout",
     "output_type": "stream",
     "text": [
      "'Hello'\n",
      " Harshit Kumar Rai\n"
     ]
    }
   ],
   "source": [
    "# newline\n",
    "st=\"'Hello'\\n Harshit Kumar Rai\"\n",
    "print(st)"
   ]
  },
  {
   "cell_type": "markdown",
   "id": "85600ca0",
   "metadata": {},
   "source": [
    "#### String format()"
   ]
  },
  {
   "cell_type": "code",
   "execution_count": 171,
   "id": "cc77f621",
   "metadata": {},
   "outputs": [
    {
     "name": "stdout",
     "output_type": "stream",
     "text": [
      "3\n",
      "5\n",
      "Sum of 3 and 5 is 8\n",
      "Sum of 3 and 5 is 8\n",
      "Sum of 3 and 5 is 8\n",
      "Sum of 3 and 5 is 8\n"
     ]
    }
   ],
   "source": [
    "a=int(input())\n",
    "b=int(input())\n",
    "c=a+b\n",
    "print(\"Sum of {} and {} is {}\".format(a,b,c))\n",
    "print(\"Sum of {0} and {1} is {2}\".format(a,b,c))\n",
    "print(\"Sum of {x} and {y} is {z}\".format(x=a,y=b,z=c))\n",
    "# formating using f-string\n",
    "print(f\"Sum of {a} and {b} is {c}\")"
   ]
  },
  {
   "cell_type": "markdown",
   "id": "213f9ae2",
   "metadata": {},
   "source": [
    "#### Binary, Octal, Hexadecimal, Decimal & Float Conversion"
   ]
  },
  {
   "cell_type": "code",
   "execution_count": 212,
   "id": "91d46995",
   "metadata": {},
   "outputs": [
    {
     "name": "stdout",
     "output_type": "stream",
     "text": [
      "10\n",
      "10 in Binary is 1010\n",
      "10 in Octal is 12\n",
      "10 in Hexadecimal is a\n",
      "10 in Decimal is 10\n",
      "10 in Float is 10.00\n"
     ]
    },
    {
     "data": {
      "text/plain": [
       "'Use for Float Note Place .n before f , for representing floating point precision. n is decimal places.'"
      ]
     },
     "execution_count": 212,
     "metadata": {},
     "output_type": "execute_result"
    }
   ],
   "source": [
    "a=int(input())\n",
    "print(\"{x} in Binary is {0:b}\".format(a,x=a))\n",
    "print(\"{x} in Octal is {0:o}\".format(a,x=a))\n",
    "print(\"{x} in Hexadecimal is {0:x}\".format(a,x=a))\n",
    "print(\"{x} in Decimal is {0:d}\".format(a,x=a))\n",
    "print(\"{x} in Float is {0:.2f}\".format(a,x=a))\n",
    "\"\"\"Use for Float Note Place .n before f , for representing floating point precision. n is decimal places.\"\"\""
   ]
  },
  {
   "cell_type": "markdown",
   "id": "7423f0ab",
   "metadata": {},
   "source": [
    "#### Loops with String"
   ]
  },
  {
   "cell_type": "code",
   "execution_count": 219,
   "id": "4fc3842b",
   "metadata": {},
   "outputs": [
    {
     "name": "stdout",
     "output_type": "stream",
     "text": [
      "M a n g o "
     ]
    }
   ],
   "source": [
    "st=\"Mango\"\n",
    "for i in (st):\n",
    "    print(i,end=\" \")"
   ]
  },
  {
   "cell_type": "code",
   "execution_count": 227,
   "id": "69b2b56f",
   "metadata": {},
   "outputs": [
    {
     "name": "stdout",
     "output_type": "stream",
     "text": [
      "Enter a string Harshit 2001\n",
      "7\n",
      "4\n"
     ]
    }
   ],
   "source": [
    "# Checks how many alphabest and digits are present in string.\n",
    "st=input(\"Enter a string \")\n",
    "alpha=0\n",
    "digit=0\n",
    "for i in st:\n",
    "    if i.isalpha():\n",
    "        alpha+=1\n",
    "    if i.isdigit():\n",
    "        digit+=1\n",
    "print(alpha)\n",
    "print(digit)"
   ]
  },
  {
   "cell_type": "code",
   "execution_count": 235,
   "id": "729d677b",
   "metadata": {},
   "outputs": [
    {
     "name": "stdout",
     "output_type": "stream",
     "text": [
      "Rain\n",
      "Raining\n"
     ]
    }
   ],
   "source": [
    "\"\"\"To add 'ing ' at the end of a given string (length should be at least 3)\n",
    "If the given string already ends with ' ing ' then add ly '\n",
    "If the string length of the given string is less than 3, leave it unchanged.\"\"\"\n",
    "st=input()\n",
    "if len(st)>=3:\n",
    "    if st.endswith(\"ing\"):\n",
    "        print(st+\"ly\")\n",
    "    else:\n",
    "        print(st+\"ing\")\n",
    "else:\n",
    "    print(st)"
   ]
  },
  {
   "cell_type": "markdown",
   "id": "568d5fe1",
   "metadata": {},
   "source": [
    "### List"
   ]
  },
  {
   "cell_type": "code",
   "execution_count": 240,
   "id": "c2e61cc0",
   "metadata": {},
   "outputs": [
    {
     "data": {
      "text/plain": [
       "[1, 2, 3]"
      ]
     },
     "execution_count": 240,
     "metadata": {},
     "output_type": "execute_result"
    }
   ],
   "source": [
    "\"\"\"List elements are enclosed in square brackets and are comma separated.\n",
    "List is the sequence of class type list.\n",
    "List can contain elements of different data types.\n",
    "List is a mutable(changeable) sequence.\n",
    "List allows duplicate elements.\n",
    "List elements are ordered, it means it give specific order to the elements, if new element is added, by default it comes at the end of the list\"\"\"\n",
    "l=[1,2,3]\n",
    "l"
   ]
  },
  {
   "cell_type": "code",
   "execution_count": 242,
   "id": "c18a602e",
   "metadata": {},
   "outputs": [
    {
     "data": {
      "text/plain": [
       "['Ram', 20, 'Aman', 12, 95.5]"
      ]
     },
     "execution_count": 242,
     "metadata": {},
     "output_type": "execute_result"
    }
   ],
   "source": [
    "l=['Ram',20,'Aman',12,95.5]\n",
    "l"
   ]
  },
  {
   "cell_type": "code",
   "execution_count": 243,
   "id": "70867f74",
   "metadata": {},
   "outputs": [
    {
     "data": {
      "text/plain": [
       "list"
      ]
     },
     "execution_count": 243,
     "metadata": {},
     "output_type": "execute_result"
    }
   ],
   "source": [
    "type(l)"
   ]
  },
  {
   "cell_type": "code",
   "execution_count": 258,
   "id": "e2ab67e3",
   "metadata": {},
   "outputs": [
    {
     "data": {
      "text/plain": [
       "False"
      ]
     },
     "execution_count": 258,
     "metadata": {},
     "output_type": "execute_result"
    }
   ],
   "source": [
    "# If we change the position of any element, then list would not be the same anymore\n",
    "l1=['Ram',12,'Aman',20,95.5]\n",
    "l2=['Ram',20,'Aman',12,95.5]\n",
    "l1==l2"
   ]
  },
  {
   "cell_type": "code",
   "execution_count": 248,
   "id": "cbd6e122",
   "metadata": {},
   "outputs": [
    {
     "name": "stdout",
     "output_type": "stream",
     "text": [
      "[] []\n"
     ]
    }
   ],
   "source": [
    "# Creation of empty list\n",
    "l1=list()\n",
    "l2=[]\n",
    "print(l1,l2)"
   ]
  },
  {
   "cell_type": "code",
   "execution_count": 257,
   "id": "5de8ab4b",
   "metadata": {},
   "outputs": [
    {
     "name": "stdout",
     "output_type": "stream",
     "text": [
      "['Ram', 12, 'Aman', 20, 95.5] ['Ram', 12, 'Aman', 20, 95.5]\n"
     ]
    }
   ],
   "source": [
    "# Creation of non empty list\n",
    "l1=list(['Ram',12,'Aman',20,95.5])\n",
    "l2=['Ram',12,'Aman',20,95.5]\n",
    "print(l1,l2)"
   ]
  },
  {
   "cell_type": "code",
   "execution_count": 263,
   "id": "6ff426c5",
   "metadata": {},
   "outputs": [
    {
     "name": "stdout",
     "output_type": "stream",
     "text": [
      "Ram\n",
      "Aman\n",
      "95.5\n",
      "12\n"
     ]
    }
   ],
   "source": [
    "# Indexing in List\n",
    "# In the list index are started from 0, it means first element takes 0 index and it increases like 0,1,2…(n 1).\n",
    "# -ve indexing It means last element can be accessed using 1 index, second last as 2 and so on.\n",
    "print(l[0])\n",
    "print(l[2])\n",
    "# Negative Indexing\n",
    "print(l[-1])\n",
    "print(l[-2])"
   ]
  },
  {
   "cell_type": "markdown",
   "id": "915e250a",
   "metadata": {},
   "source": [
    "#### Slicing in List"
   ]
  },
  {
   "cell_type": "code",
   "execution_count": null,
   "id": "39b892d4",
   "metadata": {},
   "outputs": [],
   "source": [
    "#l[start:stop:step] index"
   ]
  },
  {
   "cell_type": "code",
   "execution_count": 275,
   "id": "7f596498",
   "metadata": {},
   "outputs": [
    {
     "data": {
      "text/plain": [
       "[0, 1, 2, 3, 4, 5, 6, 7, 8, 9, 10]"
      ]
     },
     "execution_count": 275,
     "metadata": {},
     "output_type": "execute_result"
    }
   ],
   "source": [
    "l=[0,1,2,3,4,5,6,7,8,9,10]\n",
    "l[:]"
   ]
  },
  {
   "cell_type": "code",
   "execution_count": 267,
   "id": "1ff55815",
   "metadata": {},
   "outputs": [
    {
     "data": {
      "text/plain": [
       "[0, 1, 2, 3, 4, 5, 6, 7, 8, 9, 10]"
      ]
     },
     "execution_count": 267,
     "metadata": {},
     "output_type": "execute_result"
    }
   ],
   "source": [
    "l[0:]"
   ]
  },
  {
   "cell_type": "code",
   "execution_count": 268,
   "id": "86ad515c",
   "metadata": {},
   "outputs": [
    {
     "data": {
      "text/plain": [
       "[5, 6, 7, 8, 9, 10]"
      ]
     },
     "execution_count": 268,
     "metadata": {},
     "output_type": "execute_result"
    }
   ],
   "source": [
    "l[5:]"
   ]
  },
  {
   "cell_type": "code",
   "execution_count": 269,
   "id": "b0ec9858",
   "metadata": {},
   "outputs": [
    {
     "data": {
      "text/plain": [
       "[2, 5, 8]"
      ]
     },
     "execution_count": 269,
     "metadata": {},
     "output_type": "execute_result"
    }
   ],
   "source": [
    "l[2:9:3]"
   ]
  },
  {
   "cell_type": "code",
   "execution_count": 270,
   "id": "3aa8f88e",
   "metadata": {},
   "outputs": [
    {
     "data": {
      "text/plain": [
       "[2, 3, 4, 5, 6, 7, 8]"
      ]
     },
     "execution_count": 270,
     "metadata": {},
     "output_type": "execute_result"
    }
   ],
   "source": [
    "l[2:9]"
   ]
  },
  {
   "cell_type": "code",
   "execution_count": 271,
   "id": "d9196855",
   "metadata": {},
   "outputs": [
    {
     "data": {
      "text/plain": [
       "[10, 9, 8, 7, 6]"
      ]
     },
     "execution_count": 271,
     "metadata": {},
     "output_type": "execute_result"
    }
   ],
   "source": [
    "l[-1:-6:-1]"
   ]
  },
  {
   "cell_type": "code",
   "execution_count": 273,
   "id": "48e91084",
   "metadata": {},
   "outputs": [
    {
     "data": {
      "text/plain": [
       "[0, 1, 2, 3, 4, 5, 6, 7, 8, 9, 10]"
      ]
     },
     "execution_count": 273,
     "metadata": {},
     "output_type": "execute_result"
    }
   ],
   "source": [
    "l[::1]"
   ]
  },
  {
   "cell_type": "code",
   "execution_count": 276,
   "id": "d1eea28b",
   "metadata": {},
   "outputs": [
    {
     "data": {
      "text/plain": [
       "[10, 9, 8, 7, 6, 5, 4, 3, 2, 1, 0]"
      ]
     },
     "execution_count": 276,
     "metadata": {},
     "output_type": "execute_result"
    }
   ],
   "source": [
    "l[::-1]"
   ]
  },
  {
   "cell_type": "code",
   "execution_count": 286,
   "id": "7a73fd32",
   "metadata": {},
   "outputs": [
    {
     "data": {
      "text/plain": [
       "[7, 2, 3, 4, 5]"
      ]
     },
     "execution_count": 286,
     "metadata": {},
     "output_type": "execute_result"
    }
   ],
   "source": [
    "# Updation in List- List is mutable(can be changed)\n",
    "l=[1,2,3,4,5]\n",
    "l[0]=7\n",
    "l"
   ]
  },
  {
   "cell_type": "code",
   "execution_count": 288,
   "id": "219cc937",
   "metadata": {},
   "outputs": [
    {
     "data": {
      "text/plain": [
       "[1, 2, 3, 4, 5, 6]"
      ]
     },
     "execution_count": 288,
     "metadata": {},
     "output_type": "execute_result"
    }
   ],
   "source": [
    "# append() Add new element at last in a list.\n",
    "# Listname.append (element to be added)\n",
    "l=[1,2,3,4,5]\n",
    "l.append(6)\n",
    "l"
   ]
  },
  {
   "cell_type": "code",
   "execution_count": 298,
   "id": "b2f18a77",
   "metadata": {},
   "outputs": [
    {
     "data": {
      "text/plain": [
       "[3, 4, 5]"
      ]
     },
     "execution_count": 298,
     "metadata": {},
     "output_type": "execute_result"
    }
   ],
   "source": [
    "# Deletion in List\n",
    "l=[1,2,3,4,5]\n",
    "del(l[0])   # del() deletes the value at that index by passing index\n",
    "l.remove(2) # remove() removes the value by passing value\n",
    "l"
   ]
  },
  {
   "cell_type": "code",
   "execution_count": 302,
   "id": "57d87824",
   "metadata": {},
   "outputs": [
    {
     "ename": "NameError",
     "evalue": "name 'l' is not defined",
     "output_type": "error",
     "traceback": [
      "\u001b[1;31m---------------------------------------------------------------------------\u001b[0m",
      "\u001b[1;31mNameError\u001b[0m                                 Traceback (most recent call last)",
      "\u001b[1;32m~\\AppData\\Local\\Temp/ipykernel_1908/1386365058.py\u001b[0m in \u001b[0;36m<module>\u001b[1;34m\u001b[0m\n\u001b[0;32m      2\u001b[0m \u001b[0ml\u001b[0m\u001b[1;33m=\u001b[0m\u001b[1;33m[\u001b[0m\u001b[1;36m1\u001b[0m\u001b[1;33m,\u001b[0m\u001b[1;36m2\u001b[0m\u001b[1;33m,\u001b[0m\u001b[1;36m3\u001b[0m\u001b[1;33m,\u001b[0m\u001b[1;36m4\u001b[0m\u001b[1;33m,\u001b[0m\u001b[1;36m5\u001b[0m\u001b[1;33m]\u001b[0m\u001b[1;33m\u001b[0m\u001b[1;33m\u001b[0m\u001b[0m\n\u001b[0;32m      3\u001b[0m \u001b[1;32mdel\u001b[0m \u001b[0ml\u001b[0m\u001b[1;33m\u001b[0m\u001b[1;33m\u001b[0m\u001b[0m\n\u001b[1;32m----> 4\u001b[1;33m \u001b[0ml\u001b[0m\u001b[1;33m\u001b[0m\u001b[1;33m\u001b[0m\u001b[0m\n\u001b[0m",
      "\u001b[1;31mNameError\u001b[0m: name 'l' is not defined"
     ]
    }
   ],
   "source": [
    "# Deleting whole list\n",
    "l=[1,2,3,4,5]\n",
    "del l\n",
    "l"
   ]
  },
  {
   "cell_type": "markdown",
   "id": "614823f3",
   "metadata": {},
   "source": [
    "### Built in Methods in List"
   ]
  },
  {
   "cell_type": "code",
   "execution_count": 304,
   "id": "bd0034be",
   "metadata": {},
   "outputs": [
    {
     "data": {
      "text/plain": [
       "8"
      ]
     },
     "execution_count": 304,
     "metadata": {},
     "output_type": "execute_result"
    }
   ],
   "source": [
    "\"\"\"len() It calculates the length of the list or the number of elements in the list\"\"\"\n",
    "l=[23,12,6,28,56,71,16,53]\n",
    "len(l)"
   ]
  },
  {
   "cell_type": "code",
   "execution_count": 307,
   "id": "f37309f2",
   "metadata": {},
   "outputs": [
    {
     "data": {
      "text/plain": [
       "71"
      ]
     },
     "execution_count": 307,
     "metadata": {},
     "output_type": "execute_result"
    }
   ],
   "source": [
    "\"\"\"max(list) It returns the maximum element from the list\"\"\"\n",
    "l=[23,12,6,28,56,71,16,53]\n",
    "max(l)"
   ]
  },
  {
   "cell_type": "code",
   "execution_count": 309,
   "id": "b745e099",
   "metadata": {},
   "outputs": [
    {
     "data": {
      "text/plain": [
       "6"
      ]
     },
     "execution_count": 309,
     "metadata": {},
     "output_type": "execute_result"
    }
   ],
   "source": [
    "\"\"\"min(list) It returns a minimum element from the list\"\"\"\n",
    "min(l)"
   ]
  },
  {
   "cell_type": "code",
   "execution_count": 312,
   "id": "b1f8fba6",
   "metadata": {},
   "outputs": [
    {
     "data": {
      "text/plain": [
       "['1', '2', '3', '4', '5', '6']"
      ]
     },
     "execution_count": 312,
     "metadata": {},
     "output_type": "execute_result"
    }
   ],
   "source": [
    "# list(seq) It converts into any sequence into a list\n",
    "st=\"123456\"\n",
    "list(st)"
   ]
  },
  {
   "cell_type": "code",
   "execution_count": 320,
   "id": "60ddbd26",
   "metadata": {},
   "outputs": [
    {
     "name": "stdout",
     "output_type": "stream",
     "text": [
      "53\n",
      "[23, 12, 6, 28, 56, 71, 16]\n",
      "23\n",
      "[12, 6, 28, 56, 71, 16]\n"
     ]
    }
   ],
   "source": [
    "\"\"\"pop() It deletes the last element from the list Note.\n",
    "We can also pass index as argument in pop() to delete a specific index value\"\"\"\n",
    "l=[23,12,6,28,56,71,16,53]\n",
    "print(l.pop())\n",
    "print(l)\n",
    "print(l.pop(0))\n",
    "print(l)"
   ]
  },
  {
   "cell_type": "code",
   "execution_count": 323,
   "id": "9a1af5aa",
   "metadata": {},
   "outputs": [
    {
     "data": {
      "text/plain": [
       "4"
      ]
     },
     "execution_count": 323,
     "metadata": {},
     "output_type": "execute_result"
    }
   ],
   "source": [
    "# count() It counts the occurrences of a particular element in the list.\n",
    "l=[0,1,2,2,3,3,3,4,4,4,4,5,5,5,5,5]\n",
    "l.count(4)"
   ]
  },
  {
   "cell_type": "code",
   "execution_count": 328,
   "id": "47aa1ba8",
   "metadata": {},
   "outputs": [
    {
     "data": {
      "text/plain": [
       "[6, 12, 16, 23, 28, 53, 56, 71]"
      ]
     },
     "execution_count": 328,
     "metadata": {},
     "output_type": "execute_result"
    }
   ],
   "source": [
    "# sort() Sort the elements of the list in ascending order\n",
    "l=[23,12,6,28,56,71,16,53]\n",
    "l.sort()\n",
    "l"
   ]
  },
  {
   "cell_type": "code",
   "execution_count": 338,
   "id": "3b040a08",
   "metadata": {},
   "outputs": [
    {
     "data": {
      "text/plain": [
       "[53, 16, 71, 56, 28, 6, 12, 23]"
      ]
     },
     "execution_count": 338,
     "metadata": {},
     "output_type": "execute_result"
    }
   ],
   "source": [
    "# reverse() Reverse the element of list.\n",
    "l=[23,12,6,28,56,71,16,53]\n",
    "l.reverse()\n",
    "l"
   ]
  },
  {
   "cell_type": "code",
   "execution_count": 339,
   "id": "bc0a6155",
   "metadata": {},
   "outputs": [
    {
     "data": {
      "text/plain": [
       "[71, 56, 53, 28, 23, 16, 12, 6]"
      ]
     },
     "execution_count": 339,
     "metadata": {},
     "output_type": "execute_result"
    }
   ],
   "source": [
    "# sort(reverse=True) Sorts the elements of the list in reverse order.\n",
    "l=[23,12,6,28,56,71,16,53]\n",
    "l.sort(reverse=True)\n",
    "l"
   ]
  },
  {
   "cell_type": "markdown",
   "id": "2305601d",
   "metadata": {},
   "source": [
    "#### Operations on List"
   ]
  },
  {
   "cell_type": "code",
   "execution_count": 342,
   "id": "16ac21a4",
   "metadata": {},
   "outputs": [
    {
     "data": {
      "text/plain": [
       "[1, 2, 3, 4, 5, 6]"
      ]
     },
     "execution_count": 342,
     "metadata": {},
     "output_type": "execute_result"
    }
   ],
   "source": [
    "# Concatenation\n",
    "l1=[1,2,3]\n",
    "l2=[4,5,6]\n",
    "l3=l1+l2\n",
    "l3"
   ]
  },
  {
   "cell_type": "code",
   "execution_count": 343,
   "id": "138bdc9f",
   "metadata": {},
   "outputs": [
    {
     "data": {
      "text/plain": [
       "[1, 2, 3, 1, 2, 3, 1, 2, 3]"
      ]
     },
     "execution_count": 343,
     "metadata": {},
     "output_type": "execute_result"
    }
   ],
   "source": [
    "# Replication\n",
    "l1=[1,2,3]\n",
    "l1*3"
   ]
  },
  {
   "cell_type": "code",
   "execution_count": 350,
   "id": "e652d14e",
   "metadata": {},
   "outputs": [
    {
     "name": "stdout",
     "output_type": "stream",
     "text": [
      "True\n",
      "False\n",
      "False\n",
      "True\n"
     ]
    }
   ],
   "source": [
    "# Membership\n",
    "l1=[1,2,3,4,5,6,7]\n",
    "print(2 in l1)\n",
    "print(8 in l1)\n",
    "print(2 not in l1)\n",
    "print(8 not in l1)"
   ]
  },
  {
   "cell_type": "code",
   "execution_count": 366,
   "id": "0e73b87e",
   "metadata": {},
   "outputs": [
    {
     "name": "stdout",
     "output_type": "stream",
     "text": [
      "Enter elements of list 0 1 2 3 4\n",
      "Enter index of 1st element 0\n",
      "Enter index of 2nd element 4\n",
      "['4', '1', '2', '3', '0']\n"
     ]
    }
   ],
   "source": [
    "# Write Python Program to swap elements in the list.\n",
    "i=input(\"Enter elements of list \").split()\n",
    "a=int(input(\"Enter index of 1st element \"))\n",
    "b=int(input(\"Enter index of 2nd element \"))\n",
    "if (a>=len(i) or b>=len(i)):\n",
    "    print(\"Overflow\")\n",
    "else:\n",
    "    temp=i[a]\n",
    "    i[a]=i[b]\n",
    "    i[b]=temp\n",
    "    print(i)"
   ]
  },
  {
   "cell_type": "code",
   "execution_count": 378,
   "id": "42b3d073",
   "metadata": {},
   "outputs": [
    {
     "name": "stdout",
     "output_type": "stream",
     "text": [
      "Enter elements of list 1 2 3 4 5 6 7 8 9 10\n",
      "55\n",
      "5.5\n"
     ]
    }
   ],
   "source": [
    "# Take a list input from user having integer elements and calculate sum and average of the list.\n",
    "l=input(\"Enter elements of list \").split()\n",
    "s=0\n",
    "for i in l:\n",
    "    s+=int(i)\n",
    "print(s)\n",
    "print(s/len(l))"
   ]
  },
  {
   "cell_type": "code",
   "execution_count": 388,
   "id": "010c1c7f",
   "metadata": {},
   "outputs": [
    {
     "name": "stdout",
     "output_type": "stream",
     "text": [
      "1 2 3 4 5 6 "
     ]
    }
   ],
   "source": [
    "# list with for loop\n",
    "l=[1,2,3,4,5,6]\n",
    "for i in l:\n",
    "    print(i,end=\" \")"
   ]
  },
  {
   "cell_type": "code",
   "execution_count": 392,
   "id": "1f90d650",
   "metadata": {},
   "outputs": [
    {
     "name": "stdout",
     "output_type": "stream",
     "text": [
      "1 2 3 4 5 6 "
     ]
    }
   ],
   "source": [
    "# list with while loop\n",
    "l=[1,2,3,4,5,6]\n",
    "i=0\n",
    "while i<len(l):\n",
    "    print(l[i],end=\" \")\n",
    "    i+=1"
   ]
  },
  {
   "cell_type": "code",
   "execution_count": 395,
   "id": "feff074a",
   "metadata": {},
   "outputs": [
    {
     "name": "stdout",
     "output_type": "stream",
     "text": [
      "1 2 3 "
     ]
    }
   ],
   "source": [
    "# Write a python program to print all positive number of a list\n",
    "l=[1,2,3,-1,-2,-3]\n",
    "for i in l:\n",
    "    if(i>0):\n",
    "        print(i,end=\" \")"
   ]
  },
  {
   "cell_type": "code",
   "execution_count": 398,
   "id": "42c50ee5",
   "metadata": {},
   "outputs": [
    {
     "name": "stdout",
     "output_type": "stream",
     "text": [
      "1 2 3 "
     ]
    }
   ],
   "source": [
    "# Write a python program to print all positive number of a list\n",
    "l=[1,2,3,-1,-2,-3]\n",
    "i=0\n",
    "while(i<len(l)):\n",
    "    if(l[i]>0):\n",
    "        print(l[i],end=\" \")\n",
    "    i+=1"
   ]
  },
  {
   "cell_type": "code",
   "execution_count": 403,
   "id": "43520304",
   "metadata": {},
   "outputs": [
    {
     "data": {
      "text/plain": [
       "7"
      ]
     },
     "execution_count": 403,
     "metadata": {},
     "output_type": "execute_result"
    }
   ],
   "source": [
    "# Nested List\n",
    "# When we have an element of a list in the form of the list itself, it is called Nested List.\n",
    "# Elements of the nested list can be accessed using the 2 D indexing access method.\n",
    "nl=[[1,2],[3,4],[5,6,7]]\n",
    "nl[2][2]"
   ]
  },
  {
   "cell_type": "code",
   "execution_count": 416,
   "id": "0c815965",
   "metadata": {},
   "outputs": [
    {
     "name": "stdout",
     "output_type": "stream",
     "text": [
      "1 2 3 \n",
      "4 5 6 \n",
      "7 8 9 \n"
     ]
    }
   ],
   "source": [
    "# Nested List as a Matrix\n",
    "nes=[[1,2,3],[4,5,6],[7,8,9]]\n",
    "for i in range(len(nes)):\n",
    "    for j in range(len(nes[0])):\n",
    "        print(nes[i][j],end=\" \")\n",
    "    print()"
   ]
  },
  {
   "cell_type": "code",
   "execution_count": 422,
   "id": "b4226637",
   "metadata": {},
   "outputs": [
    {
     "name": "stdout",
     "output_type": "stream",
     "text": [
      "[1, 2, 3, 4, 5, 6, 7, 8, 9]\n"
     ]
    }
   ],
   "source": [
    "# Create a flat list from a nested list\n",
    "nes=[[1,2,3],[4,5,6],[7,8,9]]\n",
    "new=[]\n",
    "for i in range(len(nes)):\n",
    "    for j in range(len(nes[1])):\n",
    "        new.append(nes[i][j])\n",
    "print(new)"
   ]
  },
  {
   "cell_type": "markdown",
   "id": "b36abc96",
   "metadata": {},
   "source": [
    "### List Comprehension"
   ]
  },
  {
   "cell_type": "code",
   "execution_count": 431,
   "id": "1d2d8ef7",
   "metadata": {},
   "outputs": [
    {
     "data": {
      "text/plain": [
       "[1, 3, 9, 27, 81, 243, 729, 2187, 6561, 19683]"
      ]
     },
     "execution_count": 431,
     "metadata": {},
     "output_type": "execute_result"
    }
   ],
   "source": [
    "# Normal Method\n",
    "a=[]\n",
    "for i in range(10):\n",
    "    a.append(3**i)\n",
    "a"
   ]
  },
  {
   "cell_type": "code",
   "execution_count": 432,
   "id": "2ba323a6",
   "metadata": {},
   "outputs": [
    {
     "data": {
      "text/plain": [
       "[1, 3, 9, 27, 81, 243, 729, 2187, 6561, 19683]"
      ]
     },
     "execution_count": 432,
     "metadata": {},
     "output_type": "execute_result"
    }
   ],
   "source": [
    "# By List Comprehension\n",
    "pow=[(3**x) for x in range(10)]\n",
    "pow"
   ]
  },
  {
   "cell_type": "code",
   "execution_count": 435,
   "id": "e305e0f0",
   "metadata": {},
   "outputs": [
    {
     "data": {
      "text/plain": [
       "[0, 2, 4, 6, 8]"
      ]
     },
     "execution_count": 435,
     "metadata": {},
     "output_type": "execute_result"
    }
   ],
   "source": [
    "l=[x for x in range(10) if x%2==0]\n",
    "l"
   ]
  },
  {
   "cell_type": "code",
   "execution_count": 445,
   "id": "f67db311",
   "metadata": {},
   "outputs": [
    {
     "name": "stdout",
     "output_type": "stream",
     "text": [
      "1 2 3 4 5\n"
     ]
    },
    {
     "data": {
      "text/plain": [
       "[1, 2, 3, 4, 5]"
      ]
     },
     "execution_count": 445,
     "metadata": {},
     "output_type": "execute_result"
    }
   ],
   "source": [
    "# WAP that takes input n comma seperated number and typecast it into int.\n",
    "l=input().split()\n",
    "for i in range(len(l)):\n",
    "    l[i]=int(l[i])\n",
    "l"
   ]
  },
  {
   "cell_type": "code",
   "execution_count": 451,
   "id": "39625211",
   "metadata": {},
   "outputs": [
    {
     "name": "stdout",
     "output_type": "stream",
     "text": [
      "1 2 3 4\n"
     ]
    },
    {
     "data": {
      "text/plain": [
       "[1, 2, 3, 4]"
      ]
     },
     "execution_count": 451,
     "metadata": {},
     "output_type": "execute_result"
    }
   ],
   "source": [
    "l=[int(x) for x in input().split()]\n",
    "l"
   ]
  },
  {
   "cell_type": "code",
   "execution_count": 488,
   "id": "5fc168da",
   "metadata": {},
   "outputs": [
    {
     "name": "stdout",
     "output_type": "stream",
     "text": [
      "1 2 3 4 5 6\n"
     ]
    },
    {
     "data": {
      "text/plain": [
       "[1, 2, 3, 4, 5, 6]"
      ]
     },
     "execution_count": 488,
     "metadata": {},
     "output_type": "execute_result"
    }
   ],
   "source": [
    "l = input().split()\n",
    "list(map(int,l))"
   ]
  },
  {
   "cell_type": "code",
   "execution_count": 457,
   "id": "c7055c6c",
   "metadata": {},
   "outputs": [
    {
     "name": "stdout",
     "output_type": "stream",
     "text": [
      "1 2 3 4 5 6 7 8\n",
      "1 3 5 7 "
     ]
    }
   ],
   "source": [
    "# WAP that takes input n comma seperated number. Find and print all odd number amnong given n numbers.\n",
    "l=input().split(' ')\n",
    "for i in range(len(l)):\n",
    "    l[i]=int(l[i])\n",
    "for x in l:\n",
    "    if x % 2!=0:\n",
    "       print(x,end=\" \")"
   ]
  },
  {
   "cell_type": "code",
   "execution_count": 459,
   "id": "3f598d4c",
   "metadata": {},
   "outputs": [
    {
     "name": "stdout",
     "output_type": "stream",
     "text": [
      "1 2 3 4 5 6\n"
     ]
    },
    {
     "data": {
      "text/plain": [
       "[1, 3, 5]"
      ]
     },
     "execution_count": 459,
     "metadata": {},
     "output_type": "execute_result"
    }
   ],
   "source": [
    "l=[int(x) for x in input().split(' ')]\n",
    "l1=[]\n",
    "for val in l:\n",
    "    if val%2!=0:\n",
    "        l1.append(val)\n",
    "l1"
   ]
  },
  {
   "cell_type": "code",
   "execution_count": 478,
   "id": "74465d34",
   "metadata": {},
   "outputs": [
    {
     "name": "stdout",
     "output_type": "stream",
     "text": [
      "1 2 3\n"
     ]
    },
    {
     "data": {
      "text/plain": [
       "[1, 3]"
      ]
     },
     "execution_count": 478,
     "metadata": {},
     "output_type": "execute_result"
    }
   ],
   "source": [
    "l=[int(x) for x in input().split()]\n",
    "l1=[x for x in l if x%2!=0]\n",
    "l1"
   ]
  },
  {
   "cell_type": "code",
   "execution_count": 487,
   "id": "c5f4b847",
   "metadata": {
    "scrolled": true
   },
   "outputs": [
    {
     "name": "stdout",
     "output_type": "stream",
     "text": [
      "1 2 1 2 3 2 4 4 5 2 4\n"
     ]
    },
    {
     "data": {
      "text/plain": [
       "[1, 2, 3, 4, 5]"
      ]
     },
     "execution_count": 487,
     "metadata": {},
     "output_type": "execute_result"
    }
   ],
   "source": [
    "# WAP which takes space seperated n value from user.Remove all duplicate item.\n",
    "l=[int(x) for x in input().split()]\n",
    "a=list(set(l))\n",
    "a"
   ]
  },
  {
   "cell_type": "code",
   "execution_count": 491,
   "id": "dde3436d",
   "metadata": {},
   "outputs": [
    {
     "name": "stdout",
     "output_type": "stream",
     "text": [
      "1 1 2 2 3 3 3 4 4 4 4 5 5 5 6\n"
     ]
    },
    {
     "data": {
      "text/plain": [
       "[1, 2, 3, 4, 5, 6]"
      ]
     },
     "execution_count": 491,
     "metadata": {},
     "output_type": "execute_result"
    }
   ],
   "source": [
    "#Normal Method\n",
    "l=input().split(' ')\n",
    "l1=[]\n",
    "for i in range(len(l)):\n",
    "    l[i]=int(l[i])\n",
    "for i in range(len(l)):\n",
    "    if l[i] not in l1:\n",
    "        l1.append(l[i])\n",
    "l1"
   ]
  },
  {
   "cell_type": "code",
   "execution_count": 493,
   "id": "775f3be9",
   "metadata": {},
   "outputs": [
    {
     "name": "stdout",
     "output_type": "stream",
     "text": [
      "1 1 2 2\n"
     ]
    },
    {
     "data": {
      "text/plain": [
       "[1, 2]"
      ]
     },
     "execution_count": 493,
     "metadata": {},
     "output_type": "execute_result"
    }
   ],
   "source": [
    "#List Comprehension method\n",
    "l=[int(x) for x in input().split()]\n",
    "l1=[]\n",
    "for i in range(len(l)):\n",
    "    if l[i] not in l1:\n",
    "        l1.append(l[i])\n",
    "l1"
   ]
  },
  {
   "cell_type": "code",
   "execution_count": 490,
   "id": "ac87d135",
   "metadata": {},
   "outputs": [
    {
     "name": "stdout",
     "output_type": "stream",
     "text": [
      "1 2 3\n",
      "4 5 6\n",
      "7 8 9\n"
     ]
    },
    {
     "data": {
      "text/plain": [
       "[[1, 2, 3], [4, 5, 6], [7, 8, 9]]"
      ]
     },
     "execution_count": 490,
     "metadata": {},
     "output_type": "execute_result"
    }
   ],
   "source": [
    "#WAP to take input matrix a from user.\n",
    "m=[]\n",
    "for i in range(3):\n",
    "    l=[int(x) for x in input().split(' ')]\n",
    "    m.append(l)\n",
    "m"
   ]
  },
  {
   "cell_type": "code",
   "execution_count": 504,
   "id": "febc8632",
   "metadata": {},
   "outputs": [
    {
     "name": "stdout",
     "output_type": "stream",
     "text": [
      "3\n",
      "1 2 3\n",
      "4 5 6\n",
      "1 1 1\n",
      "2 2 2\n",
      "3 3 3\n",
      "4 4 4\n",
      "[[1, 2, 3], [4, 5, 6], [1, 1, 1]]\n",
      "[[2, 2, 2], [3, 3, 3], [4, 4, 4]]\n"
     ]
    },
    {
     "data": {
      "text/plain": [
       "[[3, 4, 5], [7, 8, 9], [5, 5, 5]]"
      ]
     },
     "execution_count": 504,
     "metadata": {},
     "output_type": "execute_result"
    }
   ],
   "source": [
    "#WAP to take matrix and print sum of two matrix.\n",
    "m=int(input())\n",
    "m1 = [[int(x) for x in input().split(\" \")] for i in range(m)]\n",
    "m2 = [[int(x) for x in input().split(\" \")] for i in range(m)]\n",
    "m3=[[0]*m for i in range(m)]\n",
    "print(m1)\n",
    "print(m2)\n",
    "for i in range(m):\n",
    "    for j in range(len(m1[0])):\n",
    "        m3[i][j]=m1[i][j]+m2[i][j]\n",
    "m3"
   ]
  },
  {
   "cell_type": "markdown",
   "id": "13161250",
   "metadata": {},
   "source": [
    "### Tuples"
   ]
  },
  {
   "cell_type": "code",
   "execution_count": 509,
   "id": "9f603866",
   "metadata": {},
   "outputs": [
    {
     "name": "stdout",
     "output_type": "stream",
     "text": [
      "() ()\n"
     ]
    }
   ],
   "source": [
    "#Tuple is an immutable ordered collection of elements of different data types.\n",
    "# Empty tuple\n",
    "t=()\n",
    "t1=tuple()\n",
    "print(t,t1)"
   ]
  },
  {
   "cell_type": "code",
   "execution_count": 514,
   "id": "4abe7b92",
   "metadata": {},
   "outputs": [
    {
     "name": "stdout",
     "output_type": "stream",
     "text": [
      "<class 'tuple'>\n",
      "(1, 1.2, 'Python', -25, 'ok')\n"
     ]
    }
   ],
   "source": [
    "# Creating Non-empty Tuple\n",
    "t=(1,1.2,\"Python\",-25,\"ok\")\n",
    "print(type(t))\n",
    "print(t)"
   ]
  },
  {
   "cell_type": "code",
   "execution_count": 518,
   "id": "e8968af0",
   "metadata": {},
   "outputs": [
    {
     "name": "stdout",
     "output_type": "stream",
     "text": [
      "<class 'int'>\n",
      "<class 'str'>\n",
      "<class 'tuple'>\n"
     ]
    }
   ],
   "source": [
    "a=(1)\n",
    "b=(\"Python\")\n",
    "t=(1,)    # So for creating tuple of single element you have to put a comma after the element.\n",
    "print(type(a))\n",
    "print(type(b))\n",
    "print(type(t))"
   ]
  },
  {
   "cell_type": "markdown",
   "id": "e07a7949",
   "metadata": {},
   "source": [
    "#### Packing & Unpacking of Tuple"
   ]
  },
  {
   "cell_type": "code",
   "execution_count": 521,
   "id": "93be38db",
   "metadata": {},
   "outputs": [
    {
     "name": "stdout",
     "output_type": "stream",
     "text": [
      "<class 'tuple'>\n"
     ]
    },
    {
     "data": {
      "text/plain": [
       "(1, 1.2, 'Python', -25, 'ok')"
      ]
     },
     "execution_count": 521,
     "metadata": {},
     "output_type": "execute_result"
    }
   ],
   "source": [
    "# Tuple can also be created without using parenthesis; it is known as packing.\n",
    "# Write a program to create tuple without parenthesis.\n",
    "t=1,1.2,\"Python\",-25,\"ok\"   # packing\n",
    "print(type(t))\n",
    "t"
   ]
  },
  {
   "cell_type": "code",
   "execution_count": 524,
   "id": "f8001e33",
   "metadata": {},
   "outputs": [
    {
     "name": "stdout",
     "output_type": "stream",
     "text": [
      "(1, 1.2, 'Python', -25, 'ok')\n",
      "1 1.2 Python -25 ok\n"
     ]
    }
   ],
   "source": [
    "# Write a program to unpack elements in tuple.\n",
    "# Unpacking is called when the multiple variables is assigned to a tuple; then these variables take corresponding values.\n",
    "t=1,1.2,\"Python\",-25,\"ok\"  # packing\n",
    "print(t)\n",
    "a,b,c,d,e=t   # unpacking\n",
    "print(a,b,c,d,e)"
   ]
  },
  {
   "cell_type": "code",
   "execution_count": 526,
   "id": "6a599d8c",
   "metadata": {},
   "outputs": [
    {
     "name": "stdout",
     "output_type": "stream",
     "text": [
      "1 Python ok 1\n"
     ]
    }
   ],
   "source": [
    "# Tuple elements can be accessed using indexes, just like String and List.\n",
    "t=(1,1.2,\"Python\",-25,\"ok\")\n",
    "print(t[0],t[2],t[-1],t[-5])"
   ]
  },
  {
   "cell_type": "code",
   "execution_count": 544,
   "id": "a1a9f3eb",
   "metadata": {},
   "outputs": [
    {
     "name": "stdout",
     "output_type": "stream",
     "text": [
      "(0, 1, 2, 3, 4, 5, 6, 7, 8, 9, 10, 11, 12, 13, 14, 15)\n",
      "(0, 1, 2, 3, 4, 5, 6, 7, 8, 9, 10, 11, 12, 13, 14, 15)\n",
      "(0, 1, 2, 3, 4, 5, 6, 7, 8, 9, 10, 11, 12, 13, 14, 15)\n",
      "(0, 2, 4, 6, 8, 10, 12, 14)\n",
      "(15, 14, 13, 12, 11, 10, 9)\n",
      "(15, 14, 13, 12, 11, 10, 9, 8, 7, 6, 5, 4, 3, 2, 1, 0)\n",
      "()\n"
     ]
    }
   ],
   "source": [
    "# Indexing and Slicing in Tuple Same as List\n",
    "t=(0,1,2,3,4,5,6,7,8,9,10,11,12,13,14,15)\n",
    "print(t[:])\n",
    "print(t[0:])\n",
    "print(t[::])\n",
    "print(t[0:16:2])\n",
    "print(t[-1:-8:-1])\n",
    "print(t[::-1])\n",
    "print(t[5:0])"
   ]
  },
  {
   "cell_type": "code",
   "execution_count": 546,
   "id": "7bab01ce",
   "metadata": {},
   "outputs": [
    {
     "ename": "TypeError",
     "evalue": "'tuple' object does not support item assignment",
     "output_type": "error",
     "traceback": [
      "\u001b[1;31m---------------------------------------------------------------------------\u001b[0m",
      "\u001b[1;31mTypeError\u001b[0m                                 Traceback (most recent call last)",
      "\u001b[1;32m~\\AppData\\Local\\Temp/ipykernel_1908/1547249033.py\u001b[0m in \u001b[0;36m<module>\u001b[1;34m\u001b[0m\n\u001b[0;32m      1\u001b[0m \u001b[1;31m# If we want to change any of the index value in tuple, this is not allowed and throw an error.\u001b[0m\u001b[1;33m\u001b[0m\u001b[1;33m\u001b[0m\u001b[0m\n\u001b[0;32m      2\u001b[0m \u001b[0mt\u001b[0m\u001b[1;33m=\u001b[0m\u001b[1;33m(\u001b[0m\u001b[1;36m0\u001b[0m\u001b[1;33m,\u001b[0m\u001b[1;36m1\u001b[0m\u001b[1;33m,\u001b[0m\u001b[1;36m2\u001b[0m\u001b[1;33m,\u001b[0m\u001b[1;36m3\u001b[0m\u001b[1;33m,\u001b[0m\u001b[1;36m4\u001b[0m\u001b[1;33m,\u001b[0m\u001b[1;36m5\u001b[0m\u001b[1;33m,\u001b[0m\u001b[1;36m6\u001b[0m\u001b[1;33m,\u001b[0m\u001b[1;36m7\u001b[0m\u001b[1;33m,\u001b[0m\u001b[1;36m8\u001b[0m\u001b[1;33m,\u001b[0m\u001b[1;36m9\u001b[0m\u001b[1;33m,\u001b[0m\u001b[1;36m10\u001b[0m\u001b[1;33m,\u001b[0m\u001b[1;36m11\u001b[0m\u001b[1;33m,\u001b[0m\u001b[1;36m12\u001b[0m\u001b[1;33m,\u001b[0m\u001b[1;36m13\u001b[0m\u001b[1;33m,\u001b[0m\u001b[1;36m14\u001b[0m\u001b[1;33m,\u001b[0m\u001b[1;36m15\u001b[0m\u001b[1;33m)\u001b[0m\u001b[1;33m\u001b[0m\u001b[1;33m\u001b[0m\u001b[0m\n\u001b[1;32m----> 3\u001b[1;33m \u001b[0mt\u001b[0m\u001b[1;33m[\u001b[0m\u001b[1;36m0\u001b[0m\u001b[1;33m]\u001b[0m\u001b[1;33m=\u001b[0m\u001b[1;36m1\u001b[0m\u001b[1;33m\u001b[0m\u001b[1;33m\u001b[0m\u001b[0m\n\u001b[0m\u001b[0;32m      4\u001b[0m \u001b[0mt\u001b[0m\u001b[1;33m\u001b[0m\u001b[1;33m\u001b[0m\u001b[0m\n",
      "\u001b[1;31mTypeError\u001b[0m: 'tuple' object does not support item assignment"
     ]
    }
   ],
   "source": [
    "# If we want to change any of the index value in tuple, this is not allowed and throw an error.\n",
    "t=(0,1,2,3,4,5,6,7,8,9,10,11,12,13,14,15)\n",
    "t[0]=1\n",
    "t"
   ]
  },
  {
   "cell_type": "code",
   "execution_count": 553,
   "id": "daa7f825",
   "metadata": {},
   "outputs": [
    {
     "name": "stdout",
     "output_type": "stream",
     "text": [
      "4\n",
      "7\n"
     ]
    }
   ],
   "source": [
    "# Built in Methods in Tuple\n",
    "t=(0,1,2,2,3,3,3,4,4,4,4,5,5,5,5,5)\n",
    "print(t.count(4))  # count() It returns the occurrences of the value given.\n",
    "print(t.index(4))  #index() It returns the index of first occurence of the specified value."
   ]
  },
  {
   "cell_type": "code",
   "execution_count": 555,
   "id": "fab9fc4a",
   "metadata": {},
   "outputs": [
    {
     "data": {
      "text/plain": [
       "(1, 2, 3, 4, 5, 6)"
      ]
     },
     "execution_count": 555,
     "metadata": {},
     "output_type": "execute_result"
    }
   ],
   "source": [
    "# Operations on Tuple (same as list and string)\n",
    "# Concatenation\n",
    "t1=(1,2,3)\n",
    "t2=(4,5,6)\n",
    "t=t1+t2\n",
    "t"
   ]
  },
  {
   "cell_type": "code",
   "execution_count": 556,
   "id": "4d39c996",
   "metadata": {},
   "outputs": [
    {
     "data": {
      "text/plain": [
       "(1, 2, 3, 1, 2, 3, 1, 2, 3)"
      ]
     },
     "execution_count": 556,
     "metadata": {},
     "output_type": "execute_result"
    }
   ],
   "source": [
    "# Replication\n",
    "t=(1,2,3)\n",
    "t*3"
   ]
  },
  {
   "cell_type": "code",
   "execution_count": 559,
   "id": "2fa5f008",
   "metadata": {},
   "outputs": [
    {
     "name": "stdout",
     "output_type": "stream",
     "text": [
      "True\n",
      "True\n"
     ]
    }
   ],
   "source": [
    "# Membership\n",
    "print(1 in t)\n",
    "print(4 not in t)"
   ]
  },
  {
   "cell_type": "code",
   "execution_count": 565,
   "id": "a4d60bee",
   "metadata": {},
   "outputs": [
    {
     "name": "stdout",
     "output_type": "stream",
     "text": [
      "1  is Odd\n",
      "2  is Even\n",
      "3  is Odd\n",
      "4  is Even\n"
     ]
    }
   ],
   "source": [
    "# Loops and Conditions on Tuple\n",
    "t=(1,2,3,4)\n",
    "for i in t:\n",
    "    if i%2==0:\n",
    "        print(i,\" is Even\")\n",
    "    else:\n",
    "        print(i,\" is Odd\")"
   ]
  },
  {
   "cell_type": "code",
   "execution_count": 573,
   "id": "68e17630",
   "metadata": {},
   "outputs": [
    {
     "name": "stdout",
     "output_type": "stream",
     "text": [
      "3 4 5\n",
      "3 6 5\n",
      "(3, 4, 5, 3, 6, 5)\n"
     ]
    }
   ],
   "source": [
    "# Write Python program to join two input tuples, if their first element is common and elements of tuple should be integer.\n",
    "# Taking input in List and converting it into tuples.\n",
    "t1=tuple(int(x) for x in input().split())\n",
    "t2=tuple(int(x) for x in input().split())\n",
    "if t1[0]==t2[0]:\n",
    "    print(t1+t2)\n",
    "else:\n",
    "    print(\"First Element is not same.\")"
   ]
  },
  {
   "cell_type": "markdown",
   "id": "eb166fc7",
   "metadata": {},
   "source": [
    "### Dictionaries"
   ]
  },
  {
   "cell_type": "code",
   "execution_count": 1,
   "id": "4a7f5e38",
   "metadata": {},
   "outputs": [],
   "source": [
    "# Dictionary is a unique data collection of Python which stores the key value pair.\n",
    "# In dictionaries, the indexes are not by default. (such as 0 in string, list, tuple).\n",
    "# {} is the representation of Dictionary. This key value pair is considered as one item in dictionary."
   ]
  },
  {
   "cell_type": "code",
   "execution_count": 8,
   "id": "89c1ec50",
   "metadata": {},
   "outputs": [
    {
     "name": "stdout",
     "output_type": "stream",
     "text": [
      "{} {}\n",
      "<class 'dict'> <class 'dict'>\n"
     ]
    }
   ],
   "source": [
    "# Creating a empty dictionary.\n",
    "d1={}\n",
    "d2=dict()\n",
    "print(d1,d2)\n",
    "print(type(d1),type(d2))"
   ]
  },
  {
   "cell_type": "code",
   "execution_count": 11,
   "id": "e84530a0",
   "metadata": {},
   "outputs": [
    {
     "name": "stdout",
     "output_type": "stream",
     "text": [
      "{'name': 'harsh', 'empcode': 9872, 'subject': 'Python'}\n"
     ]
    },
    {
     "data": {
      "text/plain": [
       "dict"
      ]
     },
     "execution_count": 11,
     "metadata": {},
     "output_type": "execute_result"
    }
   ],
   "source": [
    "# Creating a non-empty dictionary \n",
    "d={\"name\":\"harsh\",\"empcode\":9872,\"subject\":\"Python\"}\n",
    "d\n",
    "print(d)\n",
    "type(d)"
   ]
  },
  {
   "cell_type": "code",
   "execution_count": 17,
   "id": "c9d76554",
   "metadata": {},
   "outputs": [
    {
     "name": "stdout",
     "output_type": "stream",
     "text": [
      "harsh Python\n",
      "3\n"
     ]
    }
   ],
   "source": [
    "# Accessing Dictionary\n",
    "# In dictionary, the items are accessed by the keys.\n",
    "d={\"name\":\"harsh\", \"empcode\":9872, \"subject\":\"Python\"}\n",
    "print(d['name'],d[\"subject\"])\n",
    "print(len(d))"
   ]
  },
  {
   "cell_type": "code",
   "execution_count": 19,
   "id": "5e73a16c",
   "metadata": {},
   "outputs": [
    {
     "data": {
      "text/plain": [
       "{'name': 'Harsh Rai', 'empcode': 9872, 'subject': 'Python'}"
      ]
     },
     "execution_count": 19,
     "metadata": {},
     "output_type": "execute_result"
    }
   ],
   "source": [
    "# Modification in Dictionary\n",
    "# Update the value using key\n",
    "d={\"name\":\"Harsh\", \"empcode\":9872, \"subject\":\"Python\"}\n",
    "d['name']='Harsh Rai'\n",
    "d"
   ]
  },
  {
   "cell_type": "code",
   "execution_count": 22,
   "id": "a8e450ed",
   "metadata": {},
   "outputs": [
    {
     "data": {
      "text/plain": [
       "{1: 'Kitchen', 2: 'Store'}"
      ]
     },
     "execution_count": 22,
     "metadata": {},
     "output_type": "execute_result"
    }
   ],
   "source": [
    "# Swapping Store and Kitchen\n",
    "room={1:\"Store\", 2:\"Kitchen\"}\n",
    "temp=room[1]\n",
    "room[1]=room[2]\n",
    "room[2]=temp\n",
    "room"
   ]
  },
  {
   "cell_type": "code",
   "execution_count": 29,
   "id": "8e40fd47",
   "metadata": {},
   "outputs": [
    {
     "data": {
      "text/plain": [
       "{1: 'Store', 2: 'Kitchen', 3: 'Guest'}"
      ]
     },
     "execution_count": 29,
     "metadata": {},
     "output_type": "execute_result"
    }
   ],
   "source": [
    "# New Dict is added.\n",
    "room={1:\"Store\", 2:\"Kitchen\"}\n",
    "room[3]=\"Guest\"\n",
    "room"
   ]
  },
  {
   "cell_type": "code",
   "execution_count": 25,
   "id": "5643ea61",
   "metadata": {},
   "outputs": [],
   "source": [
    "# It is not possible to change the keys of the dictionary."
   ]
  },
  {
   "cell_type": "code",
   "execution_count": 26,
   "id": "39cf5252",
   "metadata": {},
   "outputs": [],
   "source": [
    "# Nested Dictionary\n",
    "# As we have the option of a nested list, similarly, dictionaries can consist of data collections."
   ]
  },
  {
   "cell_type": "code",
   "execution_count": 31,
   "id": "2eea5164",
   "metadata": {},
   "outputs": [
    {
     "name": "stdout",
     "output_type": "stream",
     "text": [
      "{1: 'Store', 2: 'Kitchen', 3: {1: 'Guest', 2: 'Guest Store', 3: 'Guest Wash'}}\n",
      "{1: 'Store', 2: 'Kitchen', 3: {1: 'Guest', 2: 'Nothing', 3: 'Guest Wash'}}\n"
     ]
    }
   ],
   "source": [
    "room={1:\"Store\", 2:\"Kitchen\",3:{1:\"Guest\",2:\"Guest Store\",3:\"Guest Wash\"}}\n",
    "print(room)\n",
    "room[3][2]=\"Nothing\"\n",
    "print(room)"
   ]
  },
  {
   "cell_type": "markdown",
   "id": "857143df",
   "metadata": {},
   "source": [
    "### Built in Methods in Dictionary"
   ]
  },
  {
   "cell_type": "code",
   "execution_count": 146,
   "id": "1c2ad5a1",
   "metadata": {},
   "outputs": [],
   "source": [
    "# copy() Copying a dictionary to another dictionary \n",
    "\n",
    "# fromkeys() Create a new dictionary with key in a data sequence list/ tuple with value\n",
    "\n",
    "# get() If the key is present in the dictionary, its value is returned. If the key is not present in a dictionary, then\n",
    "# the default value will be shown as output instead of a KeyError .\n",
    "\n",
    "# items() this will return the key value pair as an output.\n",
    "\n",
    "# keys() this will return only the keys as an output.\n",
    "\n",
    "# values() this will return only the dictionary values as an output.\n",
    "\n",
    "# update() this adds the one dictionary with another dictionary.\n",
    "\n",
    "# pop() The pop() method takes an argument as the dictionary key, and deletes the item from the dictionary.\n",
    "\n",
    "# popitem() The popitem () method retrieves and removes the last key/value pair inserted into the dictionary."
   ]
  },
  {
   "cell_type": "code",
   "execution_count": 44,
   "id": "461b7f05",
   "metadata": {},
   "outputs": [
    {
     "name": "stdout",
     "output_type": "stream",
     "text": [
      "{1: 'Store', 2: 'Kitchen'}\n",
      "{1: 'Store', 2: 'Kitchen'}\n",
      "{1: 'Store', 2: 'Kitchen'}\n",
      "True\n",
      "False\n"
     ]
    }
   ],
   "source": [
    "# copy() - copy() method provide a fresh copy with different memory location.\n",
    "floor1={1:\"Store\", 2:\"Kitchen\"}\n",
    "floor2=floor1\n",
    "floor3=floor1.copy()\n",
    "print(floor1)\n",
    "print(floor2)\n",
    "print(floor3)\n",
    "print(id(floor1)==id(floor2))\n",
    "print(id(floor1)==id(floor3))"
   ]
  },
  {
   "cell_type": "code",
   "execution_count": 46,
   "id": "f2d05597",
   "metadata": {},
   "outputs": [
    {
     "data": {
      "text/plain": [
       "{1: 'xyz', 2: 'xyz', 3: 'xyz', 4: 'xyz'}"
      ]
     },
     "execution_count": 46,
     "metadata": {},
     "output_type": "execute_result"
    }
   ],
   "source": [
    "# fromkeys() Create a new dictionary with key in a data sequence (list/ tuple) with given value.\n",
    "key=[1,2,3,4]\n",
    "value='xyz'\n",
    "sqr={}\n",
    "sqr.fromkeys(key,value)"
   ]
  },
  {
   "cell_type": "code",
   "execution_count": 51,
   "id": "3390693f",
   "metadata": {},
   "outputs": [
    {
     "name": "stdout",
     "output_type": "stream",
     "text": [
      "Harsh\n",
      "None\n",
      "1\n"
     ]
    }
   ],
   "source": [
    "# get() - If the key is present in the dictionary, its value is returned. If the key is not present in a dictionary, then\n",
    "# the default value will be shown as output instead of a KeyError .\n",
    "d={\"name\":\"Harsh\", \"empcode\":9872, \"subject\":\"Python\"}\n",
    "print(d.get('name'))\n",
    "print(d.get('rank'))\n",
    "print(d.get('rank',1))  # sets default value to 1."
   ]
  },
  {
   "cell_type": "code",
   "execution_count": 55,
   "id": "645228d4",
   "metadata": {},
   "outputs": [
    {
     "name": "stdout",
     "output_type": "stream",
     "text": [
      "dict_keys(['name', 'empcode', 'subject'])\n",
      "dict_values(['Harsh', 9872, 'Python'])\n",
      "dict_items([('name', 'Harsh'), ('empcode', 9872), ('subject', 'Python')])\n"
     ]
    }
   ],
   "source": [
    "# items(),keys(),values()\n",
    "d={\"name\":\"Harsh\", \"empcode\":9872, \"subject\":\"Python\"}\n",
    "print(d.keys())\n",
    "print(d.values())\n",
    "print(d.items())"
   ]
  },
  {
   "cell_type": "code",
   "execution_count": 60,
   "id": "f41896c3",
   "metadata": {},
   "outputs": [
    {
     "name": "stdout",
     "output_type": "stream",
     "text": [
      "{1: 'A', 2: 'B', 3: 'C'}\n",
      "{1: 'A', 2: 'B', 3: 'C', 4: 'D', 5: 'E', 6: 'F'}\n",
      "{4: 'D', 5: 'E', 6: 'F'}\n"
     ]
    }
   ],
   "source": [
    "# update() - This adds the one dictionary with another dictionary.\n",
    "a={1:\"A\",2:\"B\",3:\"C\"}\n",
    "b={4:\"D\",5:\"E\",6:\"F\"}\n",
    "print(a)\n",
    "a.update(b) # b is added to a\n",
    "print(a)\n",
    "print(b)"
   ]
  },
  {
   "cell_type": "code",
   "execution_count": 73,
   "id": "130ff60d",
   "metadata": {},
   "outputs": [
    {
     "name": "stdout",
     "output_type": "stream",
     "text": [
      "B\n",
      "{1: 'A', 3: 'C', 4: 'D'}\n",
      "(4, 'D')\n",
      "{1: 'A', 3: 'C'}\n"
     ]
    }
   ],
   "source": [
    "# pop(),popitem()\n",
    "\n",
    "a={1:\"A\",2:\"B\",3:\"C\",4:\"D\"}\n",
    "print(a.pop(2)) #The pop() method takes an argument as the dictionary key, and deletes the item from the dictionary.\n",
    "print(a)\n",
    "print(a.popitem()) #The popitem () method retrieves and removes the last key/value pair inserted into the dictionary.\n",
    "print(a)"
   ]
  },
  {
   "cell_type": "markdown",
   "id": "9efc95f2",
   "metadata": {},
   "source": [
    "#### Lopps and Conditions On Dictionary"
   ]
  },
  {
   "cell_type": "code",
   "execution_count": 77,
   "id": "44e0ca91",
   "metadata": {},
   "outputs": [
    {
     "name": "stdout",
     "output_type": "stream",
     "text": [
      "1\n",
      "2\n",
      "3\n",
      "4\n"
     ]
    }
   ],
   "source": [
    "a={1:\"A\",2:\"B\",3:\"C\",4:\"D\"}\n",
    "# Key is printed\n",
    "for key in a.keys():\n",
    "    print(key)"
   ]
  },
  {
   "cell_type": "code",
   "execution_count": 81,
   "id": "efdda580",
   "metadata": {},
   "outputs": [
    {
     "name": "stdout",
     "output_type": "stream",
     "text": [
      "A\n",
      "B\n",
      "C\n",
      "D\n"
     ]
    }
   ],
   "source": [
    "# Value is printed\n",
    "for value in a.values():\n",
    "    print(value)"
   ]
  },
  {
   "cell_type": "code",
   "execution_count": 82,
   "id": "0c72480b",
   "metadata": {},
   "outputs": [
    {
     "name": "stdout",
     "output_type": "stream",
     "text": [
      "(1, 'A')\n",
      "(2, 'B')\n",
      "(3, 'C')\n",
      "(4, 'D')\n"
     ]
    }
   ],
   "source": [
    "# Item is printed\n",
    "for item in a.items():\n",
    "    print(item)"
   ]
  },
  {
   "cell_type": "code",
   "execution_count": 83,
   "id": "903dedee",
   "metadata": {},
   "outputs": [
    {
     "name": "stdout",
     "output_type": "stream",
     "text": [
      "1 : A\n",
      "2 : B\n",
      "3 : C\n",
      "4 : D\n"
     ]
    }
   ],
   "source": [
    "for i,j in a.items():\n",
    "    print(i,\":\",j)"
   ]
  },
  {
   "cell_type": "code",
   "execution_count": 85,
   "id": "49d44ed1",
   "metadata": {},
   "outputs": [
    {
     "name": "stdout",
     "output_type": "stream",
     "text": [
      "{1: 1, 2: 4, 3: 9, 4: 16, 5: 25}\n"
     ]
    }
   ],
   "source": [
    "new={}\n",
    "for i in range(1,6):\n",
    "    new[i]=i*i\n",
    "print(new)"
   ]
  },
  {
   "cell_type": "markdown",
   "id": "fa523c45",
   "metadata": {},
   "source": [
    "### Set"
   ]
  },
  {
   "cell_type": "code",
   "execution_count": 86,
   "id": "1f12b328",
   "metadata": {},
   "outputs": [],
   "source": [
    "# A set is another data collection data types in python, which stores unique elements in an unordered way.\n",
    "\n",
    "# Every element in a set is unique and immutable(unchangeable), \n",
    "# i.e. no duplicate values should be there, and the values can’t be changed."
   ]
  },
  {
   "cell_type": "code",
   "execution_count": 92,
   "id": "97def177",
   "metadata": {},
   "outputs": [
    {
     "name": "stdout",
     "output_type": "stream",
     "text": [
      "set()\n",
      "<class 'set'>\n"
     ]
    }
   ],
   "source": [
    "# Creation of empty set\n",
    "s1=set()\n",
    "print(s1)\n",
    "print(type(s1))"
   ]
  },
  {
   "cell_type": "code",
   "execution_count": 253,
   "id": "ad0063d9",
   "metadata": {},
   "outputs": [
    {
     "name": "stdout",
     "output_type": "stream",
     "text": [
      "{1, 2.5, 2, '2', 'Hello', '1'}\n",
      "6\n"
     ]
    }
   ],
   "source": [
    "# Creation of non empty set.\n",
    "s={1,2,\"1\",\"2\",2.5,1,2,\"1\",\"2\",2.50,2.500,\"Hello\",\"Hello\"}\n",
    "print(s) # Can be printed in any order\n",
    "print(len(s))"
   ]
  },
  {
   "cell_type": "code",
   "execution_count": 1,
   "id": "a1e7144c",
   "metadata": {},
   "outputs": [
    {
     "data": {
      "text/plain": [
       "{'A', 'H', 'I', 'R', 'S', 'T'}"
      ]
     },
     "execution_count": 1,
     "metadata": {},
     "output_type": "execute_result"
    }
   ],
   "source": [
    "str_set=set(\"HARSHIT\")\n",
    "str_set"
   ]
  },
  {
   "cell_type": "code",
   "execution_count": 108,
   "id": "90c092fc",
   "metadata": {},
   "outputs": [
    {
     "data": {
      "text/plain": [
       "{'HARSHIT'}"
      ]
     },
     "execution_count": 108,
     "metadata": {},
     "output_type": "execute_result"
    }
   ],
   "source": [
    "str_set={\"HARSHIT\"}\n",
    "str_set"
   ]
  },
  {
   "cell_type": "code",
   "execution_count": 109,
   "id": "ed1c0294",
   "metadata": {},
   "outputs": [
    {
     "data": {
      "text/plain": [
       "{1, 2, 3, 4, 5, 6, 7, 8, 9, 10}"
      ]
     },
     "execution_count": 109,
     "metadata": {},
     "output_type": "execute_result"
    }
   ],
   "source": [
    "s={1,1,2,2,2,3,4,5,5,6,7,8,9,10}\n",
    "s"
   ]
  },
  {
   "cell_type": "code",
   "execution_count": 254,
   "id": "a8783d52",
   "metadata": {},
   "outputs": [
    {
     "ename": "TypeError",
     "evalue": "'set' object is not callable",
     "output_type": "error",
     "traceback": [
      "\u001b[1;31m---------------------------------------------------------------------------\u001b[0m",
      "\u001b[1;31mTypeError\u001b[0m                                 Traceback (most recent call last)",
      "\u001b[1;32m~\\AppData\\Local\\Temp/ipykernel_21648/4193391848.py\u001b[0m in \u001b[0;36m<module>\u001b[1;34m\u001b[0m\n\u001b[1;32m----> 1\u001b[1;33m \u001b[0ms\u001b[0m\u001b[1;33m=\u001b[0m\u001b[0mset\u001b[0m\u001b[1;33m(\u001b[0m\u001b[1;33m[\u001b[0m\u001b[1;36m1\u001b[0m\u001b[1;33m,\u001b[0m\u001b[1;36m1\u001b[0m\u001b[1;33m,\u001b[0m\u001b[1;36m2\u001b[0m\u001b[1;33m,\u001b[0m\u001b[1;36m2\u001b[0m\u001b[1;33m,\u001b[0m\u001b[1;36m2\u001b[0m\u001b[1;33m,\u001b[0m\u001b[1;36m3\u001b[0m\u001b[1;33m,\u001b[0m\u001b[1;36m4\u001b[0m\u001b[1;33m,\u001b[0m\u001b[1;36m5\u001b[0m\u001b[1;33m,\u001b[0m\u001b[1;36m5\u001b[0m\u001b[1;33m,\u001b[0m\u001b[1;36m6\u001b[0m\u001b[1;33m,\u001b[0m\u001b[1;36m7\u001b[0m\u001b[1;33m,\u001b[0m\u001b[1;36m8\u001b[0m\u001b[1;33m,\u001b[0m\u001b[1;36m9\u001b[0m\u001b[1;33m,\u001b[0m\u001b[1;36m10\u001b[0m\u001b[1;33m]\u001b[0m\u001b[1;33m)\u001b[0m\u001b[1;33m\u001b[0m\u001b[1;33m\u001b[0m\u001b[0m\n\u001b[0m\u001b[0;32m      2\u001b[0m \u001b[0ms\u001b[0m\u001b[1;33m\u001b[0m\u001b[1;33m\u001b[0m\u001b[0m\n",
      "\u001b[1;31mTypeError\u001b[0m: 'set' object is not callable"
     ]
    }
   ],
   "source": [
    "s=set([1,1,2,2,2,3,4,5,5,6,7,8,9,10])\n",
    "s"
   ]
  },
  {
   "cell_type": "code",
   "execution_count": 120,
   "id": "2cab0234",
   "metadata": {},
   "outputs": [
    {
     "data": {
      "text/plain": [
       "dict"
      ]
     },
     "execution_count": 120,
     "metadata": {},
     "output_type": "execute_result"
    }
   ],
   "source": [
    "# This is a empty dictionary not a empty set.\n",
    "s={}\n",
    "type(s)"
   ]
  },
  {
   "cell_type": "code",
   "execution_count": 122,
   "id": "9ae24383",
   "metadata": {},
   "outputs": [
    {
     "ename": "TypeError",
     "evalue": "'set' object is not subscriptable",
     "output_type": "error",
     "traceback": [
      "\u001b[1;31m---------------------------------------------------------------------------\u001b[0m",
      "\u001b[1;31mTypeError\u001b[0m                                 Traceback (most recent call last)",
      "\u001b[1;32m~\\AppData\\Local\\Temp/ipykernel_21648/1142849793.py\u001b[0m in \u001b[0;36m<module>\u001b[1;34m\u001b[0m\n\u001b[0;32m      2\u001b[0m \u001b[1;31m# Python set’s item cannot be accessed using indexes.\u001b[0m\u001b[1;33m\u001b[0m\u001b[1;33m\u001b[0m\u001b[0m\n\u001b[0;32m      3\u001b[0m \u001b[0ms\u001b[0m\u001b[1;33m=\u001b[0m\u001b[1;33m{\u001b[0m\u001b[1;36m1\u001b[0m\u001b[1;33m,\u001b[0m \u001b[1;36m2\u001b[0m\u001b[1;33m,\u001b[0m \u001b[1;36m3\u001b[0m\u001b[1;33m,\u001b[0m \u001b[1;36m4\u001b[0m\u001b[1;33m,\u001b[0m \u001b[1;36m5\u001b[0m\u001b[1;33m,\u001b[0m \u001b[1;36m6\u001b[0m\u001b[1;33m,\u001b[0m \u001b[1;36m7\u001b[0m\u001b[1;33m,\u001b[0m \u001b[1;36m8\u001b[0m\u001b[1;33m,\u001b[0m \u001b[1;36m9\u001b[0m\u001b[1;33m,\u001b[0m \u001b[1;36m10\u001b[0m\u001b[1;33m}\u001b[0m\u001b[1;33m\u001b[0m\u001b[1;33m\u001b[0m\u001b[0m\n\u001b[1;32m----> 4\u001b[1;33m \u001b[0ms\u001b[0m\u001b[1;33m[\u001b[0m\u001b[1;36m2\u001b[0m\u001b[1;33m]\u001b[0m\u001b[1;33m\u001b[0m\u001b[1;33m\u001b[0m\u001b[0m\n\u001b[0m",
      "\u001b[1;31mTypeError\u001b[0m: 'set' object is not subscriptable"
     ]
    }
   ],
   "source": [
    "# Accessing Set\n",
    "# Python set’s item cannot be accessed using indexes.\n",
    "s={1, 2, 3, 4, 5, 6, 7, 8, 9, 10}\n",
    "s[2]"
   ]
  },
  {
   "cell_type": "code",
   "execution_count": 128,
   "id": "e160c960",
   "metadata": {},
   "outputs": [
    {
     "name": "stdout",
     "output_type": "stream",
     "text": [
      "{1, 2, 3} {1, 2, 3}\n"
     ]
    },
    {
     "data": {
      "text/plain": [
       "False"
      ]
     },
     "execution_count": 128,
     "metadata": {},
     "output_type": "execute_result"
    }
   ],
   "source": [
    "# copy() - copy() method provide a fresh copy with different memory location.\n",
    "set1={1,2,3}\n",
    "set2=set1.copy()\n",
    "print(set1,set2)\n",
    "id(set1)==id(set2)"
   ]
  },
  {
   "cell_type": "code",
   "execution_count": 131,
   "id": "118c6bfe",
   "metadata": {},
   "outputs": [
    {
     "name": "stdout",
     "output_type": "stream",
     "text": [
      "{1, 2, 3}\n",
      "set()\n"
     ]
    }
   ],
   "source": [
    "# clear() Removes all element from set.\n",
    "set1={1,2,3}\n",
    "print(set1)\n",
    "set1.clear()\n",
    "print(set1)"
   ]
  },
  {
   "cell_type": "code",
   "execution_count": 133,
   "id": "17cc68f7",
   "metadata": {},
   "outputs": [
    {
     "data": {
      "text/plain": [
       "{1, 2, 3, 4}"
      ]
     },
     "execution_count": 133,
     "metadata": {},
     "output_type": "execute_result"
    }
   ],
   "source": [
    "# add() Adding a new item in set.\n",
    "set={1,2,3}\n",
    "set.add(4)\n",
    "set"
   ]
  },
  {
   "cell_type": "code",
   "execution_count": 147,
   "id": "2aabedd3",
   "metadata": {},
   "outputs": [
    {
     "name": "stdout",
     "output_type": "stream",
     "text": [
      "{1, 2, 3, 4, 5, 6}\n",
      "{0, 1, 2, 3, 4, 5, 6, 7, 8, 9, 10}\n"
     ]
    }
   ],
   "source": [
    "\"\"\"update() this adds the one set with another set.\"\"\"\n",
    "set1={1,2,3}\n",
    "set2={4,5,6}\n",
    "set1.update(set2)\n",
    "print(set1)\n",
    "set1.update([0,7,8],[9,10])\n",
    "print(set1)"
   ]
  },
  {
   "cell_type": "code",
   "execution_count": 151,
   "id": "874fd618",
   "metadata": {},
   "outputs": [
    {
     "data": {
      "text/plain": [
       "{1, 2, 4}"
      ]
     },
     "execution_count": 151,
     "metadata": {},
     "output_type": "execute_result"
    }
   ],
   "source": [
    "# remove() to remove the specified element from the given set.\n",
    "s={1,2,3,4}\n",
    "s.remove(3)\n",
    "s"
   ]
  },
  {
   "cell_type": "code",
   "execution_count": 154,
   "id": "8ca055ed",
   "metadata": {},
   "outputs": [
    {
     "name": "stdout",
     "output_type": "stream",
     "text": [
      "1\n",
      "{2, 3, 4}\n"
     ]
    }
   ],
   "source": [
    "# pop() randomly removes any element\n",
    "s={1,2,3,4}\n",
    "print(s.pop())\n",
    "print(s)"
   ]
  },
  {
   "cell_type": "code",
   "execution_count": 159,
   "id": "68ae67ef",
   "metadata": {},
   "outputs": [
    {
     "name": "stdout",
     "output_type": "stream",
     "text": [
      "None\n",
      "{1, 3, 4}\n"
     ]
    }
   ],
   "source": [
    "\"\"\"discard () used to remove the specified item from the given input set.\n",
    "The remove() method will give an error if the specified item does not exist but this method will not.\"\"\"\n",
    "s={1,2,3,4}\n",
    "print(s.discard(2))\n",
    "print(s)"
   ]
  },
  {
   "cell_type": "code",
   "execution_count": null,
   "id": "5ba455d2",
   "metadata": {},
   "outputs": [],
   "source": [
    "# Operations On Set"
   ]
  },
  {
   "cell_type": "code",
   "execution_count": 164,
   "id": "b210083d",
   "metadata": {},
   "outputs": [
    {
     "name": "stdout",
     "output_type": "stream",
     "text": [
      "{1, 2, 3, 4, 5}\n",
      "{1, 2, 3, 4, 5}\n"
     ]
    }
   ],
   "source": [
    "# union()\n",
    "s1={1,2,3,3}\n",
    "s2={4,5,5,4}\n",
    "print(s1|s2)  #Opertor \"|\" for union() of two sets.\n",
    "print(s1.union(s2))"
   ]
  },
  {
   "cell_type": "code",
   "execution_count": 168,
   "id": "e69ff377",
   "metadata": {},
   "outputs": [
    {
     "name": "stdout",
     "output_type": "stream",
     "text": [
      "{5}\n",
      "{5}\n"
     ]
    }
   ],
   "source": [
    "# intersection()\n",
    "s1={1,2,3,4,5}\n",
    "s2={5,6,7,8}\n",
    "print(s1 & s2) # Operator \"&\" for intersection() of two sets.\n",
    "print(s1.intersection(s2)) "
   ]
  },
  {
   "cell_type": "code",
   "execution_count": 172,
   "id": "852ee9db",
   "metadata": {},
   "outputs": [
    {
     "name": "stdout",
     "output_type": "stream",
     "text": [
      "{1, 2, 3, 4}\n",
      "{1, 2, 3, 4}\n"
     ]
    }
   ],
   "source": [
    "# Elements that are present in one set, but not the other\n",
    "# difference()\n",
    "s1={1,2,3,4,5}\n",
    "s2={5,6,7,8}\n",
    "print(s1-s2) # # Operator \"-\" for difference() of two sets.\n",
    "print(s1.difference(s2))"
   ]
  },
  {
   "cell_type": "code",
   "execution_count": 178,
   "id": "b13ccba5",
   "metadata": {},
   "outputs": [
    {
     "name": "stdout",
     "output_type": "stream",
     "text": [
      "{1, 2, 3, 4, 6, 7, 8}\n",
      "{1, 2, 3, 4, 6, 7, 8}\n"
     ]
    }
   ],
   "source": [
    "# Symmetric Difference - Elements present in one set or the other, but not both.\n",
    "# symmetric_difference()\n",
    "s1={1,2,3,4,5}\n",
    "s2={5,6,7,8}\n",
    "print(s1^s2) # # Operator \"^\" for symmetric_difference(s2) of two sets.\n",
    "print(s1.symmetric_difference(s2))"
   ]
  },
  {
   "cell_type": "code",
   "execution_count": 179,
   "id": "f0420174",
   "metadata": {},
   "outputs": [],
   "source": [
    "# isdisjoint() - None\n",
    "# Disjoint True if the two sets have no elements in common"
   ]
  },
  {
   "cell_type": "code",
   "execution_count": 180,
   "id": "c638dce5",
   "metadata": {},
   "outputs": [],
   "source": [
    "# issubset() - <=\n",
    "# Subset True if one set is a subset of the other (that is, all elements of set2 are also in set1)"
   ]
  },
  {
   "cell_type": "code",
   "execution_count": 181,
   "id": "1f6f945c",
   "metadata": {},
   "outputs": [],
   "source": [
    "# Proper Subset True if one set is a subset of the other, but set2 and set1 cannot be identical\n",
    "# None <"
   ]
  },
  {
   "cell_type": "code",
   "execution_count": 182,
   "id": "6ad3cdf3",
   "metadata": {},
   "outputs": [],
   "source": [
    "# issuperset() - >=\n",
    "# Superset True if one set is a superset of the other (that is, set1 contains all elements of set2)."
   ]
  },
  {
   "cell_type": "code",
   "execution_count": 184,
   "id": "8dcf84ee",
   "metadata": {},
   "outputs": [],
   "source": [
    "# Proper Superset True if one set is a superset of the other, but set1 and set2 cannot be identical\n",
    "# None >"
   ]
  },
  {
   "cell_type": "code",
   "execution_count": 186,
   "id": "e3ccddb4",
   "metadata": {},
   "outputs": [
    {
     "name": "stdout",
     "output_type": "stream",
     "text": [
      "1 2 3 4 5 "
     ]
    }
   ],
   "source": [
    "# Loops with set\n",
    "s1={1,2,3,4,5}\n",
    "for i in s1:\n",
    "    print(i,end=\" \")"
   ]
  },
  {
   "cell_type": "code",
   "execution_count": 8,
   "id": "b7d0c4e3",
   "metadata": {},
   "outputs": [
    {
     "name": "stdout",
     "output_type": "stream",
     "text": [
      "<class 'set'>\n",
      "<class 'frozenset'>\n",
      "{1, 2, 3, 4, 5}\n",
      "frozenset({0, 9})\n"
     ]
    }
   ],
   "source": [
    "# Frozen Set - A frozen set is a special category of the set which is unchangeable once created.\n",
    "# frozenset()\n",
    "s1={1,2,3,4,5}\n",
    "s2=frozenset(set1)\n",
    "print(type(s1))\n",
    "print(type(s2))\n",
    "print(s1)\n",
    "print(s2)"
   ]
  },
  {
   "cell_type": "code",
   "execution_count": 201,
   "id": "c9ed03a8",
   "metadata": {},
   "outputs": [
    {
     "data": {
      "text/plain": [
       "{1, 2, 3, 4, 5, 7}"
      ]
     },
     "execution_count": 201,
     "metadata": {},
     "output_type": "execute_result"
    }
   ],
   "source": [
    "# Add in Normal Set\n",
    "s1={1,2,3,4,5}\n",
    "s2=s1\n",
    "s2.add(7)\n",
    "s2"
   ]
  },
  {
   "cell_type": "code",
   "execution_count": 7,
   "id": "0b8eb672",
   "metadata": {},
   "outputs": [
    {
     "ename": "AttributeError",
     "evalue": "'frozenset' object has no attribute 'add'",
     "output_type": "error",
     "traceback": [
      "\u001b[1;31m---------------------------------------------------------------------------\u001b[0m",
      "\u001b[1;31mAttributeError\u001b[0m                            Traceback (most recent call last)",
      "\u001b[1;32m~\\AppData\\Local\\Temp/ipykernel_11356/429894355.py\u001b[0m in \u001b[0;36m<module>\u001b[1;34m\u001b[0m\n\u001b[0;32m      2\u001b[0m \u001b[0ms1\u001b[0m\u001b[1;33m=\u001b[0m\u001b[1;33m{\u001b[0m\u001b[1;36m1\u001b[0m\u001b[1;33m,\u001b[0m\u001b[1;36m2\u001b[0m\u001b[1;33m,\u001b[0m\u001b[1;36m3\u001b[0m\u001b[1;33m,\u001b[0m\u001b[1;36m4\u001b[0m\u001b[1;33m,\u001b[0m\u001b[1;36m5\u001b[0m\u001b[1;33m}\u001b[0m\u001b[1;33m\u001b[0m\u001b[1;33m\u001b[0m\u001b[0m\n\u001b[0;32m      3\u001b[0m \u001b[0ms2\u001b[0m\u001b[1;33m=\u001b[0m\u001b[0mfrozenset\u001b[0m\u001b[1;33m(\u001b[0m\u001b[0mset1\u001b[0m\u001b[1;33m)\u001b[0m\u001b[1;33m\u001b[0m\u001b[1;33m\u001b[0m\u001b[0m\n\u001b[1;32m----> 4\u001b[1;33m \u001b[0ms2\u001b[0m\u001b[1;33m.\u001b[0m\u001b[0madd\u001b[0m\u001b[1;33m(\u001b[0m\u001b[1;36m6\u001b[0m\u001b[1;33m)\u001b[0m\u001b[1;33m\u001b[0m\u001b[1;33m\u001b[0m\u001b[0m\n\u001b[0m",
      "\u001b[1;31mAttributeError\u001b[0m: 'frozenset' object has no attribute 'add'"
     ]
    }
   ],
   "source": [
    "# Add in frozenset() - Not Allowed\n",
    "s1={1,2,3,4,5}\n",
    "s2=frozenset(set1)\n",
    "s2.add(6)"
   ]
  },
  {
   "cell_type": "code",
   "execution_count": 9,
   "id": "90dd92c4",
   "metadata": {},
   "outputs": [
    {
     "data": {
      "text/plain": [
       "{0, 9}"
      ]
     },
     "execution_count": 9,
     "metadata": {},
     "output_type": "execute_result"
    }
   ],
   "source": [
    "set1=set((0,9,0))\n",
    "set1"
   ]
  }
 ],
 "metadata": {
  "kernelspec": {
   "display_name": "Python 3 (ipykernel)",
   "language": "python",
   "name": "python3"
  },
  "language_info": {
   "codemirror_mode": {
    "name": "ipython",
    "version": 3
   },
   "file_extension": ".py",
   "mimetype": "text/x-python",
   "name": "python",
   "nbconvert_exporter": "python",
   "pygments_lexer": "ipython3",
   "version": "3.10.0"
  }
 },
 "nbformat": 4,
 "nbformat_minor": 5
}
